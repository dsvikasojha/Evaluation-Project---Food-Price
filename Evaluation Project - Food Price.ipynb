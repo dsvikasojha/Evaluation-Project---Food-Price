{
 "cells": [
  {
   "cell_type": "code",
   "execution_count": 92,
   "metadata": {},
   "outputs": [],
   "source": [
    "import pandas as pd\n",
    "import numpy as np\n",
    "import seaborn as sns\n",
    "import matplotlib.pyplot as plt\n",
    "import warnings\n",
    "warnings.filterwarnings('ignore')"
   ]
  },
  {
   "cell_type": "code",
   "execution_count": 93,
   "metadata": {},
   "outputs": [],
   "source": [
    "ds_train = pd.read_csv('Food_Train.csv')"
   ]
  },
  {
   "cell_type": "code",
   "execution_count": 94,
   "metadata": {},
   "outputs": [
    {
     "data": {
      "text/html": [
       "<div>\n",
       "<style scoped>\n",
       "    .dataframe tbody tr th:only-of-type {\n",
       "        vertical-align: middle;\n",
       "    }\n",
       "\n",
       "    .dataframe tbody tr th {\n",
       "        vertical-align: top;\n",
       "    }\n",
       "\n",
       "    .dataframe thead th {\n",
       "        text-align: right;\n",
       "    }\n",
       "</style>\n",
       "<table border=\"1\" class=\"dataframe\">\n",
       "  <thead>\n",
       "    <tr style=\"text-align: right;\">\n",
       "      <th></th>\n",
       "      <th>TITLE</th>\n",
       "      <th>RESTAURANT_ID</th>\n",
       "      <th>CUISINES</th>\n",
       "      <th>TIME</th>\n",
       "      <th>CITY</th>\n",
       "      <th>LOCALITY</th>\n",
       "      <th>RATING</th>\n",
       "      <th>VOTES</th>\n",
       "      <th>COST</th>\n",
       "    </tr>\n",
       "  </thead>\n",
       "  <tbody>\n",
       "    <tr>\n",
       "      <th>0</th>\n",
       "      <td>CASUAL DINING</td>\n",
       "      <td>9438</td>\n",
       "      <td>Malwani, Goan, North Indian</td>\n",
       "      <td>11am – 4pm, 7:30pm – 11:30pm (Mon-Sun)</td>\n",
       "      <td>Thane</td>\n",
       "      <td>Dombivali East</td>\n",
       "      <td>3.6</td>\n",
       "      <td>49 votes</td>\n",
       "      <td>1200</td>\n",
       "    </tr>\n",
       "    <tr>\n",
       "      <th>1</th>\n",
       "      <td>CASUAL DINING,BAR</td>\n",
       "      <td>13198</td>\n",
       "      <td>Asian, Modern Indian, Japanese</td>\n",
       "      <td>6pm – 11pm (Mon-Sun)</td>\n",
       "      <td>Chennai</td>\n",
       "      <td>Ramapuram</td>\n",
       "      <td>4.2</td>\n",
       "      <td>30 votes</td>\n",
       "      <td>1500</td>\n",
       "    </tr>\n",
       "    <tr>\n",
       "      <th>2</th>\n",
       "      <td>CASUAL DINING</td>\n",
       "      <td>10915</td>\n",
       "      <td>North Indian, Chinese, Biryani, Hyderabadi</td>\n",
       "      <td>11am – 3:30pm, 7pm – 11pm (Mon-Sun)</td>\n",
       "      <td>Chennai</td>\n",
       "      <td>Saligramam</td>\n",
       "      <td>3.8</td>\n",
       "      <td>221 votes</td>\n",
       "      <td>800</td>\n",
       "    </tr>\n",
       "    <tr>\n",
       "      <th>3</th>\n",
       "      <td>QUICK BITES</td>\n",
       "      <td>6346</td>\n",
       "      <td>Tibetan, Chinese</td>\n",
       "      <td>11:30am – 1am (Mon-Sun)</td>\n",
       "      <td>Mumbai</td>\n",
       "      <td>Bandra West</td>\n",
       "      <td>4.1</td>\n",
       "      <td>24 votes</td>\n",
       "      <td>800</td>\n",
       "    </tr>\n",
       "    <tr>\n",
       "      <th>4</th>\n",
       "      <td>DESSERT PARLOR</td>\n",
       "      <td>15387</td>\n",
       "      <td>Desserts</td>\n",
       "      <td>11am – 1am (Mon-Sun)</td>\n",
       "      <td>Mumbai</td>\n",
       "      <td>Lower Parel</td>\n",
       "      <td>3.8</td>\n",
       "      <td>165 votes</td>\n",
       "      <td>300</td>\n",
       "    </tr>\n",
       "  </tbody>\n",
       "</table>\n",
       "</div>"
      ],
      "text/plain": [
       "               TITLE  RESTAURANT_ID  \\\n",
       "0      CASUAL DINING           9438   \n",
       "1  CASUAL DINING,BAR          13198   \n",
       "2      CASUAL DINING          10915   \n",
       "3        QUICK BITES           6346   \n",
       "4     DESSERT PARLOR          15387   \n",
       "\n",
       "                                     CUISINES  \\\n",
       "0                 Malwani, Goan, North Indian   \n",
       "1              Asian, Modern Indian, Japanese   \n",
       "2  North Indian, Chinese, Biryani, Hyderabadi   \n",
       "3                            Tibetan, Chinese   \n",
       "4                                    Desserts   \n",
       "\n",
       "                                     TIME     CITY        LOCALITY RATING  \\\n",
       "0  11am – 4pm, 7:30pm – 11:30pm (Mon-Sun)    Thane  Dombivali East    3.6   \n",
       "1                    6pm – 11pm (Mon-Sun)  Chennai       Ramapuram    4.2   \n",
       "2     11am – 3:30pm, 7pm – 11pm (Mon-Sun)  Chennai      Saligramam    3.8   \n",
       "3                 11:30am – 1am (Mon-Sun)   Mumbai     Bandra West    4.1   \n",
       "4                    11am – 1am (Mon-Sun)   Mumbai     Lower Parel    3.8   \n",
       "\n",
       "       VOTES  COST  \n",
       "0   49 votes  1200  \n",
       "1   30 votes  1500  \n",
       "2  221 votes   800  \n",
       "3   24 votes   800  \n",
       "4  165 votes   300  "
      ]
     },
     "execution_count": 94,
     "metadata": {},
     "output_type": "execute_result"
    }
   ],
   "source": [
    "ds_train.head()"
   ]
  },
  {
   "cell_type": "code",
   "execution_count": 95,
   "metadata": {},
   "outputs": [
    {
     "name": "stdout",
     "output_type": "stream",
     "text": [
      "<class 'pandas.core.frame.DataFrame'>\n",
      "RangeIndex: 12690 entries, 0 to 12689\n",
      "Data columns (total 9 columns):\n",
      " #   Column         Non-Null Count  Dtype \n",
      "---  ------         --------------  ----- \n",
      " 0   TITLE          12690 non-null  object\n",
      " 1   RESTAURANT_ID  12690 non-null  int64 \n",
      " 2   CUISINES       12690 non-null  object\n",
      " 3   TIME           12690 non-null  object\n",
      " 4   CITY           12578 non-null  object\n",
      " 5   LOCALITY       12592 non-null  object\n",
      " 6   RATING         12688 non-null  object\n",
      " 7   VOTES          11486 non-null  object\n",
      " 8   COST           12690 non-null  int64 \n",
      "dtypes: int64(2), object(7)\n",
      "memory usage: 892.4+ KB\n"
     ]
    }
   ],
   "source": [
    "ds_train.info()"
   ]
  },
  {
   "cell_type": "code",
   "execution_count": 96,
   "metadata": {},
   "outputs": [
    {
     "data": {
      "text/plain": [
       "(12690, 9)"
      ]
     },
     "execution_count": 96,
     "metadata": {},
     "output_type": "execute_result"
    }
   ],
   "source": [
    "ds_train.shape"
   ]
  },
  {
   "cell_type": "code",
   "execution_count": 97,
   "metadata": {},
   "outputs": [
    {
     "data": {
      "text/html": [
       "<div>\n",
       "<style scoped>\n",
       "    .dataframe tbody tr th:only-of-type {\n",
       "        vertical-align: middle;\n",
       "    }\n",
       "\n",
       "    .dataframe tbody tr th {\n",
       "        vertical-align: top;\n",
       "    }\n",
       "\n",
       "    .dataframe thead th {\n",
       "        text-align: right;\n",
       "    }\n",
       "</style>\n",
       "<table border=\"1\" class=\"dataframe\">\n",
       "  <thead>\n",
       "    <tr style=\"text-align: right;\">\n",
       "      <th></th>\n",
       "      <th>RESTAURANT_ID</th>\n",
       "      <th>COST</th>\n",
       "    </tr>\n",
       "  </thead>\n",
       "  <tbody>\n",
       "    <tr>\n",
       "      <th>count</th>\n",
       "      <td>12690.000000</td>\n",
       "      <td>12690.000000</td>\n",
       "    </tr>\n",
       "    <tr>\n",
       "      <th>mean</th>\n",
       "      <td>7759.134121</td>\n",
       "      <td>655.252246</td>\n",
       "    </tr>\n",
       "    <tr>\n",
       "      <th>std</th>\n",
       "      <td>4504.874150</td>\n",
       "      <td>627.003540</td>\n",
       "    </tr>\n",
       "    <tr>\n",
       "      <th>min</th>\n",
       "      <td>0.000000</td>\n",
       "      <td>20.000000</td>\n",
       "    </tr>\n",
       "    <tr>\n",
       "      <th>25%</th>\n",
       "      <td>3863.250000</td>\n",
       "      <td>300.000000</td>\n",
       "    </tr>\n",
       "    <tr>\n",
       "      <th>50%</th>\n",
       "      <td>7740.000000</td>\n",
       "      <td>500.000000</td>\n",
       "    </tr>\n",
       "    <tr>\n",
       "      <th>75%</th>\n",
       "      <td>11688.750000</td>\n",
       "      <td>800.000000</td>\n",
       "    </tr>\n",
       "    <tr>\n",
       "      <th>max</th>\n",
       "      <td>15573.000000</td>\n",
       "      <td>14000.000000</td>\n",
       "    </tr>\n",
       "  </tbody>\n",
       "</table>\n",
       "</div>"
      ],
      "text/plain": [
       "       RESTAURANT_ID          COST\n",
       "count   12690.000000  12690.000000\n",
       "mean     7759.134121    655.252246\n",
       "std      4504.874150    627.003540\n",
       "min         0.000000     20.000000\n",
       "25%      3863.250000    300.000000\n",
       "50%      7740.000000    500.000000\n",
       "75%     11688.750000    800.000000\n",
       "max     15573.000000  14000.000000"
      ]
     },
     "execution_count": 97,
     "metadata": {},
     "output_type": "execute_result"
    }
   ],
   "source": [
    "ds_train.describe()"
   ]
  },
  {
   "cell_type": "code",
   "execution_count": 98,
   "metadata": {},
   "outputs": [
    {
     "data": {
      "text/plain": [
       "TITLE               0\n",
       "RESTAURANT_ID       0\n",
       "CUISINES            0\n",
       "TIME                0\n",
       "CITY              112\n",
       "LOCALITY           98\n",
       "RATING              2\n",
       "VOTES            1204\n",
       "COST                0\n",
       "dtype: int64"
      ]
     },
     "execution_count": 98,
     "metadata": {},
     "output_type": "execute_result"
    }
   ],
   "source": [
    "ds_train.isnull().sum()"
   ]
  },
  {
   "cell_type": "markdown",
   "metadata": {},
   "source": [
    "### HANGLING NAN VALUES"
   ]
  },
  {
   "cell_type": "code",
   "execution_count": 99,
   "metadata": {},
   "outputs": [],
   "source": [
    "ds_train['CITY'] = ds_train['CITY'].replace(np.nan,'Unknown')"
   ]
  },
  {
   "cell_type": "code",
   "execution_count": 100,
   "metadata": {},
   "outputs": [],
   "source": [
    "ds_train['VOTES'] = ds_train['VOTES'].fillna('20')"
   ]
  },
  {
   "cell_type": "code",
   "execution_count": 101,
   "metadata": {},
   "outputs": [],
   "source": [
    "ds_train['LOCALITY'] = ds_train['LOCALITY'].replace(np.nan,'Blank')"
   ]
  },
  {
   "cell_type": "code",
   "execution_count": 102,
   "metadata": {},
   "outputs": [],
   "source": [
    "ds_train['RATING'] = ds_train['RATING'].replace(np.nan,'3.2')"
   ]
  },
  {
   "cell_type": "code",
   "execution_count": 103,
   "metadata": {},
   "outputs": [
    {
     "data": {
      "text/plain": [
       "TITLE            0\n",
       "RESTAURANT_ID    0\n",
       "CUISINES         0\n",
       "TIME             0\n",
       "CITY             0\n",
       "LOCALITY         0\n",
       "RATING           0\n",
       "VOTES            0\n",
       "COST             0\n",
       "dtype: int64"
      ]
     },
     "execution_count": 103,
     "metadata": {},
     "output_type": "execute_result"
    }
   ],
   "source": [
    "ds_train.isnull().sum()"
   ]
  },
  {
   "cell_type": "code",
   "execution_count": 104,
   "metadata": {
    "scrolled": false
   },
   "outputs": [
    {
     "data": {
      "text/plain": [
       "array(['Thane', 'Chennai', 'Mumbai', 'Bangalore', 'Gurgaon', 'Hyderabad',\n",
       "       'Kochi', 'Thane West', 'Andheri Lokhandwala', 'New Delhi',\n",
       "       'Andheri West', 'Malad East', '682036', 'Bangalor', 'Navi Mumbai',\n",
       "       'Bandra West', 'Delhi', 'Noida', 'Bangalore-560066',\n",
       "       'Secunderabad', 'Unknown', 'India', 'Madhuranagar',\n",
       "       'Chennai Teynampet', 'Faridabad', 'Chembur.', 'Maharashtra',\n",
       "       'opp gurudwara Shakurpur', 'Telagana Land Line:040-48507016',\n",
       "       'Ghaziabad', 'Karnataka', 'Kerala', 'Edappally', 'Kadavanthra',\n",
       "       'Ernakulam Circle kochi', 'Bengalore', 'Near Reliance Fresh',\n",
       "       'Kilpauk', 'Bengaluru', 'Kothaguda', 'Goregaon West', 'Banglore',\n",
       "       'Tamil Nadu', 'Kakkanad', 'Kochi Elamkulam', 'Outer Ring Road',\n",
       "       'Mulund East', 'Secunderabad main road near signal NMREC COLLEGE',\n",
       "       'Telangana', 'Ponnuruni Kochi', 'Gachibowli', 'Semmancheri',\n",
       "       '5th Main Teachers Colony Koramangala Block 1 Bangalore 560034',\n",
       "       'Mumbai Mahim', 'Powai (Next to Powai Plaza)', 'Dombivali East',\n",
       "       'Kochi Vyttila', 'Kandivali', 'Kochi Palarivattom',\n",
       "       'Dewan Rama Road', 'Gurugram', 'Sector 51 Noida', 'Kaloor',\n",
       "       'Besant Nagar', 'Arumbakkam chennai-600106.',\n",
       "       'Adjacent To Commercial Street', 'Delhi NCR', 'Dwarka', '682035.',\n",
       "       'Kalyan West', 'Avadi', 'Kondapur', 'Mehdipatnam', 'Gandipet',\n",
       "       'Velachery', 'Pallavaram', 'Vijaya Nagar', 'BTM Layout',\n",
       "       'Chennai 600034.',\n",
       "       'Metro Pillar No 21. Mettuguda main road near railway degree college.',\n",
       "       'Chennai - 600040', 'JP Nagar Bangalore', 'Madhapur', 'Ernakulam',\n",
       "       'Sarjapur', 'Whitefield Bangalore', 'Kochi Chullickal',\n",
       "       'Kochi-683101', 'Bangalore - 560076', 'Rohini',\n",
       "       'Hyderabad Behind Vacs Pastries', 'Hyderabad neerus emporium.',\n",
       "       'Navi Mumbai.', 'Karol Bagh', 'Perungudi', 'Thykoodam',\n",
       "       'Greater Noida', 'Bangalore.', 'Khairatabad', 'chullickal',\n",
       "       'Grant Road West', 'Hitech City', 'West Maredpally',\n",
       "       'Mumbai - 400007', 'Chennai Padur', 'Chander Nagar New Delhi',\n",
       "       'Nedumbassery', 'MG Road', 'Naya Nagar Mira Road', 'Pitampura',\n",
       "       'Lower Parel', 'HBR Layout', 'Telangana 500003',\n",
       "       'Rajiv gandhi Nagar', 'New Delhi.', 'Medavakkam', 'Sathya Nagar',\n",
       "       'p.o Kochi', 'Behind Ramalayam Temple', 'Palarivattom',\n",
       "       'Brigade Road', 'Mumbai.', 'Mumbai Andheri East', 'Virar West',\n",
       "       'B-1 Stage', 'Chennai Kovalam', 'Hyderabad.', 'Aluva',\n",
       "       'Telangana 500034', 'IOB Bank Kamala Nagar', 'HSR Layout',\n",
       "       'Marine Drive', 'DLF Galleria', 'Nallathambi Main Road',\n",
       "       'Chennai opp: Vasanth & co', 'Citypark', 'Karnataka 560103',\n",
       "       'Bhayandar', 'Aluva Circle', 'Thammenahalli Village', 'SG Palya',\n",
       "       'Attapur.', 'Near Shangrilla Bus Stop', 'Khar (west)', 'Road 3',\n",
       "       'Kukatpally', 'Faridabd', 'Telangana 500032', 'Dilsukhnagar',\n",
       "       'Mogappair. Chennai', 'Near Munrshwara Temple', 'Off Brigade Road',\n",
       "       'khar west', 'Potheri', 'Chennai Perungudi',\n",
       "       'Chennai Thuraipakkam', 'OMR Karapakkam', 'Hyderabad-500032',\n",
       "       'Mumbai Dombivali East', 'Chennai Thousand Lights', 'Mahim',\n",
       "       'Lingampally', 'Powai', 'New Delhi-110024', 'Chennai- 600107',\n",
       "       'Kerala 683104', 'Vasai West.', 'Thane (W)',\n",
       "       'Near Santosh Banjara Hyderabad',\n",
       "       'Banaswadi (Next to Indian Bank) Bangalore', 'BTM Bangalore',\n",
       "       'Greater Kailash 2 New Delhi', 'Secunderabad ECIL',\n",
       "       'Bangalore Koramangala 7th Block', 'bangalore : 560085',\n",
       "       'navi mumbai', 'Gachibowli Hyderabad',\n",
       "       'CPR layout harlur main road opposite to ozone ever green apartment Bangalore -',\n",
       "       'ECR NEELANKARAI Chennai 600115', 'ward X11', 'kochi',\n",
       "       'Perumbavoor', 'Mira raod east', 'Kerala 682013', 'Chennai.',\n",
       "       'Pokhran Road 2', 'Uttar Pradesh', 'Karnataka 560102',\n",
       "       'Mumbai - 400013', 'Naharpar', 'Hosur Road',\n",
       "       'Near Bharat Petroleum.', 'Chennai (Bang Opposite Indian Bank)',\n",
       "       'Sriram nagar', 'West Mumbai', 'Vyttila', 'Banjara Hills',\n",
       "       'MALAPALLIPURAM P .O THRISSUR', 'Andheri west Mumbai',\n",
       "       'Karnataka 560043', 'Panampilly Nagar', 'hyderabad',\n",
       "       'Borivali East.', 'ECIL', 'Jubilee Hills',\n",
       "       'Amrit kaur market opposite new delhi railway station paharganj',\n",
       "       'Chennai Opposite 5C Bus stand', 'Telengana', 'Kochi Ravipuram',\n",
       "       'Rajanpada', 'Mahabalipuram', 'Secunderabad. WE HAVE NO BRANCHES.',\n",
       "       'Telangana 500081', 'Gurgoan', 'Elamakkara', 'Sector 1',\n",
       "       'Bandra W', 'Kolathur', 'Chennai Mahabalipuram', '3rd Street',\n",
       "       'Mumbai Chakala', 'Borivali West', 'Rodeo Drive Sector 49',\n",
       "       'Pallimukku', 'Delhi 110085', 'Sector 51', 'Champapet',\n",
       "       'Andavar Nagar', 'Bangalore - 560103', 'Kerala 690525',\n",
       "       'opp mukteshwar ashram powai', 'Nungambakkam', 'BK Guda',\n",
       "       'Jogeshwari (w) Mumbai', 'Kukatapally', 'Near Sector 110 Noida',\n",
       "       'Navallur', 'Beside Excellency Gardens', 'Mumbai - 80', 'Begumpet',\n",
       "       'Maharaja Hotel Beside Gardania Bar', 'Ashok Vihar Phase 1',\n",
       "       'Trivandrum', 'Kochi-18', 'Narayanguda', 'Thevera', 'Chennai-40',\n",
       "       'Palm Beach Road', 'East Coast Road (ECR)', 'Ramapuram',\n",
       "       'Chennai Chrompet', 'Nandanam', 'Saket', 'MG Road Ernakulam',\n",
       "       'Andheri Lokhandwala.', 'Indiranagar', 'Thiruvanmiyur', 'Ambattur',\n",
       "       'Banglaore', 'Chennai - 34 Landmark - Near Loyola College',\n",
       "       'Anna Nagar West', 'Old Railway Road', 'East Mumbai',\n",
       "       'Kanakapura Road Banglore', 'Kochi Kakkanad', 'Kalyan',\n",
       "       'Near Ramlila Ground', 'Serilingampally', 'Himayath Nagar',\n",
       "       'Nallala Street', 'Anna Salai', 'Old Delhi', 'Wagle Estate',\n",
       "       '1st Stage', 'Kochi-16', 'Kochi International Airport VIP Road',\n",
       "       'First Street', 'Chenn ai', '6 & 7 - 4/64 Subhash Nagar',\n",
       "       '1st Tavarekere', 'Perambur', 'Vaishali Ghaziabad', 'Thanisandra',\n",
       "       'Block F', 'Sector 7 Dwarka', 'Opposite Barathi Gas Company',\n",
       "       'Vadapalani', 'Kondapur.', 'Badlapur West.', 'Kalamassery',\n",
       "       'Palavakkam', 'TCS Synergy park', 'BTM 1st Stage', 'Mahadevpura',\n",
       "       'NEW BEL ROAD 560054',\n",
       "       'Veliaveetil house Vivekananda Nagar Elamakkara', 'Sholinganallur',\n",
       "       'Maharashtra 400102', 'Lower Parel West', 'Tripunithura',\n",
       "       'Mogappair', 'Telangana 500070', 'JP Nagar', 'Navi-Mumbai',\n",
       "       'Ashok Nagar', 'Marathahalli', 'Haridwar Apartments',\n",
       "       'Kerala 682001 India', 'Karnataka 560037', 'Kerala 683585',\n",
       "       'Chennai. (Near Hotel Matshya)', 'Indirapuram',\n",
       "       'Begumpet Hyderabad', 'Manikonda',\n",
       "       'Bangalore land mark above mahaveer hard ware', 'Kerala 682304',\n",
       "       'Rajarajeshwari Nagar bangalore', 'GST Road', 'Fort Kochi',\n",
       "       'Lahari Apartments', 'Ramanthapur', 'Mulund west',\n",
       "       'Gurgaon Haryana India', 'New Delhi..Near by SBI bank',\n",
       "       'Kochi Aluva 102', 'Phase 1 Bangalore', 'Hyderabad Manikonda',\n",
       "       'Mumbai This is a Delivery & Take-away Restaurant only.',\n",
       "       '10th avenue', 'Uppal', 'New Delhi 110075', 'Nizampet', 'Ulsoo',\n",
       "       'Bangalore 560076', 'PVR plaza cinema building Connaught Place',\n",
       "       'Gurgaon Haryana', 'Chromepet', 'Kerala 682024', 'Janakpuri',\n",
       "       'Secunderabad.', 'chennai', 'B.B.M.P East (Karnataka) - 560049',\n",
       "       'Tambaram', 'Malleshwaram Bangalore', 'Vadapalani.',\n",
       "       'Dist. Center New Delhi', 'Bangalore Road', 'aluva circle',\n",
       "       'Kochi.', 'Thane Mumbai', 'Kadubesanahalli Bangalore',\n",
       "       'Vasai west', 'Mig Housing Society', 'Haryana', 'Borivali West.',\n",
       "       'Golf Course Road', 'Khar Mumbai', 'Near Jyothinivas College',\n",
       "       'Anna Nagar East', 'Masab Tank'], dtype=object)"
      ]
     },
     "execution_count": 104,
     "metadata": {},
     "output_type": "execute_result"
    }
   ],
   "source": [
    "ds_train['CITY'].unique()"
   ]
  },
  {
   "cell_type": "markdown",
   "metadata": {},
   "source": [
    "## Handling Duplicate Entries"
   ]
  },
  {
   "cell_type": "code",
   "execution_count": 105,
   "metadata": {},
   "outputs": [],
   "source": [
    "ds_train['CITY'].replace(['Bangalor','Bangalore-560066','Bengalore','Bengaluru','Banglore',\n",
    "                    '5th Main Teachers Colony Koramangala Block 1 Bangalore 560034','BTM Layout','JP Nagar Bangalore',\n",
    "                    'Whitefield Bangalore','Bangalore - 560076','Bangalore.','Banaswadi (Next to Indian Bank) Bangalore',\n",
    "                    'BTM Bangalore','Bangalore Koramangala 7th Block','bangalore : 560085','Near Jyothinivas College'\n",
    "                    'CPR layout harlur main road opposite to ozone ever green apartment Bangalore -',\n",
    "                    'Karnataka 560043','Bangalore - 560103','Banglaore','Kanakapura Road Banglore','BTM 1st Stage',\n",
    "                    'Marathahalli','Bangalore land mark above mahaveer hard ware','Phase 1 Bangalore','Bangalore 560076',\n",
    "                    'Bangalore Road','Karnataka','Karnataka 560103','SG Palya','Karnataka 560102','Karnataka 560037',\n",
    "                    'B.B.M.P East (Karnataka) - 560049','Malleshwaram Bangalore', 'Kadubesanahalli Bangalore',\n",
    "                    'Mahadevpura','NEW BEL ROAD 560054','JP Nagar','Rajarajeshwari Nagar bangalore',\n",
    "                    'Ulsoo','1st Tavarekere','Thanisandra','Indiranagar','HSR Layout','Adjacent To Commercial Street',\n",
    "                    'Vijaya Nagar','Sarjapur','Rajiv gandhi Nagar','Brigade Road','Thammenahalli Village',\n",
    "                    'Near Munrshwara Temple','Off Brigade Road','Hosur Road','Opposite Barathi Gas Company','Indirapuram',\n",
    "                    'Near Jyothinivas College','CPR layout harlur main road opposite to ozone ever green apartment Bangalore -'\n",
    "                   ],'Bangalore',inplace=True)"
   ]
  },
  {
   "cell_type": "code",
   "execution_count": 106,
   "metadata": {},
   "outputs": [],
   "source": [
    "ds_train['CITY'].replace(['Chennai Teynampet','Tamil Nadu','Besant Nagar','Arumbakkam chennai-600106.',\n",
    "                    'Avadi', 'Velachery','Pallavaram','Chennai 600034.','Chennai - 600040', 'Perungudi',\n",
    "                    'Chennai Padur', 'Medavakkam', 'Chennai Kovalam', 'Chennai opp: Vasanth & co',  \n",
    "                    'Mogappair. Chennai', 'Chennai Perungudi', 'Chennai Thuraipakkam', 'OMR Karapakkam',\n",
    "                    'Chennai Thousand Lights',  'Chennai- 600107', 'ECR NEELANKARAI Chennai 600115',\n",
    "                    'Chennai.', 'Chennai (Bang Opposite Indian Bank)','Chennai Opposite 5C Bus stand', \n",
    "                    'Mahabalipuram', 'Chennai Mahabalipuram', 'Nungambakkam','Chennai-40',\n",
    "                    'East Coast Road (ECR)', 'Ramapuram', 'Chennai Chrompet','Nandanam','Thiruvanmiyur', \n",
    "                    'Ambattur','Chennai - 34 Landmark - Near Loyola College', 'Anna Nagar West', \n",
    "                    'Anna Salai','Chenn ai', 'Perambur', 'Vadapalani','Palavakkam','Sholinganallur',\n",
    "                    'Mogappair', 'Ashok Nagar', 'Chennai. (Near Hotel Matshya)',  'Chromepet',\n",
    "                    'chennai','Tambaram','Vadapalani', 'Anna Nagar East','Kilpauk','Potheri',\n",
    "                    'GST Road', 'Vadapalani.','Semmancheri','Dewan Rama Road','Navallur','Kolathur','Sathya Nagar',\n",
    "                    'Nallathambi Main Road','Andavar Nagar','Nallala Street'],'Chennai', inplace=True)"
   ]
  },
  {
   "cell_type": "code",
   "execution_count": 107,
   "metadata": {},
   "outputs": [],
   "source": [
    "ds_train['CITY'].replace(['Telagana Land Line:040-48507016', 'Telangana','Gachibowli','Kondapur', 'Madhapur',\n",
    "                    'Hyderabad Behind Vacs Pastries','Hyderabad neerus emporium.', 'Hitech City',\n",
    "                    'Telangana 500003','Hyderabad.', 'Telangana 500034','Telangana 500032',\n",
    "                    'Hyderabad-500032','Near Santosh Banjara Hyderabad','Gachibowli Hyderabad',\n",
    "                    'hyderabad', 'Telengana','Telangana 500081','Kondapur.',  'Telangana 500070',\n",
    "                    'Begumpet Hyderabad','Hyderabad Manikonda','Jubilee Hills','Madhuranagar','Kothaguda','Mehdipatnam',\n",
    "                    'Gandipet','Khairatabad','Behind Ramalayam Temple','West Maredpally','Kukatpally','Lingampally',\n",
    "                    'Kukatapally','Serilingampally','Attapur.','Dilsukhnagar','Sriram nagar','ECIL','Champapet',\n",
    "                    'Beside Excellency Gardens','Begumpet','Maharaja Hotel Beside Gardania Bar','Narayanguda',\n",
    "                    'Himayath Nagar','TCS Synergy park','Manikonda','Lahari Apartments','Haridwar Apartments','Ramanthapur',\n",
    "                    '10th avenue', 'Uppal','Nizampet','Near Reliance Fresh', 'Thykoodam', 'chullickal', 'Nedumbassery',\n",
    "                    'B-1 Stage', 'Aluva', 'Citypark', 'Aluva Circle', 'ward X11','Perumbavoor', 'Near Bharat Petroleum.',\n",
    "                    '3rd Street','Pallimukku', 'Trivandrum', 'Thevera', 'Old Railway Road','1st Stage', 'First Street',\n",
    "                    'Block F', 'Kalamassery','Veliaveetil house Vivekananda Nagar Elamakkara', 'Tripunithura',\n",
    "                    'aluva circle', 'Mig Housing Society', 'Masab Tank'],'Hyderabad',inplace=True)"
   ]
  },
  {
   "cell_type": "code",
   "execution_count": 108,
   "metadata": {},
   "outputs": [],
   "source": [
    "ds_train['CITY'].replace(['Kerala', 'Edappally','Ernakulam Circle kochi','Kochi Elamkulam','Ponnuruni Kochi', \n",
    "                    'Kochi Vyttila', 'Kochi Palarivattom','Ernakulam', 'Kochi Chullickal','Kochi-683101',\n",
    "                    'p.o Kochi','Kerala 683104','Kerala 682013','MALAPALLIPURAM P .O THRISSUR','Kochi Ravipuram',\n",
    "                    'Kerala 690525','Kochi-18','MG Road Ernakulam','Kochi Kakkanad','Kochi International Airport VIP Road',\n",
    "                    'Kerala 682001 India', 'Kerala 683585', 'Kerala 682304','Fort Kochi','Kochi Aluva 102', 'Kerala 682024',\n",
    "                    'Kochi','Kakkanad','Kaloor','Palarivattom','Kochi-16','682036','682035','Kadavanthra','682035.','kochi',\n",
    "                    'Vyttila','Panampilly Nagar','Elamakkara','Kochi.'],'Kochi',inplace=True)"
   ]
  },
  {
   "cell_type": "code",
   "execution_count": 109,
   "metadata": {},
   "outputs": [],
   "source": [
    "ds_train['CITY'].replace(['Secunderabad', 'Secunderabad main road near signal NMREC COLLEGE','Secunderabad ECIL',\n",
    "                    'Secunderabad. WE HAVE NO BRANCHES.','Secunderabad.',\n",
    "                    'Metro Pillar No 21. Mettuguda main road near railway degree college.','Secunderabad'],\n",
    "                    'Secunderabad',inplace=True)"
   ]
  },
  {
   "cell_type": "code",
   "execution_count": 110,
   "metadata": {},
   "outputs": [],
   "source": [
    "ds_train['CITY'].replace(['Mumbai','Navi Mumbai','Mumbai Mahim','Navi Mumbai.', 'Mumbai - 400007',\n",
    "                    'Mumbai.','Mumbai Andheri East','Mumbai Dombivali East','navi mumbai',\n",
    "                    'Mumbai - 400013','West Mumbai','Andheri west Mumbai','Mumbai Chakala',\n",
    "                    'BK Guda', 'Jogeshwari (w) Mumbai','Mumbai - 80','East Mumbai','Navi-Mumbai',\n",
    "                    'Mumbai This is a Delivery & Take-away Restaurant only.','Thane Mumbai',\n",
    "                    'Khar Mumbai','Andheri Lokhandwala','Andheri West','Andheri Lokhandwala.',\n",
    "                    'Thane','Thane West','Thane (W)','Maharashtra','Maharashtra 400102','Bandra West',\n",
    "                    'Powai','Malad East','Goregaon West','Mulund East','Powai (Next to Powai Plaza)',\n",
    "                    'Outer Ring Road','Chembur.','Dombivali East','Kandivali', 'Kalyan West','Grant Road West',\n",
    "                    'Naya Nagar Mira Road', 'Lower Parel', 'HBR Layout','Virar West','Marine Drive','Bhayandar',\n",
    "                    'Khar (west)','khar west', 'Mahim','Vasai West.','Mira raod east','Pokhran Road 2','Banjara Hills',\n",
    "                    'Borivali East.','Bandra W','Borivali West','opp mukteshwar ashram powai','Kalyan','Wagle Estate',\n",
    "                    'Badlapur West.','Lower Parel West','Mulund west','Borivali West.','Vasai west','Rajanpada',\n",
    "                    'Near Shangrilla Bus Stop', 'Road 3','Palm Beach Road','India'],'Mumbai',inplace=True)"
   ]
  },
  {
   "cell_type": "code",
   "execution_count": 111,
   "metadata": {},
   "outputs": [],
   "source": [
    "ds_train['CITY'].replace(['New Delhi','Delhi','Chander Nagar New Delhi','New Delhi.','New Delhi-110024',\n",
    "                    'Greater Kailash 2 New Delhi','Amrit kaur market opposite new delhi railway station paharganj',\n",
    "                    'Delhi 110085','Old Delhi','New Delhi..Near by SBI bank','New Delhi 110075','Janakpuri',\n",
    "                    'Dist. Center New Delhi','opp gurudwara Shakurpur','Rohini', 'Karol Bagh','Dwarka','Pitampura',\n",
    "                    '6 & 7 - 4/64 Subhash Nagar','Sector 7 Dwarka','PVR plaza cinema building Connaught Place',\n",
    "                    'Saket','Near Ramlila Ground','IOB Bank Kamala Nagar','Ashok Vihar Phase 1',],'New Delhi',inplace=True)"
   ]
  },
  {
   "cell_type": "code",
   "execution_count": 112,
   "metadata": {},
   "outputs": [],
   "source": [
    "ds_train['CITY'].replace(['Noida','Sector 51 Noida','Greater Noida','Near Sector 110 Noida','Faridabad','Ghaziabad','Faridabd',\n",
    "                    'Uttar Pradesh', 'Naharpar','Vaishali Ghaziabad'],'Delhi NCR',inplace=True)"
   ]
  },
  {
   "cell_type": "code",
   "execution_count": 113,
   "metadata": {},
   "outputs": [],
   "source": [
    "ds_train['CITY'].replace(['Gurgaon','Gurgoan','Gurgaon Haryana India','Gurgaon Haryana','MG Road','Haryana','Gurugram'\n",
    "                    'Golf Course Road','DLF Galleria','Rodeo Drive Sector 49','Sector 51','Sector 1','Golf Course Road'],\n",
    "                    'Gurgaon',inplace=True)"
   ]
  },
  {
   "cell_type": "code",
   "execution_count": 114,
   "metadata": {
    "scrolled": false
   },
   "outputs": [
    {
     "data": {
      "text/plain": [
       "array(['Mumbai', 'Chennai', 'Bangalore', 'Gurgaon', 'Hyderabad', 'Kochi',\n",
       "       'New Delhi', 'Delhi NCR', 'Secunderabad', 'Unknown', 'Gurugram'],\n",
       "      dtype=object)"
      ]
     },
     "execution_count": 114,
     "metadata": {},
     "output_type": "execute_result"
    }
   ],
   "source": [
    "ds_train['CITY'].unique()"
   ]
  },
  {
   "cell_type": "code",
   "execution_count": 115,
   "metadata": {},
   "outputs": [
    {
     "data": {
      "text/plain": [
       "array(['Dombivali East', 'Ramapuram', 'Saligramam', ..., 'Market Road',\n",
       "       'Near Perambur', 'Near Malviya Nagar'], dtype=object)"
      ]
     },
     "execution_count": 115,
     "metadata": {},
     "output_type": "execute_result"
    }
   ],
   "source": [
    "ds_train['LOCALITY'].unique()"
   ]
  },
  {
   "cell_type": "code",
   "execution_count": 116,
   "metadata": {},
   "outputs": [
    {
     "data": {
      "text/html": [
       "<div>\n",
       "<style scoped>\n",
       "    .dataframe tbody tr th:only-of-type {\n",
       "        vertical-align: middle;\n",
       "    }\n",
       "\n",
       "    .dataframe tbody tr th {\n",
       "        vertical-align: top;\n",
       "    }\n",
       "\n",
       "    .dataframe thead th {\n",
       "        text-align: right;\n",
       "    }\n",
       "</style>\n",
       "<table border=\"1\" class=\"dataframe\">\n",
       "  <thead>\n",
       "    <tr style=\"text-align: right;\">\n",
       "      <th></th>\n",
       "      <th>count</th>\n",
       "      <th>mean</th>\n",
       "      <th>std</th>\n",
       "      <th>min</th>\n",
       "      <th>25%</th>\n",
       "      <th>50%</th>\n",
       "      <th>75%</th>\n",
       "      <th>max</th>\n",
       "    </tr>\n",
       "    <tr>\n",
       "      <th>CITY</th>\n",
       "      <th></th>\n",
       "      <th></th>\n",
       "      <th></th>\n",
       "      <th></th>\n",
       "      <th></th>\n",
       "      <th></th>\n",
       "      <th></th>\n",
       "      <th></th>\n",
       "    </tr>\n",
       "  </thead>\n",
       "  <tbody>\n",
       "    <tr>\n",
       "      <th>Bangalore</th>\n",
       "      <td>2258.0</td>\n",
       "      <td>668.161647</td>\n",
       "      <td>631.732226</td>\n",
       "      <td>100.0</td>\n",
       "      <td>300.0</td>\n",
       "      <td>500.0</td>\n",
       "      <td>800.0</td>\n",
       "      <td>14000.0</td>\n",
       "    </tr>\n",
       "    <tr>\n",
       "      <th>Chennai</th>\n",
       "      <td>2255.0</td>\n",
       "      <td>590.039911</td>\n",
       "      <td>561.073132</td>\n",
       "      <td>50.0</td>\n",
       "      <td>300.0</td>\n",
       "      <td>400.0</td>\n",
       "      <td>650.0</td>\n",
       "      <td>5500.0</td>\n",
       "    </tr>\n",
       "    <tr>\n",
       "      <th>Delhi NCR</th>\n",
       "      <td>438.0</td>\n",
       "      <td>578.812785</td>\n",
       "      <td>456.127322</td>\n",
       "      <td>100.0</td>\n",
       "      <td>300.0</td>\n",
       "      <td>450.0</td>\n",
       "      <td>650.0</td>\n",
       "      <td>3800.0</td>\n",
       "    </tr>\n",
       "    <tr>\n",
       "      <th>Gurgaon</th>\n",
       "      <td>390.0</td>\n",
       "      <td>845.769231</td>\n",
       "      <td>736.202162</td>\n",
       "      <td>100.0</td>\n",
       "      <td>400.0</td>\n",
       "      <td>550.0</td>\n",
       "      <td>1200.0</td>\n",
       "      <td>5500.0</td>\n",
       "    </tr>\n",
       "    <tr>\n",
       "      <th>Gurugram</th>\n",
       "      <td>7.0</td>\n",
       "      <td>642.857143</td>\n",
       "      <td>556.348640</td>\n",
       "      <td>100.0</td>\n",
       "      <td>350.0</td>\n",
       "      <td>500.0</td>\n",
       "      <td>700.0</td>\n",
       "      <td>1800.0</td>\n",
       "    </tr>\n",
       "    <tr>\n",
       "      <th>Hyderabad</th>\n",
       "      <td>1930.0</td>\n",
       "      <td>592.224352</td>\n",
       "      <td>512.619939</td>\n",
       "      <td>60.0</td>\n",
       "      <td>300.0</td>\n",
       "      <td>450.0</td>\n",
       "      <td>700.0</td>\n",
       "      <td>8000.0</td>\n",
       "    </tr>\n",
       "    <tr>\n",
       "      <th>Kochi</th>\n",
       "      <td>1369.0</td>\n",
       "      <td>429.962747</td>\n",
       "      <td>389.843985</td>\n",
       "      <td>20.0</td>\n",
       "      <td>200.0</td>\n",
       "      <td>300.0</td>\n",
       "      <td>500.0</td>\n",
       "      <td>4500.0</td>\n",
       "    </tr>\n",
       "    <tr>\n",
       "      <th>Mumbai</th>\n",
       "      <td>2252.0</td>\n",
       "      <td>839.320604</td>\n",
       "      <td>762.235443</td>\n",
       "      <td>50.0</td>\n",
       "      <td>400.0</td>\n",
       "      <td>600.0</td>\n",
       "      <td>1000.0</td>\n",
       "      <td>10000.0</td>\n",
       "    </tr>\n",
       "    <tr>\n",
       "      <th>New Delhi</th>\n",
       "      <td>1364.0</td>\n",
       "      <td>776.994135</td>\n",
       "      <td>766.823290</td>\n",
       "      <td>50.0</td>\n",
       "      <td>300.0</td>\n",
       "      <td>500.0</td>\n",
       "      <td>962.5</td>\n",
       "      <td>5500.0</td>\n",
       "    </tr>\n",
       "    <tr>\n",
       "      <th>Secunderabad</th>\n",
       "      <td>315.0</td>\n",
       "      <td>456.984127</td>\n",
       "      <td>236.613817</td>\n",
       "      <td>50.0</td>\n",
       "      <td>300.0</td>\n",
       "      <td>400.0</td>\n",
       "      <td>600.0</td>\n",
       "      <td>1500.0</td>\n",
       "    </tr>\n",
       "    <tr>\n",
       "      <th>Unknown</th>\n",
       "      <td>112.0</td>\n",
       "      <td>558.035714</td>\n",
       "      <td>414.519888</td>\n",
       "      <td>100.0</td>\n",
       "      <td>337.5</td>\n",
       "      <td>500.0</td>\n",
       "      <td>650.0</td>\n",
       "      <td>3000.0</td>\n",
       "    </tr>\n",
       "  </tbody>\n",
       "</table>\n",
       "</div>"
      ],
      "text/plain": [
       "               count        mean         std    min    25%    50%     75%  \\\n",
       "CITY                                                                        \n",
       "Bangalore     2258.0  668.161647  631.732226  100.0  300.0  500.0   800.0   \n",
       "Chennai       2255.0  590.039911  561.073132   50.0  300.0  400.0   650.0   \n",
       "Delhi NCR      438.0  578.812785  456.127322  100.0  300.0  450.0   650.0   \n",
       "Gurgaon        390.0  845.769231  736.202162  100.0  400.0  550.0  1200.0   \n",
       "Gurugram         7.0  642.857143  556.348640  100.0  350.0  500.0   700.0   \n",
       "Hyderabad     1930.0  592.224352  512.619939   60.0  300.0  450.0   700.0   \n",
       "Kochi         1369.0  429.962747  389.843985   20.0  200.0  300.0   500.0   \n",
       "Mumbai        2252.0  839.320604  762.235443   50.0  400.0  600.0  1000.0   \n",
       "New Delhi     1364.0  776.994135  766.823290   50.0  300.0  500.0   962.5   \n",
       "Secunderabad   315.0  456.984127  236.613817   50.0  300.0  400.0   600.0   \n",
       "Unknown        112.0  558.035714  414.519888  100.0  337.5  500.0   650.0   \n",
       "\n",
       "                  max  \n",
       "CITY                   \n",
       "Bangalore     14000.0  \n",
       "Chennai        5500.0  \n",
       "Delhi NCR      3800.0  \n",
       "Gurgaon        5500.0  \n",
       "Gurugram       1800.0  \n",
       "Hyderabad      8000.0  \n",
       "Kochi          4500.0  \n",
       "Mumbai        10000.0  \n",
       "New Delhi      5500.0  \n",
       "Secunderabad   1500.0  \n",
       "Unknown        3000.0  "
      ]
     },
     "execution_count": 116,
     "metadata": {},
     "output_type": "execute_result"
    }
   ],
   "source": [
    "ds_train.groupby('CITY')['COST'].describe()"
   ]
  },
  {
   "cell_type": "code",
   "execution_count": 117,
   "metadata": {},
   "outputs": [
    {
     "name": "stdout",
     "output_type": "stream",
     "text": [
      "<class 'pandas.core.frame.DataFrame'>\n",
      "RangeIndex: 12690 entries, 0 to 12689\n",
      "Data columns (total 9 columns):\n",
      " #   Column         Non-Null Count  Dtype \n",
      "---  ------         --------------  ----- \n",
      " 0   TITLE          12690 non-null  object\n",
      " 1   RESTAURANT_ID  12690 non-null  int64 \n",
      " 2   CUISINES       12690 non-null  object\n",
      " 3   TIME           12690 non-null  object\n",
      " 4   CITY           12690 non-null  object\n",
      " 5   LOCALITY       12690 non-null  object\n",
      " 6   RATING         12690 non-null  object\n",
      " 7   VOTES          12690 non-null  object\n",
      " 8   COST           12690 non-null  int64 \n",
      "dtypes: int64(2), object(7)\n",
      "memory usage: 892.4+ KB\n"
     ]
    }
   ],
   "source": [
    "ds_train.info()"
   ]
  },
  {
   "cell_type": "markdown",
   "metadata": {},
   "source": [
    "# Expanding Columns"
   ]
  },
  {
   "cell_type": "code",
   "execution_count": 118,
   "metadata": {},
   "outputs": [],
   "source": [
    "# Extracting text from column\n",
    "ds_train['VOTES'] = ds_train.VOTES.str.split(expand=True,pat=\" \")"
   ]
  },
  {
   "cell_type": "code",
   "execution_count": 119,
   "metadata": {},
   "outputs": [
    {
     "data": {
      "text/plain": [
       "0     49\n",
       "1     30\n",
       "2    221\n",
       "3     24\n",
       "4    165\n",
       "Name: VOTES, dtype: object"
      ]
     },
     "execution_count": 119,
     "metadata": {},
     "output_type": "execute_result"
    }
   ],
   "source": [
    "ds_train['VOTES'].head()"
   ]
  },
  {
   "cell_type": "code",
   "execution_count": 120,
   "metadata": {},
   "outputs": [],
   "source": [
    "ds_train['VOTES'] = ds_train['VOTES'].astype(int)"
   ]
  },
  {
   "cell_type": "code",
   "execution_count": 121,
   "metadata": {},
   "outputs": [
    {
     "name": "stdout",
     "output_type": "stream",
     "text": [
      "<class 'pandas.core.frame.DataFrame'>\n",
      "RangeIndex: 12690 entries, 0 to 12689\n",
      "Data columns (total 9 columns):\n",
      " #   Column         Non-Null Count  Dtype \n",
      "---  ------         --------------  ----- \n",
      " 0   TITLE          12690 non-null  object\n",
      " 1   RESTAURANT_ID  12690 non-null  int64 \n",
      " 2   CUISINES       12690 non-null  object\n",
      " 3   TIME           12690 non-null  object\n",
      " 4   CITY           12690 non-null  object\n",
      " 5   LOCALITY       12690 non-null  object\n",
      " 6   RATING         12690 non-null  object\n",
      " 7   VOTES          12690 non-null  int32 \n",
      " 8   COST           12690 non-null  int64 \n",
      "dtypes: int32(1), int64(2), object(6)\n",
      "memory usage: 842.8+ KB\n"
     ]
    }
   ],
   "source": [
    "ds_train.info()"
   ]
  },
  {
   "cell_type": "code",
   "execution_count": 122,
   "metadata": {},
   "outputs": [
    {
     "data": {
      "text/plain": [
       "array(['3.6', '4.2', '3.8', '4.1', '4.0', '4.3', '3.9', '3.3', '3.4', '-',\n",
       "       '4.5', '3.5', '4.4', '2.7', '3.7', '4.7', 'NEW', '3.1', '2.5',\n",
       "       '4.6', '2.8', '3.2', '3.0', '2.6', '2.9', '4.9', '4.8', '2.4',\n",
       "       '2.3', '2.0', '2.1', '2.2'], dtype=object)"
      ]
     },
     "execution_count": 122,
     "metadata": {},
     "output_type": "execute_result"
    }
   ],
   "source": [
    "ds_train['RATING'].unique()"
   ]
  },
  {
   "cell_type": "code",
   "execution_count": 123,
   "metadata": {},
   "outputs": [],
   "source": [
    "ds_train['RATING'] = ds_train['RATING'].replace('-','3.5')"
   ]
  },
  {
   "cell_type": "code",
   "execution_count": 124,
   "metadata": {},
   "outputs": [],
   "source": [
    "ds_train['RATING'] = ds_train['RATING'].replace('NEW','3.5')"
   ]
  },
  {
   "cell_type": "code",
   "execution_count": 125,
   "metadata": {},
   "outputs": [
    {
     "data": {
      "text/plain": [
       "array(['3.6', '4.2', '3.8', '4.1', '4.0', '4.3', '3.9', '3.3', '3.4',\n",
       "       '3.5', '4.5', '4.4', '2.7', '3.7', '4.7', '3.1', '2.5', '4.6',\n",
       "       '2.8', '3.2', '3.0', '2.6', '2.9', '4.9', '4.8', '2.4', '2.3',\n",
       "       '2.0', '2.1', '2.2'], dtype=object)"
      ]
     },
     "execution_count": 125,
     "metadata": {},
     "output_type": "execute_result"
    }
   ],
   "source": [
    "ds_train['RATING'].unique()"
   ]
  },
  {
   "cell_type": "code",
   "execution_count": 126,
   "metadata": {},
   "outputs": [],
   "source": [
    "ds_train['RATING'] = ds_train['RATING'].astype(float)"
   ]
  },
  {
   "cell_type": "code",
   "execution_count": 127,
   "metadata": {},
   "outputs": [],
   "source": [
    "#ds_train['VOTE_RATE'] = ds_train['RATING'] * ds_train['VOTES']"
   ]
  },
  {
   "cell_type": "code",
   "execution_count": 128,
   "metadata": {},
   "outputs": [
    {
     "data": {
      "text/html": [
       "<div>\n",
       "<style scoped>\n",
       "    .dataframe tbody tr th:only-of-type {\n",
       "        vertical-align: middle;\n",
       "    }\n",
       "\n",
       "    .dataframe tbody tr th {\n",
       "        vertical-align: top;\n",
       "    }\n",
       "\n",
       "    .dataframe thead th {\n",
       "        text-align: right;\n",
       "    }\n",
       "</style>\n",
       "<table border=\"1\" class=\"dataframe\">\n",
       "  <thead>\n",
       "    <tr style=\"text-align: right;\">\n",
       "      <th></th>\n",
       "      <th>TITLE</th>\n",
       "      <th>RESTAURANT_ID</th>\n",
       "      <th>CUISINES</th>\n",
       "      <th>TIME</th>\n",
       "      <th>CITY</th>\n",
       "      <th>LOCALITY</th>\n",
       "      <th>RATING</th>\n",
       "      <th>VOTES</th>\n",
       "      <th>COST</th>\n",
       "    </tr>\n",
       "  </thead>\n",
       "  <tbody>\n",
       "    <tr>\n",
       "      <th>0</th>\n",
       "      <td>CASUAL DINING</td>\n",
       "      <td>9438</td>\n",
       "      <td>Malwani, Goan, North Indian</td>\n",
       "      <td>11am – 4pm, 7:30pm – 11:30pm (Mon-Sun)</td>\n",
       "      <td>Mumbai</td>\n",
       "      <td>Dombivali East</td>\n",
       "      <td>3.6</td>\n",
       "      <td>49</td>\n",
       "      <td>1200</td>\n",
       "    </tr>\n",
       "    <tr>\n",
       "      <th>1</th>\n",
       "      <td>CASUAL DINING,BAR</td>\n",
       "      <td>13198</td>\n",
       "      <td>Asian, Modern Indian, Japanese</td>\n",
       "      <td>6pm – 11pm (Mon-Sun)</td>\n",
       "      <td>Chennai</td>\n",
       "      <td>Ramapuram</td>\n",
       "      <td>4.2</td>\n",
       "      <td>30</td>\n",
       "      <td>1500</td>\n",
       "    </tr>\n",
       "    <tr>\n",
       "      <th>2</th>\n",
       "      <td>CASUAL DINING</td>\n",
       "      <td>10915</td>\n",
       "      <td>North Indian, Chinese, Biryani, Hyderabadi</td>\n",
       "      <td>11am – 3:30pm, 7pm – 11pm (Mon-Sun)</td>\n",
       "      <td>Chennai</td>\n",
       "      <td>Saligramam</td>\n",
       "      <td>3.8</td>\n",
       "      <td>221</td>\n",
       "      <td>800</td>\n",
       "    </tr>\n",
       "    <tr>\n",
       "      <th>3</th>\n",
       "      <td>QUICK BITES</td>\n",
       "      <td>6346</td>\n",
       "      <td>Tibetan, Chinese</td>\n",
       "      <td>11:30am – 1am (Mon-Sun)</td>\n",
       "      <td>Mumbai</td>\n",
       "      <td>Bandra West</td>\n",
       "      <td>4.1</td>\n",
       "      <td>24</td>\n",
       "      <td>800</td>\n",
       "    </tr>\n",
       "    <tr>\n",
       "      <th>4</th>\n",
       "      <td>DESSERT PARLOR</td>\n",
       "      <td>15387</td>\n",
       "      <td>Desserts</td>\n",
       "      <td>11am – 1am (Mon-Sun)</td>\n",
       "      <td>Mumbai</td>\n",
       "      <td>Lower Parel</td>\n",
       "      <td>3.8</td>\n",
       "      <td>165</td>\n",
       "      <td>300</td>\n",
       "    </tr>\n",
       "  </tbody>\n",
       "</table>\n",
       "</div>"
      ],
      "text/plain": [
       "               TITLE  RESTAURANT_ID  \\\n",
       "0      CASUAL DINING           9438   \n",
       "1  CASUAL DINING,BAR          13198   \n",
       "2      CASUAL DINING          10915   \n",
       "3        QUICK BITES           6346   \n",
       "4     DESSERT PARLOR          15387   \n",
       "\n",
       "                                     CUISINES  \\\n",
       "0                 Malwani, Goan, North Indian   \n",
       "1              Asian, Modern Indian, Japanese   \n",
       "2  North Indian, Chinese, Biryani, Hyderabadi   \n",
       "3                            Tibetan, Chinese   \n",
       "4                                    Desserts   \n",
       "\n",
       "                                     TIME     CITY        LOCALITY  RATING  \\\n",
       "0  11am – 4pm, 7:30pm – 11:30pm (Mon-Sun)   Mumbai  Dombivali East     3.6   \n",
       "1                    6pm – 11pm (Mon-Sun)  Chennai       Ramapuram     4.2   \n",
       "2     11am – 3:30pm, 7pm – 11pm (Mon-Sun)  Chennai      Saligramam     3.8   \n",
       "3                 11:30am – 1am (Mon-Sun)   Mumbai     Bandra West     4.1   \n",
       "4                    11am – 1am (Mon-Sun)   Mumbai     Lower Parel     3.8   \n",
       "\n",
       "   VOTES  COST  \n",
       "0     49  1200  \n",
       "1     30  1500  \n",
       "2    221   800  \n",
       "3     24   800  \n",
       "4    165   300  "
      ]
     },
     "execution_count": 128,
     "metadata": {},
     "output_type": "execute_result"
    }
   ],
   "source": [
    "ds_train.head()"
   ]
  },
  {
   "cell_type": "code",
   "execution_count": 129,
   "metadata": {},
   "outputs": [],
   "source": [
    "ds_train = ds_train.drop('TIME',axis = 1)"
   ]
  },
  {
   "cell_type": "code",
   "execution_count": 130,
   "metadata": {},
   "outputs": [
    {
     "data": {
      "text/html": [
       "<div>\n",
       "<style scoped>\n",
       "    .dataframe tbody tr th:only-of-type {\n",
       "        vertical-align: middle;\n",
       "    }\n",
       "\n",
       "    .dataframe tbody tr th {\n",
       "        vertical-align: top;\n",
       "    }\n",
       "\n",
       "    .dataframe thead th {\n",
       "        text-align: right;\n",
       "    }\n",
       "</style>\n",
       "<table border=\"1\" class=\"dataframe\">\n",
       "  <thead>\n",
       "    <tr style=\"text-align: right;\">\n",
       "      <th></th>\n",
       "      <th>TITLE</th>\n",
       "      <th>RESTAURANT_ID</th>\n",
       "      <th>CUISINES</th>\n",
       "      <th>CITY</th>\n",
       "      <th>LOCALITY</th>\n",
       "      <th>RATING</th>\n",
       "      <th>VOTES</th>\n",
       "      <th>COST</th>\n",
       "    </tr>\n",
       "  </thead>\n",
       "  <tbody>\n",
       "    <tr>\n",
       "      <th>0</th>\n",
       "      <td>CASUAL DINING</td>\n",
       "      <td>9438</td>\n",
       "      <td>Malwani, Goan, North Indian</td>\n",
       "      <td>Mumbai</td>\n",
       "      <td>Dombivali East</td>\n",
       "      <td>3.6</td>\n",
       "      <td>49</td>\n",
       "      <td>1200</td>\n",
       "    </tr>\n",
       "    <tr>\n",
       "      <th>1</th>\n",
       "      <td>CASUAL DINING,BAR</td>\n",
       "      <td>13198</td>\n",
       "      <td>Asian, Modern Indian, Japanese</td>\n",
       "      <td>Chennai</td>\n",
       "      <td>Ramapuram</td>\n",
       "      <td>4.2</td>\n",
       "      <td>30</td>\n",
       "      <td>1500</td>\n",
       "    </tr>\n",
       "    <tr>\n",
       "      <th>2</th>\n",
       "      <td>CASUAL DINING</td>\n",
       "      <td>10915</td>\n",
       "      <td>North Indian, Chinese, Biryani, Hyderabadi</td>\n",
       "      <td>Chennai</td>\n",
       "      <td>Saligramam</td>\n",
       "      <td>3.8</td>\n",
       "      <td>221</td>\n",
       "      <td>800</td>\n",
       "    </tr>\n",
       "    <tr>\n",
       "      <th>3</th>\n",
       "      <td>QUICK BITES</td>\n",
       "      <td>6346</td>\n",
       "      <td>Tibetan, Chinese</td>\n",
       "      <td>Mumbai</td>\n",
       "      <td>Bandra West</td>\n",
       "      <td>4.1</td>\n",
       "      <td>24</td>\n",
       "      <td>800</td>\n",
       "    </tr>\n",
       "    <tr>\n",
       "      <th>4</th>\n",
       "      <td>DESSERT PARLOR</td>\n",
       "      <td>15387</td>\n",
       "      <td>Desserts</td>\n",
       "      <td>Mumbai</td>\n",
       "      <td>Lower Parel</td>\n",
       "      <td>3.8</td>\n",
       "      <td>165</td>\n",
       "      <td>300</td>\n",
       "    </tr>\n",
       "  </tbody>\n",
       "</table>\n",
       "</div>"
      ],
      "text/plain": [
       "               TITLE  RESTAURANT_ID  \\\n",
       "0      CASUAL DINING           9438   \n",
       "1  CASUAL DINING,BAR          13198   \n",
       "2      CASUAL DINING          10915   \n",
       "3        QUICK BITES           6346   \n",
       "4     DESSERT PARLOR          15387   \n",
       "\n",
       "                                     CUISINES     CITY        LOCALITY  \\\n",
       "0                 Malwani, Goan, North Indian   Mumbai  Dombivali East   \n",
       "1              Asian, Modern Indian, Japanese  Chennai       Ramapuram   \n",
       "2  North Indian, Chinese, Biryani, Hyderabadi  Chennai      Saligramam   \n",
       "3                            Tibetan, Chinese   Mumbai     Bandra West   \n",
       "4                                    Desserts   Mumbai     Lower Parel   \n",
       "\n",
       "   RATING  VOTES  COST  \n",
       "0     3.6     49  1200  \n",
       "1     4.2     30  1500  \n",
       "2     3.8    221   800  \n",
       "3     4.1     24   800  \n",
       "4     3.8    165   300  "
      ]
     },
     "execution_count": 130,
     "metadata": {},
     "output_type": "execute_result"
    }
   ],
   "source": [
    "ds_train.head()"
   ]
  },
  {
   "cell_type": "code",
   "execution_count": 131,
   "metadata": {},
   "outputs": [],
   "source": [
    "dscorr = ds_train.corr()"
   ]
  },
  {
   "cell_type": "code",
   "execution_count": 132,
   "metadata": {},
   "outputs": [
    {
     "data": {
      "text/plain": [
       "<AxesSubplot:>"
      ]
     },
     "execution_count": 132,
     "metadata": {},
     "output_type": "execute_result"
    },
    {
     "data": {
      "image/png": "[encoded data removed]",
      "text/plain": [
       "<Figure size 432x288 with 2 Axes>"
      ]
     },
     "metadata": {
      "needs_background": "light"
     },
     "output_type": "display_data"
    }
   ],
   "source": [
    "sns.heatmap(dscorr,annot = True)"
   ]
  },
  {
   "cell_type": "code",
   "execution_count": 133,
   "metadata": {},
   "outputs": [
    {
     "data": {
      "text/html": [
       "<div>\n",
       "<style scoped>\n",
       "    .dataframe tbody tr th:only-of-type {\n",
       "        vertical-align: middle;\n",
       "    }\n",
       "\n",
       "    .dataframe tbody tr th {\n",
       "        vertical-align: top;\n",
       "    }\n",
       "\n",
       "    .dataframe thead th {\n",
       "        text-align: right;\n",
       "    }\n",
       "</style>\n",
       "<table border=\"1\" class=\"dataframe\">\n",
       "  <thead>\n",
       "    <tr style=\"text-align: right;\">\n",
       "      <th></th>\n",
       "      <th>TITLE</th>\n",
       "      <th>RESTAURANT_ID</th>\n",
       "      <th>CUISINES</th>\n",
       "      <th>CITY</th>\n",
       "      <th>LOCALITY</th>\n",
       "      <th>RATING</th>\n",
       "      <th>VOTES</th>\n",
       "      <th>COST</th>\n",
       "    </tr>\n",
       "  </thead>\n",
       "  <tbody>\n",
       "    <tr>\n",
       "      <th>0</th>\n",
       "      <td>CASUAL DINING</td>\n",
       "      <td>9438</td>\n",
       "      <td>Malwani, Goan, North Indian</td>\n",
       "      <td>Mumbai</td>\n",
       "      <td>Dombivali East</td>\n",
       "      <td>3.6</td>\n",
       "      <td>49</td>\n",
       "      <td>1200</td>\n",
       "    </tr>\n",
       "    <tr>\n",
       "      <th>1</th>\n",
       "      <td>CASUAL DINING,BAR</td>\n",
       "      <td>13198</td>\n",
       "      <td>Asian, Modern Indian, Japanese</td>\n",
       "      <td>Chennai</td>\n",
       "      <td>Ramapuram</td>\n",
       "      <td>4.2</td>\n",
       "      <td>30</td>\n",
       "      <td>1500</td>\n",
       "    </tr>\n",
       "    <tr>\n",
       "      <th>2</th>\n",
       "      <td>CASUAL DINING</td>\n",
       "      <td>10915</td>\n",
       "      <td>North Indian, Chinese, Biryani, Hyderabadi</td>\n",
       "      <td>Chennai</td>\n",
       "      <td>Saligramam</td>\n",
       "      <td>3.8</td>\n",
       "      <td>221</td>\n",
       "      <td>800</td>\n",
       "    </tr>\n",
       "    <tr>\n",
       "      <th>3</th>\n",
       "      <td>QUICK BITES</td>\n",
       "      <td>6346</td>\n",
       "      <td>Tibetan, Chinese</td>\n",
       "      <td>Mumbai</td>\n",
       "      <td>Bandra West</td>\n",
       "      <td>4.1</td>\n",
       "      <td>24</td>\n",
       "      <td>800</td>\n",
       "    </tr>\n",
       "    <tr>\n",
       "      <th>4</th>\n",
       "      <td>DESSERT PARLOR</td>\n",
       "      <td>15387</td>\n",
       "      <td>Desserts</td>\n",
       "      <td>Mumbai</td>\n",
       "      <td>Lower Parel</td>\n",
       "      <td>3.8</td>\n",
       "      <td>165</td>\n",
       "      <td>300</td>\n",
       "    </tr>\n",
       "  </tbody>\n",
       "</table>\n",
       "</div>"
      ],
      "text/plain": [
       "               TITLE  RESTAURANT_ID  \\\n",
       "0      CASUAL DINING           9438   \n",
       "1  CASUAL DINING,BAR          13198   \n",
       "2      CASUAL DINING          10915   \n",
       "3        QUICK BITES           6346   \n",
       "4     DESSERT PARLOR          15387   \n",
       "\n",
       "                                     CUISINES     CITY        LOCALITY  \\\n",
       "0                 Malwani, Goan, North Indian   Mumbai  Dombivali East   \n",
       "1              Asian, Modern Indian, Japanese  Chennai       Ramapuram   \n",
       "2  North Indian, Chinese, Biryani, Hyderabadi  Chennai      Saligramam   \n",
       "3                            Tibetan, Chinese   Mumbai     Bandra West   \n",
       "4                                    Desserts   Mumbai     Lower Parel   \n",
       "\n",
       "   RATING  VOTES  COST  \n",
       "0     3.6     49  1200  \n",
       "1     4.2     30  1500  \n",
       "2     3.8    221   800  \n",
       "3     4.1     24   800  \n",
       "4     3.8    165   300  "
      ]
     },
     "execution_count": 133,
     "metadata": {},
     "output_type": "execute_result"
    }
   ],
   "source": [
    "ds_train.head()"
   ]
  },
  {
   "cell_type": "code",
   "execution_count": 134,
   "metadata": {},
   "outputs": [
    {
     "data": {
      "text/plain": [
       "array(['Malwani, Goan, North Indian', 'Asian, Modern Indian, Japanese',\n",
       "       'North Indian, Chinese, Biryani, Hyderabadi', ...,\n",
       "       'North Indian, Burger, Kebab', 'Goan, Continental',\n",
       "       'Finger Food, Continental, Asian, Chinese'], dtype=object)"
      ]
     },
     "execution_count": 134,
     "metadata": {},
     "output_type": "execute_result"
    }
   ],
   "source": [
    "ds_train['CUISINES'].unique()"
   ]
  },
  {
   "cell_type": "code",
   "execution_count": 135,
   "metadata": {},
   "outputs": [],
   "source": [
    "# Extracting text from column\n",
    "ds1 = ds_train.CUISINES.str.split(expand=True,pat=\",\")"
   ]
  },
  {
   "cell_type": "code",
   "execution_count": 136,
   "metadata": {},
   "outputs": [
    {
     "data": {
      "text/html": [
       "<div>\n",
       "<style scoped>\n",
       "    .dataframe tbody tr th:only-of-type {\n",
       "        vertical-align: middle;\n",
       "    }\n",
       "\n",
       "    .dataframe tbody tr th {\n",
       "        vertical-align: top;\n",
       "    }\n",
       "\n",
       "    .dataframe thead th {\n",
       "        text-align: right;\n",
       "    }\n",
       "</style>\n",
       "<table border=\"1\" class=\"dataframe\">\n",
       "  <thead>\n",
       "    <tr style=\"text-align: right;\">\n",
       "      <th></th>\n",
       "      <th>0</th>\n",
       "      <th>1</th>\n",
       "      <th>2</th>\n",
       "      <th>3</th>\n",
       "      <th>4</th>\n",
       "      <th>5</th>\n",
       "      <th>6</th>\n",
       "      <th>7</th>\n",
       "    </tr>\n",
       "  </thead>\n",
       "  <tbody>\n",
       "    <tr>\n",
       "      <th>0</th>\n",
       "      <td>Malwani</td>\n",
       "      <td>Goan</td>\n",
       "      <td>North Indian</td>\n",
       "      <td>None</td>\n",
       "      <td>None</td>\n",
       "      <td>None</td>\n",
       "      <td>None</td>\n",
       "      <td>None</td>\n",
       "    </tr>\n",
       "    <tr>\n",
       "      <th>1</th>\n",
       "      <td>Asian</td>\n",
       "      <td>Modern Indian</td>\n",
       "      <td>Japanese</td>\n",
       "      <td>None</td>\n",
       "      <td>None</td>\n",
       "      <td>None</td>\n",
       "      <td>None</td>\n",
       "      <td>None</td>\n",
       "    </tr>\n",
       "    <tr>\n",
       "      <th>2</th>\n",
       "      <td>North Indian</td>\n",
       "      <td>Chinese</td>\n",
       "      <td>Biryani</td>\n",
       "      <td>Hyderabadi</td>\n",
       "      <td>None</td>\n",
       "      <td>None</td>\n",
       "      <td>None</td>\n",
       "      <td>None</td>\n",
       "    </tr>\n",
       "    <tr>\n",
       "      <th>3</th>\n",
       "      <td>Tibetan</td>\n",
       "      <td>Chinese</td>\n",
       "      <td>None</td>\n",
       "      <td>None</td>\n",
       "      <td>None</td>\n",
       "      <td>None</td>\n",
       "      <td>None</td>\n",
       "      <td>None</td>\n",
       "    </tr>\n",
       "    <tr>\n",
       "      <th>4</th>\n",
       "      <td>Desserts</td>\n",
       "      <td>None</td>\n",
       "      <td>None</td>\n",
       "      <td>None</td>\n",
       "      <td>None</td>\n",
       "      <td>None</td>\n",
       "      <td>None</td>\n",
       "      <td>None</td>\n",
       "    </tr>\n",
       "  </tbody>\n",
       "</table>\n",
       "</div>"
      ],
      "text/plain": [
       "              0               1              2            3     4     5     6  \\\n",
       "0       Malwani            Goan   North Indian         None  None  None  None   \n",
       "1         Asian   Modern Indian       Japanese         None  None  None  None   \n",
       "2  North Indian         Chinese        Biryani   Hyderabadi  None  None  None   \n",
       "3       Tibetan         Chinese           None         None  None  None  None   \n",
       "4      Desserts            None           None         None  None  None  None   \n",
       "\n",
       "      7  \n",
       "0  None  \n",
       "1  None  \n",
       "2  None  \n",
       "3  None  \n",
       "4  None  "
      ]
     },
     "execution_count": 136,
     "metadata": {},
     "output_type": "execute_result"
    }
   ],
   "source": [
    "ds1.head()"
   ]
  },
  {
   "cell_type": "code",
   "execution_count": 137,
   "metadata": {},
   "outputs": [
    {
     "data": {
      "text/plain": [
       "0        0\n",
       "1     3062\n",
       "2     6999\n",
       "3     9995\n",
       "4    11675\n",
       "5    12276\n",
       "6    12514\n",
       "7    12613\n",
       "dtype: int64"
      ]
     },
     "execution_count": 137,
     "metadata": {},
     "output_type": "execute_result"
    }
   ],
   "source": [
    "ds1.isnull().sum()"
   ]
  },
  {
   "cell_type": "code",
   "execution_count": 138,
   "metadata": {},
   "outputs": [],
   "source": [
    "ds1= ds1.replace(np.nan,'Blank')"
   ]
  },
  {
   "cell_type": "code",
   "execution_count": 139,
   "metadata": {},
   "outputs": [
    {
     "data": {
      "text/html": [
       "<div>\n",
       "<style scoped>\n",
       "    .dataframe tbody tr th:only-of-type {\n",
       "        vertical-align: middle;\n",
       "    }\n",
       "\n",
       "    .dataframe tbody tr th {\n",
       "        vertical-align: top;\n",
       "    }\n",
       "\n",
       "    .dataframe thead th {\n",
       "        text-align: right;\n",
       "    }\n",
       "</style>\n",
       "<table border=\"1\" class=\"dataframe\">\n",
       "  <thead>\n",
       "    <tr style=\"text-align: right;\">\n",
       "      <th></th>\n",
       "      <th>0</th>\n",
       "      <th>1</th>\n",
       "      <th>2</th>\n",
       "      <th>3</th>\n",
       "      <th>4</th>\n",
       "      <th>5</th>\n",
       "      <th>6</th>\n",
       "      <th>7</th>\n",
       "    </tr>\n",
       "  </thead>\n",
       "  <tbody>\n",
       "    <tr>\n",
       "      <th>0</th>\n",
       "      <td>Malwani</td>\n",
       "      <td>Goan</td>\n",
       "      <td>North Indian</td>\n",
       "      <td>Blank</td>\n",
       "      <td>Blank</td>\n",
       "      <td>Blank</td>\n",
       "      <td>Blank</td>\n",
       "      <td>Blank</td>\n",
       "    </tr>\n",
       "    <tr>\n",
       "      <th>1</th>\n",
       "      <td>Asian</td>\n",
       "      <td>Modern Indian</td>\n",
       "      <td>Japanese</td>\n",
       "      <td>Blank</td>\n",
       "      <td>Blank</td>\n",
       "      <td>Blank</td>\n",
       "      <td>Blank</td>\n",
       "      <td>Blank</td>\n",
       "    </tr>\n",
       "    <tr>\n",
       "      <th>2</th>\n",
       "      <td>North Indian</td>\n",
       "      <td>Chinese</td>\n",
       "      <td>Biryani</td>\n",
       "      <td>Hyderabadi</td>\n",
       "      <td>Blank</td>\n",
       "      <td>Blank</td>\n",
       "      <td>Blank</td>\n",
       "      <td>Blank</td>\n",
       "    </tr>\n",
       "    <tr>\n",
       "      <th>3</th>\n",
       "      <td>Tibetan</td>\n",
       "      <td>Chinese</td>\n",
       "      <td>Blank</td>\n",
       "      <td>Blank</td>\n",
       "      <td>Blank</td>\n",
       "      <td>Blank</td>\n",
       "      <td>Blank</td>\n",
       "      <td>Blank</td>\n",
       "    </tr>\n",
       "    <tr>\n",
       "      <th>4</th>\n",
       "      <td>Desserts</td>\n",
       "      <td>Blank</td>\n",
       "      <td>Blank</td>\n",
       "      <td>Blank</td>\n",
       "      <td>Blank</td>\n",
       "      <td>Blank</td>\n",
       "      <td>Blank</td>\n",
       "      <td>Blank</td>\n",
       "    </tr>\n",
       "  </tbody>\n",
       "</table>\n",
       "</div>"
      ],
      "text/plain": [
       "              0               1              2            3      4      5  \\\n",
       "0       Malwani            Goan   North Indian        Blank  Blank  Blank   \n",
       "1         Asian   Modern Indian       Japanese        Blank  Blank  Blank   \n",
       "2  North Indian         Chinese        Biryani   Hyderabadi  Blank  Blank   \n",
       "3       Tibetan         Chinese          Blank        Blank  Blank  Blank   \n",
       "4      Desserts           Blank          Blank        Blank  Blank  Blank   \n",
       "\n",
       "       6      7  \n",
       "0  Blank  Blank  \n",
       "1  Blank  Blank  \n",
       "2  Blank  Blank  \n",
       "3  Blank  Blank  \n",
       "4  Blank  Blank  "
      ]
     },
     "execution_count": 139,
     "metadata": {},
     "output_type": "execute_result"
    }
   ],
   "source": [
    "ds1.head()"
   ]
  },
  {
   "cell_type": "code",
   "execution_count": 140,
   "metadata": {},
   "outputs": [],
   "source": [
    "from sklearn.preprocessing import LabelEncoder\n",
    "\n",
    "le = LabelEncoder()\n",
    "\n",
    "for column in ds1.columns:\n",
    "    if ds1[column].dtype == np.number:\n",
    "        continue\n",
    "    ds1[column] = le.fit_transform(ds1[column])"
   ]
  },
  {
   "cell_type": "code",
   "execution_count": 141,
   "metadata": {},
   "outputs": [],
   "source": [
    "ds1 = ds1.astype(int)"
   ]
  },
  {
   "cell_type": "code",
   "execution_count": 142,
   "metadata": {},
   "outputs": [],
   "source": [
    "# Extracting text from column\n",
    "ds2 = ds_train.TITLE.str.split(expand=True,pat=\",\")"
   ]
  },
  {
   "cell_type": "code",
   "execution_count": 143,
   "metadata": {},
   "outputs": [],
   "source": [
    "ds2= ds2.replace(np.nan,'Blank')"
   ]
  },
  {
   "cell_type": "code",
   "execution_count": 144,
   "metadata": {},
   "outputs": [],
   "source": [
    "from sklearn.preprocessing import LabelEncoder\n",
    "\n",
    "le = LabelEncoder()\n",
    "\n",
    "for column in ds2.columns:\n",
    "    if ds2[column].dtype == np.number:\n",
    "        continue\n",
    "    ds2[column] = le.fit_transform(ds2[column])"
   ]
  },
  {
   "cell_type": "code",
   "execution_count": 145,
   "metadata": {},
   "outputs": [],
   "source": [
    "ds2 = ds2.astype(int)"
   ]
  },
  {
   "cell_type": "code",
   "execution_count": 146,
   "metadata": {},
   "outputs": [],
   "source": [
    "ds_train = ds_train.drop(['TITLE','CUISINES'],axis=1)"
   ]
  },
  {
   "cell_type": "code",
   "execution_count": 147,
   "metadata": {},
   "outputs": [],
   "source": [
    "ds_train = pd.concat([ds_train,ds1,ds2],axis=1)"
   ]
  },
  {
   "cell_type": "code",
   "execution_count": 148,
   "metadata": {},
   "outputs": [
    {
     "data": {
      "text/html": [
       "<div>\n",
       "<style scoped>\n",
       "    .dataframe tbody tr th:only-of-type {\n",
       "        vertical-align: middle;\n",
       "    }\n",
       "\n",
       "    .dataframe tbody tr th {\n",
       "        vertical-align: top;\n",
       "    }\n",
       "\n",
       "    .dataframe thead th {\n",
       "        text-align: right;\n",
       "    }\n",
       "</style>\n",
       "<table border=\"1\" class=\"dataframe\">\n",
       "  <thead>\n",
       "    <tr style=\"text-align: right;\">\n",
       "      <th></th>\n",
       "      <th>RESTAURANT_ID</th>\n",
       "      <th>CITY</th>\n",
       "      <th>LOCALITY</th>\n",
       "      <th>RATING</th>\n",
       "      <th>VOTES</th>\n",
       "      <th>COST</th>\n",
       "      <th>0</th>\n",
       "      <th>1</th>\n",
       "      <th>2</th>\n",
       "      <th>3</th>\n",
       "      <th>4</th>\n",
       "      <th>5</th>\n",
       "      <th>6</th>\n",
       "      <th>7</th>\n",
       "      <th>0</th>\n",
       "      <th>1</th>\n",
       "    </tr>\n",
       "  </thead>\n",
       "  <tbody>\n",
       "    <tr>\n",
       "      <th>0</th>\n",
       "      <td>9438</td>\n",
       "      <td>Mumbai</td>\n",
       "      <td>Dombivali East</td>\n",
       "      <td>3.6</td>\n",
       "      <td>49</td>\n",
       "      <td>1200</td>\n",
       "      <td>59</td>\n",
       "      <td>32</td>\n",
       "      <td>66</td>\n",
       "      <td>85</td>\n",
       "      <td>78</td>\n",
       "      <td>69</td>\n",
       "      <td>47</td>\n",
       "      <td>19</td>\n",
       "      <td>4</td>\n",
       "      <td>3</td>\n",
       "    </tr>\n",
       "    <tr>\n",
       "      <th>1</th>\n",
       "      <td>13198</td>\n",
       "      <td>Chennai</td>\n",
       "      <td>Ramapuram</td>\n",
       "      <td>4.2</td>\n",
       "      <td>30</td>\n",
       "      <td>1500</td>\n",
       "      <td>6</td>\n",
       "      <td>60</td>\n",
       "      <td>41</td>\n",
       "      <td>85</td>\n",
       "      <td>78</td>\n",
       "      <td>69</td>\n",
       "      <td>47</td>\n",
       "      <td>19</td>\n",
       "      <td>4</td>\n",
       "      <td>1</td>\n",
       "    </tr>\n",
       "    <tr>\n",
       "      <th>2</th>\n",
       "      <td>10915</td>\n",
       "      <td>Chennai</td>\n",
       "      <td>Saligramam</td>\n",
       "      <td>3.8</td>\n",
       "      <td>221</td>\n",
       "      <td>800</td>\n",
       "      <td>72</td>\n",
       "      <td>23</td>\n",
       "      <td>12</td>\n",
       "      <td>32</td>\n",
       "      <td>78</td>\n",
       "      <td>69</td>\n",
       "      <td>47</td>\n",
       "      <td>19</td>\n",
       "      <td>4</td>\n",
       "      <td>3</td>\n",
       "    </tr>\n",
       "    <tr>\n",
       "      <th>3</th>\n",
       "      <td>6346</td>\n",
       "      <td>Mumbai</td>\n",
       "      <td>Bandra West</td>\n",
       "      <td>4.1</td>\n",
       "      <td>24</td>\n",
       "      <td>800</td>\n",
       "      <td>100</td>\n",
       "      <td>23</td>\n",
       "      <td>93</td>\n",
       "      <td>85</td>\n",
       "      <td>78</td>\n",
       "      <td>69</td>\n",
       "      <td>47</td>\n",
       "      <td>19</td>\n",
       "      <td>21</td>\n",
       "      <td>3</td>\n",
       "    </tr>\n",
       "    <tr>\n",
       "      <th>4</th>\n",
       "      <td>15387</td>\n",
       "      <td>Mumbai</td>\n",
       "      <td>Lower Parel</td>\n",
       "      <td>3.8</td>\n",
       "      <td>165</td>\n",
       "      <td>300</td>\n",
       "      <td>28</td>\n",
       "      <td>98</td>\n",
       "      <td>93</td>\n",
       "      <td>85</td>\n",
       "      <td>78</td>\n",
       "      <td>69</td>\n",
       "      <td>47</td>\n",
       "      <td>19</td>\n",
       "      <td>8</td>\n",
       "      <td>3</td>\n",
       "    </tr>\n",
       "  </tbody>\n",
       "</table>\n",
       "</div>"
      ],
      "text/plain": [
       "   RESTAURANT_ID     CITY        LOCALITY  RATING  VOTES  COST    0   1   2  \\\n",
       "0           9438   Mumbai  Dombivali East     3.6     49  1200   59  32  66   \n",
       "1          13198  Chennai       Ramapuram     4.2     30  1500    6  60  41   \n",
       "2          10915  Chennai      Saligramam     3.8    221   800   72  23  12   \n",
       "3           6346   Mumbai     Bandra West     4.1     24   800  100  23  93   \n",
       "4          15387   Mumbai     Lower Parel     3.8    165   300   28  98  93   \n",
       "\n",
       "    3   4   5   6   7   0  1  \n",
       "0  85  78  69  47  19   4  3  \n",
       "1  85  78  69  47  19   4  1  \n",
       "2  32  78  69  47  19   4  3  \n",
       "3  85  78  69  47  19  21  3  \n",
       "4  85  78  69  47  19   8  3  "
      ]
     },
     "execution_count": 148,
     "metadata": {},
     "output_type": "execute_result"
    }
   ],
   "source": [
    "ds_train.head()"
   ]
  },
  {
   "cell_type": "code",
   "execution_count": 149,
   "metadata": {},
   "outputs": [],
   "source": [
    "from sklearn.preprocessing import LabelEncoder\n",
    "\n",
    "le = LabelEncoder()\n",
    "\n",
    "ds_train['CITY'] = le.fit_transform(ds_train['CITY'])\n",
    "ds_train['LOCALITY'] = le.fit_transform(ds_train['LOCALITY'])"
   ]
  },
  {
   "cell_type": "code",
   "execution_count": 150,
   "metadata": {},
   "outputs": [
    {
     "data": {
      "text/html": [
       "<div>\n",
       "<style scoped>\n",
       "    .dataframe tbody tr th:only-of-type {\n",
       "        vertical-align: middle;\n",
       "    }\n",
       "\n",
       "    .dataframe tbody tr th {\n",
       "        vertical-align: top;\n",
       "    }\n",
       "\n",
       "    .dataframe thead th {\n",
       "        text-align: right;\n",
       "    }\n",
       "</style>\n",
       "<table border=\"1\" class=\"dataframe\">\n",
       "  <thead>\n",
       "    <tr style=\"text-align: right;\">\n",
       "      <th></th>\n",
       "      <th>RESTAURANT_ID</th>\n",
       "      <th>CITY</th>\n",
       "      <th>LOCALITY</th>\n",
       "      <th>RATING</th>\n",
       "      <th>VOTES</th>\n",
       "      <th>COST</th>\n",
       "      <th>0</th>\n",
       "      <th>1</th>\n",
       "      <th>2</th>\n",
       "      <th>3</th>\n",
       "      <th>4</th>\n",
       "      <th>5</th>\n",
       "      <th>6</th>\n",
       "      <th>7</th>\n",
       "      <th>0</th>\n",
       "      <th>1</th>\n",
       "    </tr>\n",
       "  </thead>\n",
       "  <tbody>\n",
       "    <tr>\n",
       "      <th>0</th>\n",
       "      <td>9438</td>\n",
       "      <td>7</td>\n",
       "      <td>286</td>\n",
       "      <td>3.6</td>\n",
       "      <td>49</td>\n",
       "      <td>1200</td>\n",
       "      <td>59</td>\n",
       "      <td>32</td>\n",
       "      <td>66</td>\n",
       "      <td>85</td>\n",
       "      <td>78</td>\n",
       "      <td>69</td>\n",
       "      <td>47</td>\n",
       "      <td>19</td>\n",
       "      <td>4</td>\n",
       "      <td>3</td>\n",
       "    </tr>\n",
       "    <tr>\n",
       "      <th>1</th>\n",
       "      <td>13198</td>\n",
       "      <td>1</td>\n",
       "      <td>1047</td>\n",
       "      <td>4.2</td>\n",
       "      <td>30</td>\n",
       "      <td>1500</td>\n",
       "      <td>6</td>\n",
       "      <td>60</td>\n",
       "      <td>41</td>\n",
       "      <td>85</td>\n",
       "      <td>78</td>\n",
       "      <td>69</td>\n",
       "      <td>47</td>\n",
       "      <td>19</td>\n",
       "      <td>4</td>\n",
       "      <td>1</td>\n",
       "    </tr>\n",
       "    <tr>\n",
       "      <th>2</th>\n",
       "      <td>10915</td>\n",
       "      <td>1</td>\n",
       "      <td>1102</td>\n",
       "      <td>3.8</td>\n",
       "      <td>221</td>\n",
       "      <td>800</td>\n",
       "      <td>72</td>\n",
       "      <td>23</td>\n",
       "      <td>12</td>\n",
       "      <td>32</td>\n",
       "      <td>78</td>\n",
       "      <td>69</td>\n",
       "      <td>47</td>\n",
       "      <td>19</td>\n",
       "      <td>4</td>\n",
       "      <td>3</td>\n",
       "    </tr>\n",
       "    <tr>\n",
       "      <th>3</th>\n",
       "      <td>6346</td>\n",
       "      <td>7</td>\n",
       "      <td>136</td>\n",
       "      <td>4.1</td>\n",
       "      <td>24</td>\n",
       "      <td>800</td>\n",
       "      <td>100</td>\n",
       "      <td>23</td>\n",
       "      <td>93</td>\n",
       "      <td>85</td>\n",
       "      <td>78</td>\n",
       "      <td>69</td>\n",
       "      <td>47</td>\n",
       "      <td>19</td>\n",
       "      <td>21</td>\n",
       "      <td>3</td>\n",
       "    </tr>\n",
       "    <tr>\n",
       "      <th>4</th>\n",
       "      <td>15387</td>\n",
       "      <td>7</td>\n",
       "      <td>621</td>\n",
       "      <td>3.8</td>\n",
       "      <td>165</td>\n",
       "      <td>300</td>\n",
       "      <td>28</td>\n",
       "      <td>98</td>\n",
       "      <td>93</td>\n",
       "      <td>85</td>\n",
       "      <td>78</td>\n",
       "      <td>69</td>\n",
       "      <td>47</td>\n",
       "      <td>19</td>\n",
       "      <td>8</td>\n",
       "      <td>3</td>\n",
       "    </tr>\n",
       "  </tbody>\n",
       "</table>\n",
       "</div>"
      ],
      "text/plain": [
       "   RESTAURANT_ID  CITY  LOCALITY  RATING  VOTES  COST    0   1   2   3   4  \\\n",
       "0           9438     7       286     3.6     49  1200   59  32  66  85  78   \n",
       "1          13198     1      1047     4.2     30  1500    6  60  41  85  78   \n",
       "2          10915     1      1102     3.8    221   800   72  23  12  32  78   \n",
       "3           6346     7       136     4.1     24   800  100  23  93  85  78   \n",
       "4          15387     7       621     3.8    165   300   28  98  93  85  78   \n",
       "\n",
       "    5   6   7   0  1  \n",
       "0  69  47  19   4  3  \n",
       "1  69  47  19   4  1  \n",
       "2  69  47  19   4  3  \n",
       "3  69  47  19  21  3  \n",
       "4  69  47  19   8  3  "
      ]
     },
     "execution_count": 150,
     "metadata": {},
     "output_type": "execute_result"
    }
   ],
   "source": [
    "ds_train.head()"
   ]
  },
  {
   "cell_type": "code",
   "execution_count": 152,
   "metadata": {},
   "outputs": [],
   "source": [
    "ds_train = ds_train.astype(int)"
   ]
  },
  {
   "cell_type": "code",
   "execution_count": 153,
   "metadata": {},
   "outputs": [
    {
     "data": {
      "text/plain": [
       "RESTAURANT_ID     0.006947\n",
       "CITY             -0.117542\n",
       "LOCALITY          0.348139\n",
       "RATING            0.094125\n",
       "VOTES            14.563311\n",
       "COST              3.978801\n",
       "0                 0.026008\n",
       "1                 0.055174\n",
       "2                -0.823537\n",
       "3                -2.108741\n",
       "4                -4.094366\n",
       "5                -6.854150\n",
       "6               -10.250522\n",
       "7               -13.749110\n",
       "0                 0.087325\n",
       "1                 4.615460\n",
       "dtype: float64"
      ]
     },
     "execution_count": 153,
     "metadata": {},
     "output_type": "execute_result"
    }
   ],
   "source": [
    "ds_train.skew()"
   ]
  },
  {
   "cell_type": "code",
   "execution_count": 154,
   "metadata": {
    "scrolled": false
   },
   "outputs": [
    {
     "data": {
      "image/png": "[encoded data removed]",
      "text/plain": [
       "<Figure size 432x288 with 1 Axes>"
      ]
     },
     "metadata": {
      "needs_background": "light"
     },
     "output_type": "display_data"
    },
    {
     "data": {
      "image/png": "[encoded data removed]",
      "text/plain": [
       "<Figure size 432x288 with 1 Axes>"
      ]
     },
     "metadata": {
      "needs_background": "light"
     },
     "output_type": "display_data"
    },
    {
     "data": {
      "image/png": "[encoded data removed]",
      "text/plain": [
       "<Figure size 432x288 with 1 Axes>"
      ]
     },
     "metadata": {
      "needs_background": "light"
     },
     "output_type": "display_data"
    },
    {
     "data": {
      "image/png": "[encoded data removed]",
      "text/plain": [
       "<Figure size 432x288 with 1 Axes>"
      ]
     },
     "metadata": {
      "needs_background": "light"
     },
     "output_type": "display_data"
    },
    {
     "data": {
      "image/png": "[encoded data removed]",
      "text/plain": [
       "<Figure size 432x288 with 1 Axes>"
      ]
     },
     "metadata": {
      "needs_background": "light"
     },
     "output_type": "display_data"
    },
    {
     "data": {
      "image/png": "[encoded data removed]",
      "text/plain": [
       "<Figure size 432x288 with 1 Axes>"
      ]
     },
     "metadata": {
      "needs_background": "light"
     },
     "output_type": "display_data"
    },
    {
     "data": {
      "image/png": "[encoded data removed]",
      "text/plain": [
       "<Figure size 432x288 with 1 Axes>"
      ]
     },
     "metadata": {
      "needs_background": "light"
     },
     "output_type": "display_data"
    },
    {
     "data": {
      "image/png": "[encoded data removed]",
      "text/plain": [
       "<Figure size 432x288 with 1 Axes>"
      ]
     },
     "metadata": {
      "needs_background": "light"
     },
     "output_type": "display_data"
    },
    {
     "data": {
      "image/png": "[encoded data removed]",
      "text/plain": [
       "<Figure size 432x288 with 1 Axes>"
      ]
     },
     "metadata": {
      "needs_background": "light"
     },
     "output_type": "display_data"
    },
    {
     "data": {
      "image/png": "[encoded data removed]",
      "text/plain": [
       "<Figure size 432x288 with 1 Axes>"
      ]
     },
     "metadata": {
      "needs_background": "light"
     },
     "output_type": "display_data"
    },
    {
     "data": {
      "image/png": "[encoded data removed]",
      "text/plain": [
       "<Figure size 432x288 with 1 Axes>"
      ]
     },
     "metadata": {
      "needs_background": "light"
     },
     "output_type": "display_data"
    },
    {
     "data": {
      "image/png": "[encoded data removed]",
      "text/plain": [
       "<Figure size 432x288 with 1 Axes>"
      ]
     },
     "metadata": {
      "needs_background": "light"
     },
     "output_type": "display_data"
    },
    {
     "data": {
      "image/png": "[encoded data removed]",
      "text/plain": [
       "<Figure size 432x288 with 1 Axes>"
      ]
     },
     "metadata": {
      "needs_background": "light"
     },
     "output_type": "display_data"
    },
    {
     "data": {
      "image/png": "[encoded data removed]",
      "text/plain": [
       "<Figure size 432x288 with 1 Axes>"
      ]
     },
     "metadata": {
      "needs_background": "light"
     },
     "output_type": "display_data"
    },
    {
     "data": {
      "image/png": "[encoded data removed]",
      "text/plain": [
       "<Figure size 432x288 with 1 Axes>"
      ]
     },
     "metadata": {
      "needs_background": "light"
     },
     "output_type": "display_data"
    },
    {
     "data": {
      "image/png": "[encoded data removed]",
      "text/plain": [
       "<Figure size 432x288 with 1 Axes>"
      ]
     },
     "metadata": {
      "needs_background": "light"
     },
     "output_type": "display_data"
    }
   ],
   "source": [
    "for i in ds_train.columns:\n",
    "    sns.distplot(ds_train[i])\n",
    "    plt.show()"
   ]
  },
  {
   "cell_type": "code",
   "execution_count": 155,
   "metadata": {},
   "outputs": [],
   "source": [
    "from scipy.stats import zscore"
   ]
  },
  {
   "cell_type": "code",
   "execution_count": 156,
   "metadata": {},
   "outputs": [
    {
     "data": {
      "text/plain": [
       "array([[0.37269233, 0.92409415, 0.91391699, ..., 0.07470174, 0.91929951,\n",
       "        0.1896529 ],\n",
       "       [1.20737672, 1.03003928, 0.98624404, ..., 0.07470174, 0.91929951,\n",
       "        0.92351332],\n",
       "       [0.70057234, 1.03003928, 1.12357499, ..., 0.07470174, 0.91929951,\n",
       "        0.1896529 ],\n",
       "       ...,\n",
       "       [0.74896628, 0.92409415, 1.72533427, ..., 0.07470174, 0.29616541,\n",
       "        0.1896529 ],\n",
       "       [0.36076439, 1.03003928, 0.04998044, ..., 0.07470174, 0.91929951,\n",
       "        0.1896529 ],\n",
       "       [0.29505519, 0.27271634, 1.70286193, ..., 0.07470174, 0.91929951,\n",
       "        0.1896529 ]])"
      ]
     },
     "execution_count": 156,
     "metadata": {},
     "output_type": "execute_result"
    }
   ],
   "source": [
    "z=np.abs(zscore(ds_train))\n",
    "z"
   ]
  },
  {
   "cell_type": "code",
   "execution_count": 157,
   "metadata": {
    "scrolled": false
   },
   "outputs": [
    {
     "name": "stdout",
     "output_type": "stream",
     "text": [
      "(array([    6,    15,    19, ..., 12668, 12671, 12683], dtype=int64), array([10, 15, 15, ..., 12, 15, 15], dtype=int64))\n"
     ]
    }
   ],
   "source": [
    "threshold=3\n",
    "print(np.where(z>3))"
   ]
  },
  {
   "cell_type": "code",
   "execution_count": 158,
   "metadata": {},
   "outputs": [
    {
     "data": {
      "text/html": [
       "<div>\n",
       "<style scoped>\n",
       "    .dataframe tbody tr th:only-of-type {\n",
       "        vertical-align: middle;\n",
       "    }\n",
       "\n",
       "    .dataframe tbody tr th {\n",
       "        vertical-align: top;\n",
       "    }\n",
       "\n",
       "    .dataframe thead th {\n",
       "        text-align: right;\n",
       "    }\n",
       "</style>\n",
       "<table border=\"1\" class=\"dataframe\">\n",
       "  <thead>\n",
       "    <tr style=\"text-align: right;\">\n",
       "      <th></th>\n",
       "      <th>RESTAURANT_ID</th>\n",
       "      <th>CITY</th>\n",
       "      <th>LOCALITY</th>\n",
       "      <th>RATING</th>\n",
       "      <th>VOTES</th>\n",
       "      <th>COST</th>\n",
       "      <th>0</th>\n",
       "      <th>1</th>\n",
       "      <th>2</th>\n",
       "      <th>3</th>\n",
       "      <th>4</th>\n",
       "      <th>5</th>\n",
       "      <th>6</th>\n",
       "      <th>7</th>\n",
       "      <th>0</th>\n",
       "      <th>1</th>\n",
       "    </tr>\n",
       "  </thead>\n",
       "  <tbody>\n",
       "    <tr>\n",
       "      <th>0</th>\n",
       "      <td>9438</td>\n",
       "      <td>7</td>\n",
       "      <td>286</td>\n",
       "      <td>3</td>\n",
       "      <td>49</td>\n",
       "      <td>1200</td>\n",
       "      <td>59</td>\n",
       "      <td>32</td>\n",
       "      <td>66</td>\n",
       "      <td>85</td>\n",
       "      <td>78</td>\n",
       "      <td>69</td>\n",
       "      <td>47</td>\n",
       "      <td>19</td>\n",
       "      <td>4</td>\n",
       "      <td>3</td>\n",
       "    </tr>\n",
       "    <tr>\n",
       "      <th>1</th>\n",
       "      <td>13198</td>\n",
       "      <td>1</td>\n",
       "      <td>1047</td>\n",
       "      <td>4</td>\n",
       "      <td>30</td>\n",
       "      <td>1500</td>\n",
       "      <td>6</td>\n",
       "      <td>60</td>\n",
       "      <td>41</td>\n",
       "      <td>85</td>\n",
       "      <td>78</td>\n",
       "      <td>69</td>\n",
       "      <td>47</td>\n",
       "      <td>19</td>\n",
       "      <td>4</td>\n",
       "      <td>1</td>\n",
       "    </tr>\n",
       "    <tr>\n",
       "      <th>2</th>\n",
       "      <td>10915</td>\n",
       "      <td>1</td>\n",
       "      <td>1102</td>\n",
       "      <td>3</td>\n",
       "      <td>221</td>\n",
       "      <td>800</td>\n",
       "      <td>72</td>\n",
       "      <td>23</td>\n",
       "      <td>12</td>\n",
       "      <td>32</td>\n",
       "      <td>78</td>\n",
       "      <td>69</td>\n",
       "      <td>47</td>\n",
       "      <td>19</td>\n",
       "      <td>4</td>\n",
       "      <td>3</td>\n",
       "    </tr>\n",
       "    <tr>\n",
       "      <th>3</th>\n",
       "      <td>6346</td>\n",
       "      <td>7</td>\n",
       "      <td>136</td>\n",
       "      <td>4</td>\n",
       "      <td>24</td>\n",
       "      <td>800</td>\n",
       "      <td>100</td>\n",
       "      <td>23</td>\n",
       "      <td>93</td>\n",
       "      <td>85</td>\n",
       "      <td>78</td>\n",
       "      <td>69</td>\n",
       "      <td>47</td>\n",
       "      <td>19</td>\n",
       "      <td>21</td>\n",
       "      <td>3</td>\n",
       "    </tr>\n",
       "    <tr>\n",
       "      <th>4</th>\n",
       "      <td>15387</td>\n",
       "      <td>7</td>\n",
       "      <td>621</td>\n",
       "      <td>3</td>\n",
       "      <td>165</td>\n",
       "      <td>300</td>\n",
       "      <td>28</td>\n",
       "      <td>98</td>\n",
       "      <td>93</td>\n",
       "      <td>85</td>\n",
       "      <td>78</td>\n",
       "      <td>69</td>\n",
       "      <td>47</td>\n",
       "      <td>19</td>\n",
       "      <td>8</td>\n",
       "      <td>3</td>\n",
       "    </tr>\n",
       "    <tr>\n",
       "      <th>...</th>\n",
       "      <td>...</td>\n",
       "      <td>...</td>\n",
       "      <td>...</td>\n",
       "      <td>...</td>\n",
       "      <td>...</td>\n",
       "      <td>...</td>\n",
       "      <td>...</td>\n",
       "      <td>...</td>\n",
       "      <td>...</td>\n",
       "      <td>...</td>\n",
       "      <td>...</td>\n",
       "      <td>...</td>\n",
       "      <td>...</td>\n",
       "      <td>...</td>\n",
       "      <td>...</td>\n",
       "      <td>...</td>\n",
       "    </tr>\n",
       "    <tr>\n",
       "      <th>12685</th>\n",
       "      <td>13228</td>\n",
       "      <td>5</td>\n",
       "      <td>343</td>\n",
       "      <td>3</td>\n",
       "      <td>546</td>\n",
       "      <td>500</td>\n",
       "      <td>72</td>\n",
       "      <td>17</td>\n",
       "      <td>44</td>\n",
       "      <td>85</td>\n",
       "      <td>78</td>\n",
       "      <td>69</td>\n",
       "      <td>47</td>\n",
       "      <td>19</td>\n",
       "      <td>21</td>\n",
       "      <td>3</td>\n",
       "    </tr>\n",
       "    <tr>\n",
       "      <th>12686</th>\n",
       "      <td>9686</td>\n",
       "      <td>7</td>\n",
       "      <td>133</td>\n",
       "      <td>4</td>\n",
       "      <td>1214</td>\n",
       "      <td>1800</td>\n",
       "      <td>37</td>\n",
       "      <td>25</td>\n",
       "      <td>93</td>\n",
       "      <td>85</td>\n",
       "      <td>78</td>\n",
       "      <td>69</td>\n",
       "      <td>47</td>\n",
       "      <td>19</td>\n",
       "      <td>4</td>\n",
       "      <td>1</td>\n",
       "    </tr>\n",
       "    <tr>\n",
       "      <th>12687</th>\n",
       "      <td>11133</td>\n",
       "      <td>7</td>\n",
       "      <td>1343</td>\n",
       "      <td>4</td>\n",
       "      <td>608</td>\n",
       "      <td>1300</td>\n",
       "      <td>34</td>\n",
       "      <td>25</td>\n",
       "      <td>4</td>\n",
       "      <td>18</td>\n",
       "      <td>78</td>\n",
       "      <td>69</td>\n",
       "      <td>47</td>\n",
       "      <td>19</td>\n",
       "      <td>14</td>\n",
       "      <td>3</td>\n",
       "    </tr>\n",
       "    <tr>\n",
       "      <th>12688</th>\n",
       "      <td>6134</td>\n",
       "      <td>1</td>\n",
       "      <td>632</td>\n",
       "      <td>3</td>\n",
       "      <td>32</td>\n",
       "      <td>400</td>\n",
       "      <td>72</td>\n",
       "      <td>84</td>\n",
       "      <td>21</td>\n",
       "      <td>76</td>\n",
       "      <td>78</td>\n",
       "      <td>69</td>\n",
       "      <td>47</td>\n",
       "      <td>19</td>\n",
       "      <td>4</td>\n",
       "      <td>3</td>\n",
       "    </tr>\n",
       "    <tr>\n",
       "      <th>12689</th>\n",
       "      <td>6430</td>\n",
       "      <td>5</td>\n",
       "      <td>1334</td>\n",
       "      <td>3</td>\n",
       "      <td>677</td>\n",
       "      <td>600</td>\n",
       "      <td>72</td>\n",
       "      <td>23</td>\n",
       "      <td>93</td>\n",
       "      <td>85</td>\n",
       "      <td>78</td>\n",
       "      <td>69</td>\n",
       "      <td>47</td>\n",
       "      <td>19</td>\n",
       "      <td>4</td>\n",
       "      <td>3</td>\n",
       "    </tr>\n",
       "  </tbody>\n",
       "</table>\n",
       "<p>11141 rows × 16 columns</p>\n",
       "</div>"
      ],
      "text/plain": [
       "       RESTAURANT_ID  CITY  LOCALITY  RATING  VOTES  COST    0   1   2   3  \\\n",
       "0               9438     7       286       3     49  1200   59  32  66  85   \n",
       "1              13198     1      1047       4     30  1500    6  60  41  85   \n",
       "2              10915     1      1102       3    221   800   72  23  12  32   \n",
       "3               6346     7       136       4     24   800  100  23  93  85   \n",
       "4              15387     7       621       3    165   300   28  98  93  85   \n",
       "...              ...   ...       ...     ...    ...   ...  ...  ..  ..  ..   \n",
       "12685          13228     5       343       3    546   500   72  17  44  85   \n",
       "12686           9686     7       133       4   1214  1800   37  25  93  85   \n",
       "12687          11133     7      1343       4    608  1300   34  25   4  18   \n",
       "12688           6134     1       632       3     32   400   72  84  21  76   \n",
       "12689           6430     5      1334       3    677   600   72  23  93  85   \n",
       "\n",
       "        4   5   6   7   0  1  \n",
       "0      78  69  47  19   4  3  \n",
       "1      78  69  47  19   4  1  \n",
       "2      78  69  47  19   4  3  \n",
       "3      78  69  47  19  21  3  \n",
       "4      78  69  47  19   8  3  \n",
       "...    ..  ..  ..  ..  .. ..  \n",
       "12685  78  69  47  19  21  3  \n",
       "12686  78  69  47  19   4  1  \n",
       "12687  78  69  47  19  14  3  \n",
       "12688  78  69  47  19   4  3  \n",
       "12689  78  69  47  19   4  3  \n",
       "\n",
       "[11141 rows x 16 columns]"
      ]
     },
     "execution_count": 158,
     "metadata": {},
     "output_type": "execute_result"
    }
   ],
   "source": [
    "ds_new=ds_train[(z<3).all(axis=1)]\n",
    "ds_new"
   ]
  },
  {
   "cell_type": "markdown",
   "metadata": {},
   "source": [
    "%age loss after removal of outliers is approx 12% which is not ok. We can't use new dataset."
   ]
  },
  {
   "cell_type": "code",
   "execution_count": 159,
   "metadata": {},
   "outputs": [
    {
     "data": {
      "text/plain": [
       "RESTAURANT_ID     0.006947\n",
       "CITY             -0.117542\n",
       "LOCALITY          0.348139\n",
       "RATING            0.094125\n",
       "VOTES            14.563311\n",
       "COST              3.978801\n",
       "0                 0.026008\n",
       "1                 0.055174\n",
       "2                -0.823537\n",
       "3                -2.108741\n",
       "4                -4.094366\n",
       "5                -6.854150\n",
       "6               -10.250522\n",
       "7               -13.749110\n",
       "0                 0.087325\n",
       "1                 4.615460\n",
       "dtype: float64"
      ]
     },
     "execution_count": 159,
     "metadata": {},
     "output_type": "execute_result"
    }
   ],
   "source": [
    "ds_train.skew()"
   ]
  },
  {
   "cell_type": "code",
   "execution_count": 160,
   "metadata": {},
   "outputs": [],
   "source": [
    "from sklearn.linear_model import LinearRegression,LogisticRegression\n",
    "from sklearn.model_selection import train_test_split\n",
    "from sklearn.linear_model import Lasso,Ridge,ElasticNet\n",
    "from sklearn.model_selection import GridSearchCV\n",
    "from sklearn.tree import DecisionTreeRegressor\n",
    "from sklearn.ensemble import RandomForestRegressor\n",
    "from sklearn.svm import SVR\n",
    "from sklearn.neighbors import KNeighborsRegressor\n",
    "from sklearn.ensemble import AdaBoostRegressor\n",
    "from sklearn.ensemble import GradientBoostingRegressor\n",
    "from sklearn.preprocessing import StandardScaler\n",
    "from sklearn.metrics import r2_score\n",
    "from sklearn.metrics import mean_squared_error, mean_absolute_error\n",
    "from sklearn.model_selection import cross_val_score"
   ]
  },
  {
   "cell_type": "code",
   "execution_count": 161,
   "metadata": {},
   "outputs": [],
   "source": [
    "x = ds_train.drop('COST',axis = 1)"
   ]
  },
  {
   "cell_type": "code",
   "execution_count": 162,
   "metadata": {},
   "outputs": [],
   "source": [
    "y = ds_train['COST']"
   ]
  },
  {
   "cell_type": "code",
   "execution_count": 163,
   "metadata": {},
   "outputs": [],
   "source": [
    "from sklearn.preprocessing import power_transform"
   ]
  },
  {
   "cell_type": "code",
   "execution_count": 164,
   "metadata": {},
   "outputs": [],
   "source": [
    "x = power_transform(x,method='yeo-johnson')"
   ]
  },
  {
   "cell_type": "code",
   "execution_count": 165,
   "metadata": {},
   "outputs": [],
   "source": [
    "sc=StandardScaler()\n",
    "\n",
    "x=sc.fit_transform(x)"
   ]
  },
  {
   "cell_type": "code",
   "execution_count": 166,
   "metadata": {},
   "outputs": [
    {
     "ename": "KeyboardInterrupt",
     "evalue": "",
     "output_type": "error",
     "traceback": [
      "\u001b[1;31m---------------------------------------------------------------------------\u001b[0m",
      "\u001b[1;31mKeyboardInterrupt\u001b[0m                         Traceback (most recent call last)",
      "\u001b[1;32m<ipython-input-166-c54a5d0fe153>\u001b[0m in \u001b[0;36m<module>\u001b[1;34m\u001b[0m\n\u001b[0;32m      5\u001b[0m     \u001b[0mx_train\u001b[0m\u001b[1;33m,\u001b[0m\u001b[0mx_test\u001b[0m\u001b[1;33m,\u001b[0m\u001b[0my_train\u001b[0m\u001b[1;33m,\u001b[0m\u001b[0my_test\u001b[0m\u001b[1;33m=\u001b[0m\u001b[0mtrain_test_split\u001b[0m\u001b[1;33m(\u001b[0m\u001b[0mx\u001b[0m\u001b[1;33m,\u001b[0m\u001b[0my\u001b[0m\u001b[1;33m,\u001b[0m\u001b[0mtest_size\u001b[0m\u001b[1;33m=\u001b[0m\u001b[1;36m.20\u001b[0m\u001b[1;33m,\u001b[0m\u001b[0mrandom_state\u001b[0m\u001b[1;33m=\u001b[0m\u001b[0mran_state\u001b[0m\u001b[1;33m)\u001b[0m\u001b[1;33m\u001b[0m\u001b[1;33m\u001b[0m\u001b[0m\n\u001b[0;32m      6\u001b[0m     \u001b[1;32mfor\u001b[0m \u001b[0mi\u001b[0m \u001b[1;32min\u001b[0m \u001b[0mmodel\u001b[0m\u001b[1;33m:\u001b[0m\u001b[1;33m\u001b[0m\u001b[1;33m\u001b[0m\u001b[0m\n\u001b[1;32m----> 7\u001b[1;33m         \u001b[0mi\u001b[0m\u001b[1;33m.\u001b[0m\u001b[0mfit\u001b[0m\u001b[1;33m(\u001b[0m\u001b[0mx_train\u001b[0m\u001b[1;33m,\u001b[0m\u001b[0my_train\u001b[0m\u001b[1;33m)\u001b[0m\u001b[1;33m\u001b[0m\u001b[1;33m\u001b[0m\u001b[0m\n\u001b[0m\u001b[0;32m      8\u001b[0m         \u001b[0my_pred\u001b[0m\u001b[1;33m=\u001b[0m\u001b[0mi\u001b[0m\u001b[1;33m.\u001b[0m\u001b[0mpredict\u001b[0m\u001b[1;33m(\u001b[0m\u001b[0mx_test\u001b[0m\u001b[1;33m)\u001b[0m\u001b[1;33m\u001b[0m\u001b[1;33m\u001b[0m\u001b[0m\n\u001b[0;32m      9\u001b[0m         \u001b[0mr2_sco\u001b[0m\u001b[1;33m=\u001b[0m\u001b[0mr2_score\u001b[0m\u001b[1;33m(\u001b[0m\u001b[0my_test\u001b[0m\u001b[1;33m,\u001b[0m\u001b[0my_pred\u001b[0m\u001b[1;33m)\u001b[0m\u001b[1;33m\u001b[0m\u001b[1;33m\u001b[0m\u001b[0m\n",
      "\u001b[1;32mE:\\anaconda3\\lib\\site-packages\\sklearn\\ensemble\\_forest.py\u001b[0m in \u001b[0;36mfit\u001b[1;34m(self, X, y, sample_weight)\u001b[0m\n\u001b[0;32m    384\u001b[0m             \u001b[1;31m# parallel_backend contexts set at a higher level,\u001b[0m\u001b[1;33m\u001b[0m\u001b[1;33m\u001b[0m\u001b[1;33m\u001b[0m\u001b[0m\n\u001b[0;32m    385\u001b[0m             \u001b[1;31m# since correctness does not rely on using threads.\u001b[0m\u001b[1;33m\u001b[0m\u001b[1;33m\u001b[0m\u001b[1;33m\u001b[0m\u001b[0m\n\u001b[1;32m--> 386\u001b[1;33m             trees = Parallel(n_jobs=self.n_jobs, verbose=self.verbose,\n\u001b[0m\u001b[0;32m    387\u001b[0m                              \u001b[1;33m**\u001b[0m\u001b[0m_joblib_parallel_args\u001b[0m\u001b[1;33m(\u001b[0m\u001b[0mprefer\u001b[0m\u001b[1;33m=\u001b[0m\u001b[1;34m'threads'\u001b[0m\u001b[1;33m)\u001b[0m\u001b[1;33m)\u001b[0m\u001b[1;33m(\u001b[0m\u001b[1;33m\u001b[0m\u001b[1;33m\u001b[0m\u001b[0m\n\u001b[0;32m    388\u001b[0m                 delayed(_parallel_build_trees)(\n",
      "\u001b[1;32mE:\\anaconda3\\lib\\site-packages\\joblib\\parallel.py\u001b[0m in \u001b[0;36m__call__\u001b[1;34m(self, iterable)\u001b[0m\n\u001b[0;32m   1049\u001b[0m                 \u001b[0mself\u001b[0m\u001b[1;33m.\u001b[0m\u001b[0m_iterating\u001b[0m \u001b[1;33m=\u001b[0m \u001b[0mself\u001b[0m\u001b[1;33m.\u001b[0m\u001b[0m_original_iterator\u001b[0m \u001b[1;32mis\u001b[0m \u001b[1;32mnot\u001b[0m \u001b[1;32mNone\u001b[0m\u001b[1;33m\u001b[0m\u001b[1;33m\u001b[0m\u001b[0m\n\u001b[0;32m   1050\u001b[0m \u001b[1;33m\u001b[0m\u001b[0m\n\u001b[1;32m-> 1051\u001b[1;33m             \u001b[1;32mwhile\u001b[0m \u001b[0mself\u001b[0m\u001b[1;33m.\u001b[0m\u001b[0mdispatch_one_batch\u001b[0m\u001b[1;33m(\u001b[0m\u001b[0miterator\u001b[0m\u001b[1;33m)\u001b[0m\u001b[1;33m:\u001b[0m\u001b[1;33m\u001b[0m\u001b[1;33m\u001b[0m\u001b[0m\n\u001b[0m\u001b[0;32m   1052\u001b[0m                 \u001b[1;32mpass\u001b[0m\u001b[1;33m\u001b[0m\u001b[1;33m\u001b[0m\u001b[0m\n\u001b[0;32m   1053\u001b[0m \u001b[1;33m\u001b[0m\u001b[0m\n",
      "\u001b[1;32mE:\\anaconda3\\lib\\site-packages\\joblib\\parallel.py\u001b[0m in \u001b[0;36mdispatch_one_batch\u001b[1;34m(self, iterator)\u001b[0m\n\u001b[0;32m    864\u001b[0m                 \u001b[1;32mreturn\u001b[0m \u001b[1;32mFalse\u001b[0m\u001b[1;33m\u001b[0m\u001b[1;33m\u001b[0m\u001b[0m\n\u001b[0;32m    865\u001b[0m             \u001b[1;32melse\u001b[0m\u001b[1;33m:\u001b[0m\u001b[1;33m\u001b[0m\u001b[1;33m\u001b[0m\u001b[0m\n\u001b[1;32m--> 866\u001b[1;33m                 \u001b[0mself\u001b[0m\u001b[1;33m.\u001b[0m\u001b[0m_dispatch\u001b[0m\u001b[1;33m(\u001b[0m\u001b[0mtasks\u001b[0m\u001b[1;33m)\u001b[0m\u001b[1;33m\u001b[0m\u001b[1;33m\u001b[0m\u001b[0m\n\u001b[0m\u001b[0;32m    867\u001b[0m                 \u001b[1;32mreturn\u001b[0m \u001b[1;32mTrue\u001b[0m\u001b[1;33m\u001b[0m\u001b[1;33m\u001b[0m\u001b[0m\n\u001b[0;32m    868\u001b[0m \u001b[1;33m\u001b[0m\u001b[0m\n",
      "\u001b[1;32mE:\\anaconda3\\lib\\site-packages\\joblib\\parallel.py\u001b[0m in \u001b[0;36m_dispatch\u001b[1;34m(self, batch)\u001b[0m\n\u001b[0;32m    782\u001b[0m         \u001b[1;32mwith\u001b[0m \u001b[0mself\u001b[0m\u001b[1;33m.\u001b[0m\u001b[0m_lock\u001b[0m\u001b[1;33m:\u001b[0m\u001b[1;33m\u001b[0m\u001b[1;33m\u001b[0m\u001b[0m\n\u001b[0;32m    783\u001b[0m             \u001b[0mjob_idx\u001b[0m \u001b[1;33m=\u001b[0m \u001b[0mlen\u001b[0m\u001b[1;33m(\u001b[0m\u001b[0mself\u001b[0m\u001b[1;33m.\u001b[0m\u001b[0m_jobs\u001b[0m\u001b[1;33m)\u001b[0m\u001b[1;33m\u001b[0m\u001b[1;33m\u001b[0m\u001b[0m\n\u001b[1;32m--> 784\u001b[1;33m             \u001b[0mjob\u001b[0m \u001b[1;33m=\u001b[0m \u001b[0mself\u001b[0m\u001b[1;33m.\u001b[0m\u001b[0m_backend\u001b[0m\u001b[1;33m.\u001b[0m\u001b[0mapply_async\u001b[0m\u001b[1;33m(\u001b[0m\u001b[0mbatch\u001b[0m\u001b[1;33m,\u001b[0m \u001b[0mcallback\u001b[0m\u001b[1;33m=\u001b[0m\u001b[0mcb\u001b[0m\u001b[1;33m)\u001b[0m\u001b[1;33m\u001b[0m\u001b[1;33m\u001b[0m\u001b[0m\n\u001b[0m\u001b[0;32m    785\u001b[0m             \u001b[1;31m# A job can complete so quickly than its callback is\u001b[0m\u001b[1;33m\u001b[0m\u001b[1;33m\u001b[0m\u001b[1;33m\u001b[0m\u001b[0m\n\u001b[0;32m    786\u001b[0m             \u001b[1;31m# called before we get here, causing self._jobs to\u001b[0m\u001b[1;33m\u001b[0m\u001b[1;33m\u001b[0m\u001b[1;33m\u001b[0m\u001b[0m\n",
      "\u001b[1;32mE:\\anaconda3\\lib\\site-packages\\joblib\\_parallel_backends.py\u001b[0m in \u001b[0;36mapply_async\u001b[1;34m(self, func, callback)\u001b[0m\n\u001b[0;32m    206\u001b[0m     \u001b[1;32mdef\u001b[0m \u001b[0mapply_async\u001b[0m\u001b[1;33m(\u001b[0m\u001b[0mself\u001b[0m\u001b[1;33m,\u001b[0m \u001b[0mfunc\u001b[0m\u001b[1;33m,\u001b[0m \u001b[0mcallback\u001b[0m\u001b[1;33m=\u001b[0m\u001b[1;32mNone\u001b[0m\u001b[1;33m)\u001b[0m\u001b[1;33m:\u001b[0m\u001b[1;33m\u001b[0m\u001b[1;33m\u001b[0m\u001b[0m\n\u001b[0;32m    207\u001b[0m         \u001b[1;34m\"\"\"Schedule a func to be run\"\"\"\u001b[0m\u001b[1;33m\u001b[0m\u001b[1;33m\u001b[0m\u001b[0m\n\u001b[1;32m--> 208\u001b[1;33m         \u001b[0mresult\u001b[0m \u001b[1;33m=\u001b[0m \u001b[0mImmediateResult\u001b[0m\u001b[1;33m(\u001b[0m\u001b[0mfunc\u001b[0m\u001b[1;33m)\u001b[0m\u001b[1;33m\u001b[0m\u001b[1;33m\u001b[0m\u001b[0m\n\u001b[0m\u001b[0;32m    209\u001b[0m         \u001b[1;32mif\u001b[0m \u001b[0mcallback\u001b[0m\u001b[1;33m:\u001b[0m\u001b[1;33m\u001b[0m\u001b[1;33m\u001b[0m\u001b[0m\n\u001b[0;32m    210\u001b[0m             \u001b[0mcallback\u001b[0m\u001b[1;33m(\u001b[0m\u001b[0mresult\u001b[0m\u001b[1;33m)\u001b[0m\u001b[1;33m\u001b[0m\u001b[1;33m\u001b[0m\u001b[0m\n",
      "\u001b[1;32mE:\\anaconda3\\lib\\site-packages\\joblib\\_parallel_backends.py\u001b[0m in \u001b[0;36m__init__\u001b[1;34m(self, batch)\u001b[0m\n\u001b[0;32m    570\u001b[0m         \u001b[1;31m# Don't delay the application, to avoid keeping the input\u001b[0m\u001b[1;33m\u001b[0m\u001b[1;33m\u001b[0m\u001b[1;33m\u001b[0m\u001b[0m\n\u001b[0;32m    571\u001b[0m         \u001b[1;31m# arguments in memory\u001b[0m\u001b[1;33m\u001b[0m\u001b[1;33m\u001b[0m\u001b[1;33m\u001b[0m\u001b[0m\n\u001b[1;32m--> 572\u001b[1;33m         \u001b[0mself\u001b[0m\u001b[1;33m.\u001b[0m\u001b[0mresults\u001b[0m \u001b[1;33m=\u001b[0m \u001b[0mbatch\u001b[0m\u001b[1;33m(\u001b[0m\u001b[1;33m)\u001b[0m\u001b[1;33m\u001b[0m\u001b[1;33m\u001b[0m\u001b[0m\n\u001b[0m\u001b[0;32m    573\u001b[0m \u001b[1;33m\u001b[0m\u001b[0m\n\u001b[0;32m    574\u001b[0m     \u001b[1;32mdef\u001b[0m \u001b[0mget\u001b[0m\u001b[1;33m(\u001b[0m\u001b[0mself\u001b[0m\u001b[1;33m)\u001b[0m\u001b[1;33m:\u001b[0m\u001b[1;33m\u001b[0m\u001b[1;33m\u001b[0m\u001b[0m\n",
      "\u001b[1;32mE:\\anaconda3\\lib\\site-packages\\joblib\\parallel.py\u001b[0m in \u001b[0;36m__call__\u001b[1;34m(self)\u001b[0m\n\u001b[0;32m    260\u001b[0m         \u001b[1;31m# change the default number of processes to -1\u001b[0m\u001b[1;33m\u001b[0m\u001b[1;33m\u001b[0m\u001b[1;33m\u001b[0m\u001b[0m\n\u001b[0;32m    261\u001b[0m         \u001b[1;32mwith\u001b[0m \u001b[0mparallel_backend\u001b[0m\u001b[1;33m(\u001b[0m\u001b[0mself\u001b[0m\u001b[1;33m.\u001b[0m\u001b[0m_backend\u001b[0m\u001b[1;33m,\u001b[0m \u001b[0mn_jobs\u001b[0m\u001b[1;33m=\u001b[0m\u001b[0mself\u001b[0m\u001b[1;33m.\u001b[0m\u001b[0m_n_jobs\u001b[0m\u001b[1;33m)\u001b[0m\u001b[1;33m:\u001b[0m\u001b[1;33m\u001b[0m\u001b[1;33m\u001b[0m\u001b[0m\n\u001b[1;32m--> 262\u001b[1;33m             return [func(*args, **kwargs)\n\u001b[0m\u001b[0;32m    263\u001b[0m                     for func, args, kwargs in self.items]\n\u001b[0;32m    264\u001b[0m \u001b[1;33m\u001b[0m\u001b[0m\n",
      "\u001b[1;32mE:\\anaconda3\\lib\\site-packages\\joblib\\parallel.py\u001b[0m in \u001b[0;36m<listcomp>\u001b[1;34m(.0)\u001b[0m\n\u001b[0;32m    260\u001b[0m         \u001b[1;31m# change the default number of processes to -1\u001b[0m\u001b[1;33m\u001b[0m\u001b[1;33m\u001b[0m\u001b[1;33m\u001b[0m\u001b[0m\n\u001b[0;32m    261\u001b[0m         \u001b[1;32mwith\u001b[0m \u001b[0mparallel_backend\u001b[0m\u001b[1;33m(\u001b[0m\u001b[0mself\u001b[0m\u001b[1;33m.\u001b[0m\u001b[0m_backend\u001b[0m\u001b[1;33m,\u001b[0m \u001b[0mn_jobs\u001b[0m\u001b[1;33m=\u001b[0m\u001b[0mself\u001b[0m\u001b[1;33m.\u001b[0m\u001b[0m_n_jobs\u001b[0m\u001b[1;33m)\u001b[0m\u001b[1;33m:\u001b[0m\u001b[1;33m\u001b[0m\u001b[1;33m\u001b[0m\u001b[0m\n\u001b[1;32m--> 262\u001b[1;33m             return [func(*args, **kwargs)\n\u001b[0m\u001b[0;32m    263\u001b[0m                     for func, args, kwargs in self.items]\n\u001b[0;32m    264\u001b[0m \u001b[1;33m\u001b[0m\u001b[0m\n",
      "\u001b[1;32mE:\\anaconda3\\lib\\site-packages\\sklearn\\ensemble\\_forest.py\u001b[0m in \u001b[0;36m_parallel_build_trees\u001b[1;34m(tree, forest, X, y, sample_weight, tree_idx, n_trees, verbose, class_weight, n_samples_bootstrap)\u001b[0m\n\u001b[0;32m    166\u001b[0m                                                         indices=indices)\n\u001b[0;32m    167\u001b[0m \u001b[1;33m\u001b[0m\u001b[0m\n\u001b[1;32m--> 168\u001b[1;33m         \u001b[0mtree\u001b[0m\u001b[1;33m.\u001b[0m\u001b[0mfit\u001b[0m\u001b[1;33m(\u001b[0m\u001b[0mX\u001b[0m\u001b[1;33m,\u001b[0m \u001b[0my\u001b[0m\u001b[1;33m,\u001b[0m \u001b[0msample_weight\u001b[0m\u001b[1;33m=\u001b[0m\u001b[0mcurr_sample_weight\u001b[0m\u001b[1;33m,\u001b[0m \u001b[0mcheck_input\u001b[0m\u001b[1;33m=\u001b[0m\u001b[1;32mFalse\u001b[0m\u001b[1;33m)\u001b[0m\u001b[1;33m\u001b[0m\u001b[1;33m\u001b[0m\u001b[0m\n\u001b[0m\u001b[0;32m    169\u001b[0m     \u001b[1;32melse\u001b[0m\u001b[1;33m:\u001b[0m\u001b[1;33m\u001b[0m\u001b[1;33m\u001b[0m\u001b[0m\n\u001b[0;32m    170\u001b[0m         \u001b[0mtree\u001b[0m\u001b[1;33m.\u001b[0m\u001b[0mfit\u001b[0m\u001b[1;33m(\u001b[0m\u001b[0mX\u001b[0m\u001b[1;33m,\u001b[0m \u001b[0my\u001b[0m\u001b[1;33m,\u001b[0m \u001b[0msample_weight\u001b[0m\u001b[1;33m=\u001b[0m\u001b[0msample_weight\u001b[0m\u001b[1;33m,\u001b[0m \u001b[0mcheck_input\u001b[0m\u001b[1;33m=\u001b[0m\u001b[1;32mFalse\u001b[0m\u001b[1;33m)\u001b[0m\u001b[1;33m\u001b[0m\u001b[1;33m\u001b[0m\u001b[0m\n",
      "\u001b[1;32mE:\\anaconda3\\lib\\site-packages\\sklearn\\tree\\_classes.py\u001b[0m in \u001b[0;36mfit\u001b[1;34m(self, X, y, sample_weight, check_input, X_idx_sorted)\u001b[0m\n\u001b[0;32m   1240\u001b[0m         \"\"\"\n\u001b[0;32m   1241\u001b[0m \u001b[1;33m\u001b[0m\u001b[0m\n\u001b[1;32m-> 1242\u001b[1;33m         super().fit(\n\u001b[0m\u001b[0;32m   1243\u001b[0m             \u001b[0mX\u001b[0m\u001b[1;33m,\u001b[0m \u001b[0my\u001b[0m\u001b[1;33m,\u001b[0m\u001b[1;33m\u001b[0m\u001b[1;33m\u001b[0m\u001b[0m\n\u001b[0;32m   1244\u001b[0m             \u001b[0msample_weight\u001b[0m\u001b[1;33m=\u001b[0m\u001b[0msample_weight\u001b[0m\u001b[1;33m,\u001b[0m\u001b[1;33m\u001b[0m\u001b[1;33m\u001b[0m\u001b[0m\n",
      "\u001b[1;32mE:\\anaconda3\\lib\\site-packages\\sklearn\\tree\\_classes.py\u001b[0m in \u001b[0;36mfit\u001b[1;34m(self, X, y, sample_weight, check_input, X_idx_sorted)\u001b[0m\n\u001b[0;32m    373\u001b[0m                                            min_impurity_split)\n\u001b[0;32m    374\u001b[0m \u001b[1;33m\u001b[0m\u001b[0m\n\u001b[1;32m--> 375\u001b[1;33m         \u001b[0mbuilder\u001b[0m\u001b[1;33m.\u001b[0m\u001b[0mbuild\u001b[0m\u001b[1;33m(\u001b[0m\u001b[0mself\u001b[0m\u001b[1;33m.\u001b[0m\u001b[0mtree_\u001b[0m\u001b[1;33m,\u001b[0m \u001b[0mX\u001b[0m\u001b[1;33m,\u001b[0m \u001b[0my\u001b[0m\u001b[1;33m,\u001b[0m \u001b[0msample_weight\u001b[0m\u001b[1;33m,\u001b[0m \u001b[0mX_idx_sorted\u001b[0m\u001b[1;33m)\u001b[0m\u001b[1;33m\u001b[0m\u001b[1;33m\u001b[0m\u001b[0m\n\u001b[0m\u001b[0;32m    376\u001b[0m \u001b[1;33m\u001b[0m\u001b[0m\n\u001b[0;32m    377\u001b[0m         \u001b[1;32mif\u001b[0m \u001b[0mself\u001b[0m\u001b[1;33m.\u001b[0m\u001b[0mn_outputs_\u001b[0m \u001b[1;33m==\u001b[0m \u001b[1;36m1\u001b[0m \u001b[1;32mand\u001b[0m \u001b[0mis_classifier\u001b[0m\u001b[1;33m(\u001b[0m\u001b[0mself\u001b[0m\u001b[1;33m)\u001b[0m\u001b[1;33m:\u001b[0m\u001b[1;33m\u001b[0m\u001b[1;33m\u001b[0m\u001b[0m\n",
      "\u001b[1;31mKeyboardInterrupt\u001b[0m: "
     ]
    }
   ],
   "source": [
    "model = [RandomForestRegressor()]\n",
    "\n",
    "max_r2score=0\n",
    "for ran_state in range(30,200):\n",
    "    x_train,x_test,y_train,y_test=train_test_split(x,y,test_size=.20,random_state=ran_state)\n",
    "    for i in model:\n",
    "        i.fit(x_train,y_train)\n",
    "        y_pred=i.predict(x_test)\n",
    "        r2_sco=r2_score(y_test,y_pred)\n",
    "        if r2_sco > max_r2score:\n",
    "            max_r2score = r2_sco\n",
    "            final_state = ran_state\n",
    "            final_model= i\n",
    "        \n",
    "\n",
    "print('max r2_score with random_state',final_state,'is',max_r2score,'and model is',final_model)"
   ]
  },
  {
   "cell_type": "code",
   "execution_count": 167,
   "metadata": {},
   "outputs": [],
   "source": [
    "x_train,x_test,y_train,y_test=train_test_split(x,y,test_size=.20,random_state=46)"
   ]
  },
  {
   "cell_type": "code",
   "execution_count": 168,
   "metadata": {},
   "outputs": [
    {
     "name": "stdout",
     "output_type": "stream",
     "text": [
      "Score of LinearRegression() is 0.20863722412009134\n",
      "MAE : 328.9959783436202\n",
      "MSE: 312742.0842534443\n",
      "RSME: 18.138246286331547\n",
      "R2_Score: 0.21608756479599778\n",
      "*************************************************************************************************************\n",
      "\n",
      "\n",
      "Score of DecisionTreeRegressor() is 1.0\n",
      "MAE : 259.3435776201734\n",
      "MSE: 209644.94483845547\n",
      "RSME: 16.104147838993946\n",
      "R2_Score: 0.4745085886703384\n",
      "*************************************************************************************************************\n",
      "\n",
      "\n",
      "Score of RandomForestRegressor() is 0.9557865372571388\n",
      "MAE : 192.77823089046493\n",
      "MSE: 97561.7943965721\n",
      "RSME: 13.884460050375202\n",
      "R2_Score: 0.7554537502976089\n",
      "*************************************************************************************************************\n",
      "\n",
      "\n",
      "Score of KNeighborsRegressor() is 0.527275298495874\n",
      "MAE : 290.28526398739166\n",
      "MSE: 262901.8620961387\n",
      "RSME: 17.037759946289643\n",
      "R2_Score: 0.34101597030850783\n",
      "*************************************************************************************************************\n",
      "\n",
      "\n",
      "Score of AdaBoostRegressor() is -0.7466547252551345\n",
      "MAE : 743.2107065938884\n",
      "MSE: 701673.8305750085\n",
      "RSME: 27.261891104504993\n",
      "R2_Score: -0.7588002029148644\n",
      "*************************************************************************************************************\n",
      "\n",
      "\n",
      "Score of SVR() is 0.07278416496964857\n",
      "MAE : 312.41138808186287\n",
      "MSE: 369932.3881024428\n",
      "RSME: 17.675163028438035\n",
      "R2_Score: 0.0727356060490787\n",
      "*************************************************************************************************************\n",
      "\n",
      "\n",
      "Score of Lasso() is 0.2085939148092082\n",
      "MAE : 328.7099704187336\n",
      "MSE: 312778.36489495804\n",
      "RSME: 18.130360460253776\n",
      "R2_Score: 0.21599662453732515\n",
      "*************************************************************************************************************\n",
      "\n",
      "\n",
      "Score of Ridge() is 0.20863722328644296\n",
      "MAE : 328.9942878745302\n",
      "MSE: 312742.1804736104\n",
      "RSME: 18.138199686697966\n",
      "R2_Score: 0.21608732361264393\n",
      "*************************************************************************************************************\n",
      "\n",
      "\n",
      "Score of ElasticNet() is 0.1972737841397757\n",
      "MAE : 330.1096588104616\n",
      "MSE: 317686.63055790204\n",
      "RSME: 18.168920133306262\n",
      "R2_Score: 0.20369367369637437\n",
      "*************************************************************************************************************\n",
      "\n",
      "\n",
      "Score of GradientBoostingRegressor() is 0.7099337184533309\n",
      "MAE : 205.94232960294576\n",
      "MSE: 113570.56403853945\n",
      "RSME: 14.350690910299258\n",
      "R2_Score: 0.7153265201404916\n",
      "*************************************************************************************************************\n",
      "\n",
      "\n"
     ]
    }
   ],
   "source": [
    "model = [LinearRegression(),DecisionTreeRegressor(), RandomForestRegressor(),KNeighborsRegressor(),AdaBoostRegressor(),\n",
    "         SVR(),Lasso(),Ridge(),ElasticNet(),GradientBoostingRegressor()]\n",
    "\n",
    "for m in model:\n",
    "    m.fit(x_train,y_train)\n",
    "    score = m.score(x_train,y_train)\n",
    "    predm = m.predict(x_test)\n",
    "    print('Score of',m,'is',score)\n",
    "    print('MAE :',mean_absolute_error(y_test,predm))\n",
    "    print('MSE:',mean_squared_error(y_test,predm))\n",
    "    print('RSME:',np.sqrt(mean_absolute_error(y_test,predm)))\n",
    "    print('R2_Score:',r2_score(y_test,predm))\n",
    "    print('*************************************************************************************************************')\n",
    "    print('\\n')"
   ]
  },
  {
   "cell_type": "code",
   "execution_count": 84,
   "metadata": {},
   "outputs": [
    {
     "name": "stdout",
     "output_type": "stream",
     "text": [
      "Model: LinearRegression()\n",
      "Score: [0.25477291 0.13188422 0.18098352 0.23000272 0.20355434 0.24300045\n",
      " 0.21223004 0.21138822 0.24687082 0.21922225]\n",
      "Mean Score : 0.21339094951766366\n",
      "Standard Deviation: 0.03437404856526688\n",
      "*************************************************************************************************************\n",
      "\n",
      "\n",
      "Model: DecisionTreeRegressor()\n",
      "Score: [0.49771394 0.35453408 0.56080691 0.55628132 0.47156386 0.43186834\n",
      " 0.45068244 0.32765078 0.53257331 0.54691499]\n",
      "Mean Score : 0.47305899922294226\n",
      "Standard Deviation: 0.07849936213749754\n",
      "*************************************************************************************************************\n",
      "\n",
      "\n",
      "Model: RandomForestRegressor()\n",
      "Score: [0.75033798 0.55592847 0.71735259 0.76496619 0.74763725 0.64924239\n",
      " 0.67479926 0.68422311 0.75698033 0.75233184]\n",
      "Mean Score : 0.705379940893696\n",
      "Standard Deviation: 0.06264008775931346\n",
      "*************************************************************************************************************\n",
      "\n",
      "\n",
      "Model: KNeighborsRegressor()\n",
      "Score: [0.32566562 0.25573996 0.3067845  0.39389525 0.27925328 0.25755451\n",
      " 0.28808344 0.28841999 0.38776836 0.24884536]\n",
      "Mean Score : 0.30320102686392264\n",
      "Standard Deviation: 0.0491993767272292\n",
      "*************************************************************************************************************\n",
      "\n",
      "\n",
      "Model: AdaBoostRegressor()\n",
      "Score: [-1.30274315  0.30557979 -0.6692051  -1.09354881 -1.30093284 -1.16704512\n",
      " -1.05509085 -1.35339649 -1.41919182 -0.51978305]\n",
      "Mean Score : -0.9575357435001614\n",
      "Standard Deviation: 0.504881703942877\n",
      "*************************************************************************************************************\n",
      "\n",
      "\n",
      "Model: SVR()\n",
      "Score: [0.11535754 0.03670128 0.07151123 0.09695436 0.09752965 0.10622379\n",
      " 0.08040728 0.0747821  0.08800092 0.08662416]\n",
      "Mean Score : 0.0854092323971389\n",
      "Standard Deviation: 0.020789681457368026\n",
      "*************************************************************************************************************\n",
      "\n",
      "\n",
      "Model: Lasso()\n",
      "Score: [0.25453742 0.13183188 0.18082502 0.23021959 0.20416375 0.24320692\n",
      " 0.21188048 0.21093173 0.24730226 0.21909213]\n",
      "Mean Score : 0.21339911838742384\n",
      "Standard Deviation: 0.03442905511490898\n",
      "*************************************************************************************************************\n",
      "\n",
      "\n",
      "Model: Ridge()\n",
      "Score: [0.25478199 0.13189429 0.18099356 0.22999632 0.20356168 0.24299418\n",
      " 0.21223524 0.2113885  0.24691721 0.2192338 ]\n",
      "Mean Score : 0.21339967695837397\n",
      "Standard Deviation: 0.03437544365893261\n",
      "*************************************************************************************************************\n",
      "\n",
      "\n",
      "Model: ElasticNet()\n",
      "Score: [0.24686901 0.127709   0.17249661 0.2187463  0.20299311 0.23535436\n",
      " 0.20169231 0.20471994 0.23632131 0.20724913]\n",
      "Mean Score : 0.205415108796782\n",
      "Standard Deviation: 0.03300475403618825\n",
      "*************************************************************************************************************\n",
      "\n",
      "\n",
      "Model: GradientBoostingRegressor()\n",
      "Score: [0.72067774 0.54904049 0.6857765  0.74771881 0.7194661  0.70699311\n",
      " 0.66558378 0.71850507 0.74026617 0.7155262 ]\n",
      "Mean Score : 0.6969553974575435\n",
      "Standard Deviation: 0.05424040210428548\n",
      "*************************************************************************************************************\n",
      "\n",
      "\n"
     ]
    }
   ],
   "source": [
    "model = [LinearRegression(),DecisionTreeRegressor(), RandomForestRegressor(),KNeighborsRegressor(),AdaBoostRegressor(),\n",
    "         SVR(),Lasso(),Ridge(),ElasticNet(),GradientBoostingRegressor()]\n",
    "\n",
    "for m in model:\n",
    "    score = cross_val_score(m,x,y,cv= 10,scoring = 'r2')\n",
    "    print('Model:',m)\n",
    "    print('Score:',score)\n",
    "    print('Mean Score :',score.mean())\n",
    "    print('Standard Deviation:',score.std())\n",
    "    print('*************************************************************************************************************')\n",
    "    print('\\n')"
   ]
  },
  {
   "cell_type": "markdown",
   "metadata": {},
   "source": [
    "## RANDOM FOREST REGRESSOR IS GIVING THE BEST SCORE AND R2 SCORE SO I CHOOSE IT AS FINAL MODEL."
   ]
  },
  {
   "cell_type": "markdown",
   "metadata": {},
   "source": [
    "Using GridSearchCV to find best parameters"
   ]
  },
  {
   "cell_type": "code",
   "execution_count": 169,
   "metadata": {},
   "outputs": [
    {
     "data": {
      "text/plain": [
       "0.6946031204617296"
      ]
     },
     "execution_count": 169,
     "metadata": {},
     "output_type": "execute_result"
    }
   ],
   "source": [
    "rfr=RandomForestRegressor()\n",
    "\n",
    "rfrpara={\n",
    "    \n",
    "    \"n_estimators\": [600,700],\n",
    "    \"max_depth\":[30],\n",
    "    \n",
    "}\n",
    "\n",
    "rfrgrid=GridSearchCV(rfr,param_grid=rfrpara,cv=10,n_jobs=-1)\n",
    "\n",
    "rfrgrid.fit(x_train,y_train)\n",
    "rfrgrid.best_score_"
   ]
  },
  {
   "cell_type": "code",
   "execution_count": 170,
   "metadata": {},
   "outputs": [
    {
     "data": {
      "text/plain": [
       "{'max_depth': 30, 'n_estimators': 600}"
      ]
     },
     "execution_count": 170,
     "metadata": {},
     "output_type": "execute_result"
    }
   ],
   "source": [
    "rfrgrid.best_params_"
   ]
  },
  {
   "cell_type": "code",
   "execution_count": 172,
   "metadata": {},
   "outputs": [
    {
     "name": "stdout",
     "output_type": "stream",
     "text": [
      "Score of RandomForestRegressor(max_depth=30, n_estimators=700) is 0.9571636442354028\n",
      "MAE : 191.6681704468913\n",
      "MSE: 97591.91240207528\n",
      "RSME: 13.84442741491649\n",
      "R2_Score: 0.7553782571669232\n",
      "*************************************************************************************************************\n",
      "\n",
      "\n"
     ]
    }
   ],
   "source": [
    "rf=RandomForestRegressor(max_depth = 30, n_estimators = 700)\n",
    "rf.fit(x_train,y_train)\n",
    "score = rf.score(x_train,y_train)\n",
    "predm = rf.predict(x_test)\n",
    "print('Score of',rfr,'is',score)\n",
    "print('MAE :',mean_absolute_error(y_test,predm))\n",
    "print('MSE:',mean_squared_error(y_test,predm))\n",
    "print('RSME:',np.sqrt(mean_absolute_error(y_test,predm)))\n",
    "print('R2_Score:',r2_score(y_test,predm))\n",
    "print('*************************************************************************************************************')\n",
    "print('\\n')"
   ]
  },
  {
   "cell_type": "markdown",
   "metadata": {},
   "source": [
    "## BEFORE HYPERPARAMETRER TUNING R2 SCORE = 75.54"
   ]
  },
  {
   "cell_type": "markdown",
   "metadata": {},
   "source": [
    "## BEFORE HYPERPARAMETRER TUNING R2 SCORE = 75.53"
   ]
  },
  {
   "cell_type": "code",
   "execution_count": 173,
   "metadata": {},
   "outputs": [
    {
     "data": {
      "image/png": "[encoded data removed]",
      "text/plain": [
       "<Figure size 432x288 with 1 Axes>"
      ]
     },
     "metadata": {
      "needs_background": "light"
     },
     "output_type": "display_data"
    }
   ],
   "source": [
    "# plotting distribution plot\n",
    "sns.distplot(y_test-predm)\n",
    "plt.show()"
   ]
  },
  {
   "cell_type": "code",
   "execution_count": 174,
   "metadata": {},
   "outputs": [],
   "source": [
    "import pickle"
   ]
  },
  {
   "cell_type": "code",
   "execution_count": 175,
   "metadata": {},
   "outputs": [],
   "source": [
    "finalmodel = 'Foodprice_train.pkl'\n",
    "pickle.dump(rf, open(finalmodel, 'wb'))"
   ]
  },
  {
   "cell_type": "markdown",
   "metadata": {},
   "source": [
    "### LOADING TEST DATA"
   ]
  },
  {
   "cell_type": "code",
   "execution_count": 254,
   "metadata": {},
   "outputs": [],
   "source": [
    "ds_test = pd.read_csv('Food_Test.csv')"
   ]
  },
  {
   "cell_type": "code",
   "execution_count": 255,
   "metadata": {},
   "outputs": [
    {
     "data": {
      "text/html": [
       "<div>\n",
       "<style scoped>\n",
       "    .dataframe tbody tr th:only-of-type {\n",
       "        vertical-align: middle;\n",
       "    }\n",
       "\n",
       "    .dataframe tbody tr th {\n",
       "        vertical-align: top;\n",
       "    }\n",
       "\n",
       "    .dataframe thead th {\n",
       "        text-align: right;\n",
       "    }\n",
       "</style>\n",
       "<table border=\"1\" class=\"dataframe\">\n",
       "  <thead>\n",
       "    <tr style=\"text-align: right;\">\n",
       "      <th></th>\n",
       "      <th>TITLE</th>\n",
       "      <th>RESTAURANT_ID</th>\n",
       "      <th>CUISINES</th>\n",
       "      <th>TIME</th>\n",
       "      <th>CITY</th>\n",
       "      <th>LOCALITY</th>\n",
       "      <th>RATING</th>\n",
       "      <th>VOTES</th>\n",
       "    </tr>\n",
       "  </thead>\n",
       "  <tbody>\n",
       "    <tr>\n",
       "      <th>0</th>\n",
       "      <td>CASUAL DINING</td>\n",
       "      <td>4085</td>\n",
       "      <td>North Indian, Chinese, Mughlai, Kebab</td>\n",
       "      <td>12noon – 12midnight (Mon-Sun)</td>\n",
       "      <td>Noida</td>\n",
       "      <td>Sector 18</td>\n",
       "      <td>4.3</td>\n",
       "      <td>564 votes</td>\n",
       "    </tr>\n",
       "    <tr>\n",
       "      <th>1</th>\n",
       "      <td>QUICK BITES</td>\n",
       "      <td>12680</td>\n",
       "      <td>South Indian, Fast Food, Pizza, North Indian</td>\n",
       "      <td>7am – 12:30AM (Mon-Sun)</td>\n",
       "      <td>Mumbai</td>\n",
       "      <td>Grant Road</td>\n",
       "      <td>4.2</td>\n",
       "      <td>61 votes</td>\n",
       "    </tr>\n",
       "    <tr>\n",
       "      <th>2</th>\n",
       "      <td>CASUAL DINING</td>\n",
       "      <td>1411</td>\n",
       "      <td>North Indian, Seafood, Biryani, Chinese</td>\n",
       "      <td>11am – 11:30pm (Mon-Sun)</td>\n",
       "      <td>Mumbai</td>\n",
       "      <td>Marine Lines</td>\n",
       "      <td>3.8</td>\n",
       "      <td>350 votes</td>\n",
       "    </tr>\n",
       "    <tr>\n",
       "      <th>3</th>\n",
       "      <td>None</td>\n",
       "      <td>204</td>\n",
       "      <td>Biryani</td>\n",
       "      <td>9am – 10pm (Mon, Wed, Thu, Fri, Sat, Sun), 10:...</td>\n",
       "      <td>Faridabad</td>\n",
       "      <td>NIT</td>\n",
       "      <td>3.8</td>\n",
       "      <td>1445 votes</td>\n",
       "    </tr>\n",
       "    <tr>\n",
       "      <th>4</th>\n",
       "      <td>QUICK BITES</td>\n",
       "      <td>13453</td>\n",
       "      <td>South Indian, Kerala</td>\n",
       "      <td>11am – 10pm (Mon-Sun)</td>\n",
       "      <td>Kochi</td>\n",
       "      <td>Kaloor</td>\n",
       "      <td>3.6</td>\n",
       "      <td>23 votes</td>\n",
       "    </tr>\n",
       "  </tbody>\n",
       "</table>\n",
       "</div>"
      ],
      "text/plain": [
       "           TITLE  RESTAURANT_ID                                      CUISINES  \\\n",
       "0  CASUAL DINING           4085         North Indian, Chinese, Mughlai, Kebab   \n",
       "1    QUICK BITES          12680  South Indian, Fast Food, Pizza, North Indian   \n",
       "2  CASUAL DINING           1411       North Indian, Seafood, Biryani, Chinese   \n",
       "3           None            204                                       Biryani   \n",
       "4    QUICK BITES          13453                          South Indian, Kerala   \n",
       "\n",
       "                                                TIME       CITY      LOCALITY  \\\n",
       "0                      12noon – 12midnight (Mon-Sun)      Noida     Sector 18   \n",
       "1                            7am – 12:30AM (Mon-Sun)     Mumbai    Grant Road   \n",
       "2                           11am – 11:30pm (Mon-Sun)     Mumbai  Marine Lines   \n",
       "3  9am – 10pm (Mon, Wed, Thu, Fri, Sat, Sun), 10:...  Faridabad           NIT   \n",
       "4                              11am – 10pm (Mon-Sun)      Kochi        Kaloor   \n",
       "\n",
       "  RATING       VOTES  \n",
       "0    4.3   564 votes  \n",
       "1    4.2    61 votes  \n",
       "2    3.8   350 votes  \n",
       "3    3.8  1445 votes  \n",
       "4    3.6    23 votes  "
      ]
     },
     "execution_count": 255,
     "metadata": {},
     "output_type": "execute_result"
    }
   ],
   "source": [
    "ds_test.head()"
   ]
  },
  {
   "cell_type": "code",
   "execution_count": 256,
   "metadata": {},
   "outputs": [
    {
     "name": "stdout",
     "output_type": "stream",
     "text": [
      "<class 'pandas.core.frame.DataFrame'>\n",
      "RangeIndex: 4231 entries, 0 to 4230\n",
      "Data columns (total 8 columns):\n",
      " #   Column         Non-Null Count  Dtype \n",
      "---  ------         --------------  ----- \n",
      " 0   TITLE          4231 non-null   object\n",
      " 1   RESTAURANT_ID  4231 non-null   int64 \n",
      " 2   CUISINES       4231 non-null   object\n",
      " 3   TIME           4231 non-null   object\n",
      " 4   CITY           4196 non-null   object\n",
      " 5   LOCALITY       4201 non-null   object\n",
      " 6   RATING         4229 non-null   object\n",
      " 7   VOTES          3829 non-null   object\n",
      "dtypes: int64(1), object(7)\n",
      "memory usage: 264.6+ KB\n"
     ]
    }
   ],
   "source": [
    "ds_test.info()"
   ]
  },
  {
   "cell_type": "code",
   "execution_count": 257,
   "metadata": {},
   "outputs": [
    {
     "data": {
      "text/plain": [
       "(4231, 8)"
      ]
     },
     "execution_count": 257,
     "metadata": {},
     "output_type": "execute_result"
    }
   ],
   "source": [
    "ds_test.shape"
   ]
  },
  {
   "cell_type": "code",
   "execution_count": 258,
   "metadata": {},
   "outputs": [
    {
     "data": {
      "text/plain": [
       "TITLE              0\n",
       "RESTAURANT_ID      0\n",
       "CUISINES           0\n",
       "TIME               0\n",
       "CITY              35\n",
       "LOCALITY          30\n",
       "RATING             2\n",
       "VOTES            402\n",
       "dtype: int64"
      ]
     },
     "execution_count": 258,
     "metadata": {},
     "output_type": "execute_result"
    }
   ],
   "source": [
    "ds_test.isnull().sum()"
   ]
  },
  {
   "cell_type": "code",
   "execution_count": 259,
   "metadata": {},
   "outputs": [],
   "source": [
    "ds_test['CITY'] = ds_test['CITY'].replace(np.nan,'Unknown')\n",
    "\n",
    "ds_test['VOTES'] = ds_test['VOTES'].fillna('20')\n",
    "\n",
    "ds_test['LOCALITY'] = ds_test['LOCALITY'].replace(np.nan,'Blank')\n",
    "\n",
    "ds_test['RATING'] = ds_test['RATING'].replace(np.nan,'3.2')"
   ]
  },
  {
   "cell_type": "code",
   "execution_count": 260,
   "metadata": {},
   "outputs": [
    {
     "data": {
      "text/plain": [
       "TITLE            0\n",
       "RESTAURANT_ID    0\n",
       "CUISINES         0\n",
       "TIME             0\n",
       "CITY             0\n",
       "LOCALITY         0\n",
       "RATING           0\n",
       "VOTES            0\n",
       "dtype: int64"
      ]
     },
     "execution_count": 260,
     "metadata": {},
     "output_type": "execute_result"
    }
   ],
   "source": [
    "ds_test.isnull().sum()"
   ]
  },
  {
   "cell_type": "code",
   "execution_count": 261,
   "metadata": {},
   "outputs": [
    {
     "data": {
      "text/plain": [
       "array(['Noida', 'Mumbai', 'Faridabad', 'Kochi', 'Hyderabad',\n",
       "       'Navi Mumbai', 'Chennai', 'New Delhi', 'Bangalore', 'Vasai Mumbai',\n",
       "       'Gurgaon', 'Palarivattom', 'Delhi', 'Ernakulam', 'Thane West',\n",
       "       'Ghaziabad', 'Chennai.', 'Thane', 'Telangana', 'Bandra West',\n",
       "       'Potheri', 'Panathur Main Road', 'Secunderabad', 'Unknown',\n",
       "       'JP Nagar', 'Near Andheri West Station',\n",
       "       'opposite to western side of ITPL Service gate', 'Kalkaji',\n",
       "       'Bengaluru', 'APR Chambers', 'Tamil Nadu 600102', 'Andheri West',\n",
       "       'India', 'Serilingampally', 'Maharashtra.', 'Gandhinagar Rd',\n",
       "       'Near Andheri East Station', 'HSR Layout', 'Greater Noida',\n",
       "       'Uttar Pradesh', 'Dwarka', 'Velachery', 'Anna Nagar West',\n",
       "       'Indiranagar', 'Whitefield', 'Kochi Ravipuram', 'Kerala 682036',\n",
       "       'Madhapur', 'Hyderabad.', 'Mira Road Thane Mumbai',\n",
       "       'India Gate New Delhi', 'Bangalore - 560095', '1st Stage',\n",
       "       'Sholinganallur. Chennai', 'Chennai (Above Bombay Brasserie)',\n",
       "       'Powai', 'Marathahalli', 'Kaloor', 'Chennai 37', 'kochi',\n",
       "       'Gurugram', '682024', 'Tripunithura', 'Kakkanad', 'Girgaum',\n",
       "       'Greater Kailash 1 (GK 1) New Delhi', 'Delhi NCR', 'Kurla (W)',\n",
       "       'Secunderabad.', 'Mumbai 400015', 'Thane West Thane West',\n",
       "       'Banjara Hills', 'Kochi Panampilly Nagar', 'Marad',\n",
       "       'Maharashtra 400092', 'Near Sector 34', 'Bengalore',\n",
       "       'Mehdipatnam Hyderabad', 'Nallagandla', 'Vandalur', 'Mulund West',\n",
       "       'Chennai 40', 'Maharashtra', 'Banglore', 'Secunderbad', 'MM Nagar',\n",
       "       'Mumbai 400070', 'Dilsukhnagar', 'Chittethukkara', 'BTM',\n",
       "       'Dombivli', 'Sahakara Nagar', 'Mohammad Ali Road Mumbai',\n",
       "       'Chennai 600040', 'Tavarekere Main Road', 'Community Centre',\n",
       "       'Kerala 682022', 'Delh.', 'Sector-6 Noida 201301',\n",
       "       'Kaaraikudi Complex', 'Thiruvanmiyur (Opp Eurokids LB Road)',\n",
       "       'Virar Mumbai', 'Bangalore.', 'Tolichowki',\n",
       "       'Kochi International Airport VIP Road', 'Hyderaba',\n",
       "       'Kerala 682305', 'Navi Mumbai.', 'Alwarpet', 'Kerala 682015',\n",
       "       'Nungambakkam', 'Gachibowli', 'Mumbai Veera Desai Area',\n",
       "       'Kerala 682018', 'Kerala 682028', 'Suraram', 'Chennai Velachery',\n",
       "       'Forum Sujana Mall Opposite to Malaysian township',\n",
       "       'Old Hafeezpet', 'Yousufguda', 'Chennai-600008',\n",
       "       'Mumbai Ulhasnagar', 'Jogeshwari West Mumbai', 'Chepauk',\n",
       "       'Chowpatty', 'Church Street', 'Balavinayagar Nagar Chennai',\n",
       "       'T-Nagar Chennai', 'RA Puram',\n",
       "       'Hyderabad.Star hypermarket opposite side Service road',\n",
       "       'Chennai Injambakkam', 'Mumbai Mumbra', 'Chennai Teynampet',\n",
       "       'Habsiguda', 'Kurla Mumbai', 'Telangana 500027', 'Chenna',\n",
       "       'Kerala 682021', 'Kandivali West', 'chennai-119', 'Kerala',\n",
       "       'Noida Extention', 'Shihab Thangal Road', 'GST Road',\n",
       "       'New Delhi 110011', 'Miumbai', 'Borivali (W) Mumbai: 400 092.',\n",
       "       'Vanasthalipuram', 'KK Road', 'Chennai - 600018', 'Karnataka',\n",
       "       'Opposite Ellora Building'], dtype=object)"
      ]
     },
     "execution_count": 261,
     "metadata": {},
     "output_type": "execute_result"
    }
   ],
   "source": [
    "ds_test['CITY'].unique()"
   ]
  },
  {
   "cell_type": "code",
   "execution_count": 262,
   "metadata": {},
   "outputs": [],
   "source": [
    "ds_test['CITY'].replace(['Bangalor','Bangalore-560066','Bengalore','Bengaluru','Banglore',\n",
    "                    '5th Main Teachers Colony Koramangala Block 1 Bangalore 560034','BTM Layout','JP Nagar Bangalore',\n",
    "                    'Whitefield Bangalore','Bangalore - 560076','Bangalore.','Banaswadi (Next to Indian Bank) Bangalore',\n",
    "                    'BTM Bangalore','Bangalore Koramangala 7th Block','bangalore : 560085','Near Jyothinivas College'\n",
    "                    'CPR layout harlur main road opposite to ozone ever green apartment Bangalore -',\n",
    "                    'Karnataka 560043','Bangalore - 560103','Banglaore','Kanakapura Road Banglore','BTM 1st Stage',\n",
    "                    'Marathahalli','Bangalore land mark above mahaveer hard ware','Phase 1 Bangalore','Bangalore 560076',\n",
    "                    'Bangalore Road','Karnataka','Karnataka 560103','SG Palya','Karnataka 560102','Karnataka 560037',\n",
    "                    'B.B.M.P East (Karnataka) - 560049','Malleshwaram Bangalore', 'Kadubesanahalli Bangalore',\n",
    "                    'Mahadevpura','NEW BEL ROAD 560054','JP Nagar','Rajarajeshwari Nagar bangalore',\n",
    "                    'Ulsoo','1st Tavarekere','Thanisandra','Indiranagar','HSR Layout','Adjacent To Commercial Street',\n",
    "                    'Vijaya Nagar','Sarjapur','Rajiv gandhi Nagar','Brigade Road','Thammenahalli Village',\n",
    "                    'Near Munrshwara Temple','Off Brigade Road','Hosur Road','Opposite Barathi Gas Company','Indirapuram',\n",
    "                    'Near Jyothinivas College','CPR layout harlur main road opposite to ozone ever green apartment Bangalore -',\n",
    "                    'Panathur Main Road','opposite to western side of ITPL Service gate','Whitefield','Bangalore - 560095',\n",
    "                    'BTM','Dombivli','Sahakara Nagar','Tavarekere Main Road'],'Bangalore',inplace=True)"
   ]
  },
  {
   "cell_type": "code",
   "execution_count": 263,
   "metadata": {},
   "outputs": [],
   "source": [
    "ds_test['CITY'].replace(['Chennai Teynampet','Tamil Nadu','Besant Nagar','Arumbakkam chennai-600106.',\n",
    "                    'Avadi', 'Velachery','Pallavaram','Chennai 600034.','Chennai - 600040', 'Perungudi',\n",
    "                    'Chennai Padur', 'Medavakkam', 'Chennai Kovalam', 'Chennai opp: Vasanth & co',  \n",
    "                    'Mogappair. Chennai', 'Chennai Perungudi', 'Chennai Thuraipakkam', 'OMR Karapakkam',\n",
    "                    'Chennai Thousand Lights',  'Chennai- 600107', 'ECR NEELANKARAI Chennai 600115',\n",
    "                    'Chennai.', 'Chennai (Bang Opposite Indian Bank)','Chennai Opposite 5C Bus stand', \n",
    "                    'Mahabalipuram', 'Chennai Mahabalipuram', 'Nungambakkam','Chennai-40',\n",
    "                    'East Coast Road (ECR)', 'Ramapuram', 'Chennai Chrompet','Nandanam','Thiruvanmiyur', \n",
    "                    'Ambattur','Chennai - 34 Landmark - Near Loyola College', 'Anna Nagar West', \n",
    "                    'Anna Salai','Chenn ai', 'Perambur', 'Vadapalani','Palavakkam','Sholinganallur',\n",
    "                    'Mogappair', 'Ashok Nagar', 'Chennai. (Near Hotel Matshya)',  'Chromepet',\n",
    "                    'chennai','Tambaram','Vadapalani', 'Anna Nagar East','Kilpauk','Potheri',\n",
    "                    'GST Road', 'Vadapalani.','Semmancheri','Dewan Rama Road','Navallur','Kolathur','Sathya Nagar',\n",
    "                    'Nallathambi Main Road','Andavar Nagar','Nallala Street','Tamil Nadu 600102','Sholinganallur. Chennai',\n",
    "                    'Chennai (Above Bombay Brasserie)','Chennai 37', 'Vandalur','Chennai 40','MM Nagar','Chennai 600040',\n",
    "                    'Kaaraikudi Complex','Thiruvanmiyur (Opp Eurokids LB Road)','Chennai Velachery','Chennai-600008','Chepauk',\n",
    "                    'Balavinayagar Nagar Chennai','RA Puram','Chennai Injambakkam','T-Nagar Chennai','Chenna','chennai-119',\n",
    "                    'Chennai - 600018'   ],'Chennai', inplace=True)"
   ]
  },
  {
   "cell_type": "code",
   "execution_count": 264,
   "metadata": {},
   "outputs": [],
   "source": [
    "ds_test['CITY'].replace(['Telagana Land Line:040-48507016', 'Telangana','Gachibowli','Kondapur', 'Madhapur',\n",
    "                    'Hyderabad Behind Vacs Pastries','Hyderabad neerus emporium.', 'Hitech City',\n",
    "                    'Telangana 500003','Hyderabad.', 'Telangana 500034','Telangana 500032',\n",
    "                    'Hyderabad-500032','Near Santosh Banjara Hyderabad','Gachibowli Hyderabad',\n",
    "                    'hyderabad', 'Telengana','Telangana 500081','Kondapur.',  'Telangana 500070',\n",
    "                    'Begumpet Hyderabad','Hyderabad Manikonda','Jubilee Hills','Madhuranagar','Kothaguda','Mehdipatnam',\n",
    "                    'Gandipet','Khairatabad','Behind Ramalayam Temple','West Maredpally','Kukatpally','Lingampally',\n",
    "                    'Kukatapally','Serilingampally','Attapur.','Dilsukhnagar','Sriram nagar','ECIL','Champapet',\n",
    "                    'Beside Excellency Gardens','Begumpet','Maharaja Hotel Beside Gardania Bar','Narayanguda',\n",
    "                    'Himayath Nagar','TCS Synergy park','Manikonda','Lahari Apartments','Haridwar Apartments','Ramanthapur',\n",
    "                    '10th avenue', 'Uppal','Nizampet','Near Reliance Fresh', 'Thykoodam', 'chullickal', 'Nedumbassery',\n",
    "                    'B-1 Stage', 'Aluva', 'Citypark', 'Aluva Circle', 'ward X11','Perumbavoor', 'Near Bharat Petroleum.',\n",
    "                    '3rd Street','Pallimukku', 'Trivandrum', 'Thevera', 'Old Railway Road','1st Stage', 'First Street',\n",
    "                    'Block F', 'Kalamassery','Veliaveetil house Vivekananda Nagar Elamakkara', 'Tripunithura',\n",
    "                    'aluva circle', 'Mig Housing Society', 'Masab Tank','APR Chambers','Mehdipatnam Hyderabad', 'Nallagandla',\n",
    "                    'Tolichowki', 'Hyderaba', 'Alwarpet','Suraram','Forum Sujana Mall Opposite to Malaysian township',\n",
    "                    'Old Hafeezpet','Yousufguda','Hyderabad.Star hypermarket opposite side Service road','Habsiguda',\n",
    "                    'Telangana 500027','Vanasthalipuram',   ],'Hyderabad',inplace=True)"
   ]
  },
  {
   "cell_type": "code",
   "execution_count": 265,
   "metadata": {},
   "outputs": [],
   "source": [
    "ds_test['CITY'].replace(['Kerala', 'Edappally','Ernakulam Circle kochi','Kochi Elamkulam','Ponnuruni Kochi', \n",
    "                    'Kochi Vyttila', 'Kochi Palarivattom','Ernakulam', 'Kochi Chullickal','Kochi-683101',\n",
    "                    'p.o Kochi','Kerala 683104','Kerala 682013','MALAPALLIPURAM P .O THRISSUR','Kochi Ravipuram',\n",
    "                    'Kerala 690525','Kochi-18','MG Road Ernakulam','Kochi Kakkanad','Kochi International Airport VIP Road',\n",
    "                    'Kerala 682001 India', 'Kerala 683585', 'Kerala 682304','Fort Kochi','Kochi Aluva 102','Kerala 682024',\n",
    "                    'Kochi','Kakkanad','Kaloor','Palarivattom','Kochi-16','682036','682035','Kadavanthra','682035.','kochi',\n",
    "                    'Vyttila','Panampilly Nagar','Elamakkara','Kochi.','Kerala 682036','682024','Kochi Panampilly Nagar',\n",
    "                    'Chittethukkara','Community Centre','Kerala 682022','Kerala 682305','Kerala 682015','Kerala 682018',\n",
    "                    'Kerala 682028','Kerala 682021','KK Road','Shihab Thangal Road'],'Kochi',inplace=True)"
   ]
  },
  {
   "cell_type": "code",
   "execution_count": 266,
   "metadata": {},
   "outputs": [],
   "source": [
    "ds_test['CITY'].replace(['Secunderabad', 'Secunderabad main road near signal NMREC COLLEGE','Secunderabad ECIL',\n",
    "                    'Secunderabad. WE HAVE NO BRANCHES.','Secunderabad.',\n",
    "                    'Metro Pillar No 21. Mettuguda main road near railway degree college.','Secunderabad','Secunderbad'],\n",
    "                    'Secunderabad',inplace=True)"
   ]
  },
  {
   "cell_type": "code",
   "execution_count": 267,
   "metadata": {},
   "outputs": [],
   "source": [
    "ds_test['CITY'].replace(['Mumbai','Navi Mumbai','Mumbai Mahim','Navi Mumbai.', 'Mumbai - 400007',\n",
    "                    'Mumbai.','Mumbai Andheri East','Mumbai Dombivali East','navi mumbai',\n",
    "                    'Mumbai - 400013','West Mumbai','Andheri west Mumbai','Mumbai Chakala',\n",
    "                    'BK Guda', 'Jogeshwari (w) Mumbai','Mumbai - 80','East Mumbai','Navi-Mumbai',\n",
    "                    'Mumbai This is a Delivery & Take-away Restaurant only.','Thane Mumbai',\n",
    "                    'Khar Mumbai','Andheri Lokhandwala','Andheri West','Andheri Lokhandwala.',\n",
    "                    'Thane','Thane West','Thane (W)','Maharashtra','Maharashtra 400102','Bandra West',\n",
    "                    'Powai','Malad East','Goregaon West','Mulund East','Powai (Next to Powai Plaza)',\n",
    "                    'Outer Ring Road','Chembur.','Dombivali East','Kandivali', 'Kalyan West','Grant Road West',\n",
    "                    'Naya Nagar Mira Road', 'Lower Parel', 'HBR Layout','Virar West','Marine Drive','Bhayandar',\n",
    "                    'Khar (west)','khar west', 'Mahim','Vasai West.','Mira raod east','Pokhran Road 2','Banjara Hills',\n",
    "                    'Borivali East.','Bandra W','Borivali West','opp mukteshwar ashram powai','Kalyan','Wagle Estate',\n",
    "                    'Badlapur West.','Lower Parel West','Mulund west','Borivali West.','Vasai west','Rajanpada',\n",
    "                    'Near Shangrilla Bus Stop', 'Road 3','Palm Beach Road','India','Vasai Mumbai','Near Andheri West Station',\n",
    "                    'Maharashtra.','Mira Road Thane Mumbai','Near Andheri East Station','Marad','Maharashtra 400092',\n",
    "                    'Kurla (W)', 'Mumbai 400015', 'Thane West Thane West','Mulund West','Mumbai 400070','Miumbai',\n",
    "                    'Mohammad Ali Road Mumbai','Virar Mumbai','Mumbai Veera Desai Area','Mumbai Ulhasnagar',\n",
    "                    'Jogeshwari West Mumbai','Chowpatty', 'Church Street','Mumbai Mumbra','Kurla Mumbai','Kandivali West',\n",
    "                    'Borivali (W) Mumbai: 400 092.','Opposite Ellora Building'],'Mumbai',inplace=True)"
   ]
  },
  {
   "cell_type": "code",
   "execution_count": 268,
   "metadata": {},
   "outputs": [],
   "source": [
    "ds_test['CITY'].replace(['New Delhi','Delhi','Chander Nagar New Delhi','New Delhi.','New Delhi-110024',\n",
    "                    'Greater Kailash 2 New Delhi','Amrit kaur market opposite new delhi railway station paharganj',\n",
    "                    'Delhi 110085','Old Delhi','New Delhi..Near by SBI bank','New Delhi 110075','Janakpuri',\n",
    "                    'Dist. Center New Delhi','opp gurudwara Shakurpur','Rohini', 'Karol Bagh','Dwarka','Pitampura',\n",
    "                    '6 & 7 - 4/64 Subhash Nagar','Sector 7 Dwarka','PVR plaza cinema building Connaught Place',\n",
    "                    'Saket','Near Ramlila Ground','IOB Bank Kamala Nagar','Ashok Vihar Phase 1','Kalkaji','Gandhinagar Rd',\n",
    "                    'India Gate New Delhi','Greater Kailash 1 (GK 1) New Delhi','Delh.','New Delhi 110011',\n",
    "                        ],'New Delhi',inplace=True)"
   ]
  },
  {
   "cell_type": "code",
   "execution_count": 269,
   "metadata": {},
   "outputs": [],
   "source": [
    "ds_test['CITY'].replace(['Noida','Sector 51 Noida','Greater Noida','Near Sector 110 Noida','Faridabad','Ghaziabad','Faridabd',\n",
    "                    'Uttar Pradesh', 'Naharpar','Vaishali Ghaziabad','Sector-6 Noida 201301','Noida Extention',\n",
    "                        ],'Delhi NCR',inplace=True)"
   ]
  },
  {
   "cell_type": "code",
   "execution_count": 270,
   "metadata": {},
   "outputs": [],
   "source": [
    "ds_test['CITY'].replace(['Gurgaon','Gurgoan','Gurgaon Haryana India','Gurgaon Haryana','MG Road','Haryana','Gurugram'\n",
    "                    'Golf Course Road','DLF Galleria','Rodeo Drive Sector 49','Sector 51','Sector 1','Golf Course Road',\n",
    "                    'Gurugram', 'Girgaum','Near Sector 34',                  ],'Gurgaon',inplace=True)"
   ]
  },
  {
   "cell_type": "code",
   "execution_count": 271,
   "metadata": {},
   "outputs": [
    {
     "data": {
      "text/plain": [
       "array(['Delhi NCR', 'Mumbai', 'Kochi', 'Hyderabad', 'Chennai',\n",
       "       'New Delhi', 'Bangalore', 'Gurgaon', 'Secunderabad', 'Unknown'],\n",
       "      dtype=object)"
      ]
     },
     "execution_count": 271,
     "metadata": {},
     "output_type": "execute_result"
    }
   ],
   "source": [
    "ds_test['CITY'].unique()"
   ]
  },
  {
   "cell_type": "code",
   "execution_count": 272,
   "metadata": {},
   "outputs": [],
   "source": [
    "# Extracting text from column\n",
    "ds_test['VOTES'] = ds_test.VOTES.str.split(expand=True,pat=\" \")\n",
    "\n",
    "ds_test['VOTES'] = ds_test['VOTES'].astype(int)"
   ]
  },
  {
   "cell_type": "code",
   "execution_count": 273,
   "metadata": {},
   "outputs": [
    {
     "data": {
      "text/plain": [
       "array(['4.3', '4.2', '3.8', '3.6', '3.7', 'NEW', '4.0', '3.4', '3.2',\n",
       "       '4.1', '3.0', '-', '3.5', '4.5', '3.9', '3.3', '2.9', '3.1', '2.5',\n",
       "       '2.8', '4.6', '4.4', '2.7', '4.8', '2.6', '4.9', '2.1', '4.7',\n",
       "       '2.3', '2.4', '2.2'], dtype=object)"
      ]
     },
     "execution_count": 273,
     "metadata": {},
     "output_type": "execute_result"
    }
   ],
   "source": [
    "ds_test['RATING'].unique()"
   ]
  },
  {
   "cell_type": "code",
   "execution_count": 274,
   "metadata": {},
   "outputs": [],
   "source": [
    "ds_test['RATING'] = ds_test['RATING'].replace('-','3.5')\n",
    "\n",
    "ds_test['RATING'] = ds_test['RATING'].replace('NEW','3.5')"
   ]
  },
  {
   "cell_type": "code",
   "execution_count": 275,
   "metadata": {},
   "outputs": [
    {
     "data": {
      "text/plain": [
       "array(['4.3', '4.2', '3.8', '3.6', '3.7', '3.5', '4.0', '3.4', '3.2',\n",
       "       '4.1', '3.0', '4.5', '3.9', '3.3', '2.9', '3.1', '2.5', '2.8',\n",
       "       '4.6', '4.4', '2.7', '4.8', '2.6', '4.9', '2.1', '4.7', '2.3',\n",
       "       '2.4', '2.2'], dtype=object)"
      ]
     },
     "execution_count": 275,
     "metadata": {},
     "output_type": "execute_result"
    }
   ],
   "source": [
    "ds_test['RATING'].unique()"
   ]
  },
  {
   "cell_type": "code",
   "execution_count": 276,
   "metadata": {},
   "outputs": [],
   "source": [
    "ds_test['RATING'] = ds_test['RATING'].astype(float)"
   ]
  },
  {
   "cell_type": "code",
   "execution_count": 277,
   "metadata": {},
   "outputs": [],
   "source": [
    "#ds_test['VOTE_RATE'] = ds_test['RATING'] * ds_test['VOTES']"
   ]
  },
  {
   "cell_type": "code",
   "execution_count": 278,
   "metadata": {},
   "outputs": [],
   "source": [
    "ds_test = ds_test.drop('TIME',axis = 1)"
   ]
  },
  {
   "cell_type": "code",
   "execution_count": 279,
   "metadata": {},
   "outputs": [],
   "source": [
    "# Extracting text from column\n",
    "ds1 = ds_test.CUISINES.str.split(expand=True,pat=\",\")"
   ]
  },
  {
   "cell_type": "code",
   "execution_count": 280,
   "metadata": {},
   "outputs": [
    {
     "data": {
      "text/html": [
       "<div>\n",
       "<style scoped>\n",
       "    .dataframe tbody tr th:only-of-type {\n",
       "        vertical-align: middle;\n",
       "    }\n",
       "\n",
       "    .dataframe tbody tr th {\n",
       "        vertical-align: top;\n",
       "    }\n",
       "\n",
       "    .dataframe thead th {\n",
       "        text-align: right;\n",
       "    }\n",
       "</style>\n",
       "<table border=\"1\" class=\"dataframe\">\n",
       "  <thead>\n",
       "    <tr style=\"text-align: right;\">\n",
       "      <th></th>\n",
       "      <th>0</th>\n",
       "      <th>1</th>\n",
       "      <th>2</th>\n",
       "      <th>3</th>\n",
       "      <th>4</th>\n",
       "      <th>5</th>\n",
       "      <th>6</th>\n",
       "      <th>7</th>\n",
       "    </tr>\n",
       "  </thead>\n",
       "  <tbody>\n",
       "    <tr>\n",
       "      <th>0</th>\n",
       "      <td>North Indian</td>\n",
       "      <td>Chinese</td>\n",
       "      <td>Mughlai</td>\n",
       "      <td>Kebab</td>\n",
       "      <td>None</td>\n",
       "      <td>None</td>\n",
       "      <td>None</td>\n",
       "      <td>None</td>\n",
       "    </tr>\n",
       "    <tr>\n",
       "      <th>1</th>\n",
       "      <td>South Indian</td>\n",
       "      <td>Fast Food</td>\n",
       "      <td>Pizza</td>\n",
       "      <td>North Indian</td>\n",
       "      <td>None</td>\n",
       "      <td>None</td>\n",
       "      <td>None</td>\n",
       "      <td>None</td>\n",
       "    </tr>\n",
       "    <tr>\n",
       "      <th>2</th>\n",
       "      <td>North Indian</td>\n",
       "      <td>Seafood</td>\n",
       "      <td>Biryani</td>\n",
       "      <td>Chinese</td>\n",
       "      <td>None</td>\n",
       "      <td>None</td>\n",
       "      <td>None</td>\n",
       "      <td>None</td>\n",
       "    </tr>\n",
       "    <tr>\n",
       "      <th>3</th>\n",
       "      <td>Biryani</td>\n",
       "      <td>None</td>\n",
       "      <td>None</td>\n",
       "      <td>None</td>\n",
       "      <td>None</td>\n",
       "      <td>None</td>\n",
       "      <td>None</td>\n",
       "      <td>None</td>\n",
       "    </tr>\n",
       "    <tr>\n",
       "      <th>4</th>\n",
       "      <td>South Indian</td>\n",
       "      <td>Kerala</td>\n",
       "      <td>None</td>\n",
       "      <td>None</td>\n",
       "      <td>None</td>\n",
       "      <td>None</td>\n",
       "      <td>None</td>\n",
       "      <td>None</td>\n",
       "    </tr>\n",
       "  </tbody>\n",
       "</table>\n",
       "</div>"
      ],
      "text/plain": [
       "              0           1         2              3     4     5     6     7\n",
       "0  North Indian     Chinese   Mughlai          Kebab  None  None  None  None\n",
       "1  South Indian   Fast Food     Pizza   North Indian  None  None  None  None\n",
       "2  North Indian     Seafood   Biryani        Chinese  None  None  None  None\n",
       "3       Biryani        None      None           None  None  None  None  None\n",
       "4  South Indian      Kerala      None           None  None  None  None  None"
      ]
     },
     "execution_count": 280,
     "metadata": {},
     "output_type": "execute_result"
    }
   ],
   "source": [
    "ds1.head()"
   ]
  },
  {
   "cell_type": "code",
   "execution_count": 281,
   "metadata": {},
   "outputs": [
    {
     "data": {
      "text/plain": [
       "0       0\n",
       "1     985\n",
       "2    2331\n",
       "3    3314\n",
       "4    3875\n",
       "5    4094\n",
       "6    4157\n",
       "7    4200\n",
       "dtype: int64"
      ]
     },
     "execution_count": 281,
     "metadata": {},
     "output_type": "execute_result"
    }
   ],
   "source": [
    "ds1.isnull().sum()"
   ]
  },
  {
   "cell_type": "code",
   "execution_count": 282,
   "metadata": {},
   "outputs": [],
   "source": [
    "ds1= ds1.replace(np.nan,'Blank')"
   ]
  },
  {
   "cell_type": "code",
   "execution_count": 283,
   "metadata": {},
   "outputs": [
    {
     "data": {
      "text/html": [
       "<div>\n",
       "<style scoped>\n",
       "    .dataframe tbody tr th:only-of-type {\n",
       "        vertical-align: middle;\n",
       "    }\n",
       "\n",
       "    .dataframe tbody tr th {\n",
       "        vertical-align: top;\n",
       "    }\n",
       "\n",
       "    .dataframe thead th {\n",
       "        text-align: right;\n",
       "    }\n",
       "</style>\n",
       "<table border=\"1\" class=\"dataframe\">\n",
       "  <thead>\n",
       "    <tr style=\"text-align: right;\">\n",
       "      <th></th>\n",
       "      <th>0</th>\n",
       "      <th>1</th>\n",
       "      <th>2</th>\n",
       "      <th>3</th>\n",
       "      <th>4</th>\n",
       "      <th>5</th>\n",
       "      <th>6</th>\n",
       "      <th>7</th>\n",
       "    </tr>\n",
       "  </thead>\n",
       "  <tbody>\n",
       "    <tr>\n",
       "      <th>0</th>\n",
       "      <td>North Indian</td>\n",
       "      <td>Chinese</td>\n",
       "      <td>Mughlai</td>\n",
       "      <td>Kebab</td>\n",
       "      <td>Blank</td>\n",
       "      <td>Blank</td>\n",
       "      <td>Blank</td>\n",
       "      <td>Blank</td>\n",
       "    </tr>\n",
       "    <tr>\n",
       "      <th>1</th>\n",
       "      <td>South Indian</td>\n",
       "      <td>Fast Food</td>\n",
       "      <td>Pizza</td>\n",
       "      <td>North Indian</td>\n",
       "      <td>Blank</td>\n",
       "      <td>Blank</td>\n",
       "      <td>Blank</td>\n",
       "      <td>Blank</td>\n",
       "    </tr>\n",
       "    <tr>\n",
       "      <th>2</th>\n",
       "      <td>North Indian</td>\n",
       "      <td>Seafood</td>\n",
       "      <td>Biryani</td>\n",
       "      <td>Chinese</td>\n",
       "      <td>Blank</td>\n",
       "      <td>Blank</td>\n",
       "      <td>Blank</td>\n",
       "      <td>Blank</td>\n",
       "    </tr>\n",
       "    <tr>\n",
       "      <th>3</th>\n",
       "      <td>Biryani</td>\n",
       "      <td>Blank</td>\n",
       "      <td>Blank</td>\n",
       "      <td>Blank</td>\n",
       "      <td>Blank</td>\n",
       "      <td>Blank</td>\n",
       "      <td>Blank</td>\n",
       "      <td>Blank</td>\n",
       "    </tr>\n",
       "    <tr>\n",
       "      <th>4</th>\n",
       "      <td>South Indian</td>\n",
       "      <td>Kerala</td>\n",
       "      <td>Blank</td>\n",
       "      <td>Blank</td>\n",
       "      <td>Blank</td>\n",
       "      <td>Blank</td>\n",
       "      <td>Blank</td>\n",
       "      <td>Blank</td>\n",
       "    </tr>\n",
       "  </tbody>\n",
       "</table>\n",
       "</div>"
      ],
      "text/plain": [
       "              0           1         2              3      4      5      6  \\\n",
       "0  North Indian     Chinese   Mughlai          Kebab  Blank  Blank  Blank   \n",
       "1  South Indian   Fast Food     Pizza   North Indian  Blank  Blank  Blank   \n",
       "2  North Indian     Seafood   Biryani        Chinese  Blank  Blank  Blank   \n",
       "3       Biryani       Blank     Blank          Blank  Blank  Blank  Blank   \n",
       "4  South Indian      Kerala     Blank          Blank  Blank  Blank  Blank   \n",
       "\n",
       "       7  \n",
       "0  Blank  \n",
       "1  Blank  \n",
       "2  Blank  \n",
       "3  Blank  \n",
       "4  Blank  "
      ]
     },
     "execution_count": 283,
     "metadata": {},
     "output_type": "execute_result"
    }
   ],
   "source": [
    "ds1.head()"
   ]
  },
  {
   "cell_type": "code",
   "execution_count": 284,
   "metadata": {},
   "outputs": [],
   "source": [
    "from sklearn.preprocessing import LabelEncoder"
   ]
  },
  {
   "cell_type": "code",
   "execution_count": 285,
   "metadata": {},
   "outputs": [],
   "source": [
    "le = LabelEncoder()\n",
    "\n",
    "for column in ds1.columns:\n",
    "    if ds1[column].dtype == np.number:\n",
    "        continue\n",
    "    ds1[column] = le.fit_transform(ds1[column])"
   ]
  },
  {
   "cell_type": "code",
   "execution_count": 286,
   "metadata": {},
   "outputs": [],
   "source": [
    "ds1 = ds1.astype(int)"
   ]
  },
  {
   "cell_type": "code",
   "execution_count": 287,
   "metadata": {},
   "outputs": [],
   "source": [
    "# Extracting text from column\n",
    "ds2 = ds_test.TITLE.str.split(expand=True,pat=\",\")"
   ]
  },
  {
   "cell_type": "code",
   "execution_count": 288,
   "metadata": {},
   "outputs": [],
   "source": [
    "ds2= ds2.replace(np.nan,'Blank')"
   ]
  },
  {
   "cell_type": "code",
   "execution_count": 289,
   "metadata": {},
   "outputs": [],
   "source": [
    "le = LabelEncoder()\n",
    "\n",
    "for column in ds2.columns:\n",
    "    if ds2[column].dtype == np.number:\n",
    "        continue\n",
    "    ds2[column] = le.fit_transform(ds2[column])"
   ]
  },
  {
   "cell_type": "code",
   "execution_count": 290,
   "metadata": {},
   "outputs": [],
   "source": [
    "ds2 = ds2.astype(int)\n",
    "\n",
    "ds_test = ds_test.drop(['TITLE','CUISINES'],axis=1)"
   ]
  },
  {
   "cell_type": "code",
   "execution_count": 291,
   "metadata": {},
   "outputs": [
    {
     "data": {
      "text/html": [
       "<div>\n",
       "<style scoped>\n",
       "    .dataframe tbody tr th:only-of-type {\n",
       "        vertical-align: middle;\n",
       "    }\n",
       "\n",
       "    .dataframe tbody tr th {\n",
       "        vertical-align: top;\n",
       "    }\n",
       "\n",
       "    .dataframe thead th {\n",
       "        text-align: right;\n",
       "    }\n",
       "</style>\n",
       "<table border=\"1\" class=\"dataframe\">\n",
       "  <thead>\n",
       "    <tr style=\"text-align: right;\">\n",
       "      <th></th>\n",
       "      <th>RESTAURANT_ID</th>\n",
       "      <th>CITY</th>\n",
       "      <th>LOCALITY</th>\n",
       "      <th>RATING</th>\n",
       "      <th>VOTES</th>\n",
       "      <th>0</th>\n",
       "      <th>1</th>\n",
       "      <th>2</th>\n",
       "      <th>3</th>\n",
       "      <th>4</th>\n",
       "      <th>5</th>\n",
       "      <th>6</th>\n",
       "      <th>7</th>\n",
       "      <th>0</th>\n",
       "      <th>1</th>\n",
       "    </tr>\n",
       "  </thead>\n",
       "  <tbody>\n",
       "    <tr>\n",
       "      <th>0</th>\n",
       "      <td>4085</td>\n",
       "      <td>Delhi NCR</td>\n",
       "      <td>Sector 18</td>\n",
       "      <td>4.3</td>\n",
       "      <td>564</td>\n",
       "      <td>60</td>\n",
       "      <td>19</td>\n",
       "      <td>56</td>\n",
       "      <td>33</td>\n",
       "      <td>57</td>\n",
       "      <td>42</td>\n",
       "      <td>34</td>\n",
       "      <td>7</td>\n",
       "      <td>5</td>\n",
       "      <td>3</td>\n",
       "    </tr>\n",
       "    <tr>\n",
       "      <th>1</th>\n",
       "      <td>12680</td>\n",
       "      <td>Mumbai</td>\n",
       "      <td>Grant Road</td>\n",
       "      <td>4.2</td>\n",
       "      <td>61</td>\n",
       "      <td>73</td>\n",
       "      <td>24</td>\n",
       "      <td>61</td>\n",
       "      <td>49</td>\n",
       "      <td>57</td>\n",
       "      <td>42</td>\n",
       "      <td>34</td>\n",
       "      <td>7</td>\n",
       "      <td>22</td>\n",
       "      <td>3</td>\n",
       "    </tr>\n",
       "    <tr>\n",
       "      <th>2</th>\n",
       "      <td>1411</td>\n",
       "      <td>Mumbai</td>\n",
       "      <td>Marine Lines</td>\n",
       "      <td>3.8</td>\n",
       "      <td>350</td>\n",
       "      <td>60</td>\n",
       "      <td>69</td>\n",
       "      <td>13</td>\n",
       "      <td>15</td>\n",
       "      <td>57</td>\n",
       "      <td>42</td>\n",
       "      <td>34</td>\n",
       "      <td>7</td>\n",
       "      <td>5</td>\n",
       "      <td>3</td>\n",
       "    </tr>\n",
       "    <tr>\n",
       "      <th>3</th>\n",
       "      <td>204</td>\n",
       "      <td>Delhi NCR</td>\n",
       "      <td>NIT</td>\n",
       "      <td>3.8</td>\n",
       "      <td>1445</td>\n",
       "      <td>12</td>\n",
       "      <td>81</td>\n",
       "      <td>80</td>\n",
       "      <td>68</td>\n",
       "      <td>57</td>\n",
       "      <td>42</td>\n",
       "      <td>34</td>\n",
       "      <td>7</td>\n",
       "      <td>19</td>\n",
       "      <td>3</td>\n",
       "    </tr>\n",
       "    <tr>\n",
       "      <th>4</th>\n",
       "      <td>13453</td>\n",
       "      <td>Kochi</td>\n",
       "      <td>Kaloor</td>\n",
       "      <td>3.6</td>\n",
       "      <td>23</td>\n",
       "      <td>73</td>\n",
       "      <td>42</td>\n",
       "      <td>80</td>\n",
       "      <td>68</td>\n",
       "      <td>57</td>\n",
       "      <td>42</td>\n",
       "      <td>34</td>\n",
       "      <td>7</td>\n",
       "      <td>22</td>\n",
       "      <td>3</td>\n",
       "    </tr>\n",
       "  </tbody>\n",
       "</table>\n",
       "</div>"
      ],
      "text/plain": [
       "   RESTAURANT_ID       CITY      LOCALITY  RATING  VOTES   0   1   2   3   4  \\\n",
       "0           4085  Delhi NCR     Sector 18     4.3    564  60  19  56  33  57   \n",
       "1          12680     Mumbai    Grant Road     4.2     61  73  24  61  49  57   \n",
       "2           1411     Mumbai  Marine Lines     3.8    350  60  69  13  15  57   \n",
       "3            204  Delhi NCR           NIT     3.8   1445  12  81  80  68  57   \n",
       "4          13453      Kochi        Kaloor     3.6     23  73  42  80  68  57   \n",
       "\n",
       "    5   6  7   0  1  \n",
       "0  42  34  7   5  3  \n",
       "1  42  34  7  22  3  \n",
       "2  42  34  7   5  3  \n",
       "3  42  34  7  19  3  \n",
       "4  42  34  7  22  3  "
      ]
     },
     "execution_count": 291,
     "metadata": {},
     "output_type": "execute_result"
    }
   ],
   "source": [
    "ds_test = pd.concat([ds_test,ds1,ds2],axis=1)\n",
    "\n",
    "ds_test.head()"
   ]
  },
  {
   "cell_type": "code",
   "execution_count": 296,
   "metadata": {},
   "outputs": [],
   "source": [
    "le = LabelEncoder()\n",
    "\n",
    "ds_test['CITY'] = le.fit_transform(ds_test['CITY'])\n",
    "ds_test['LOCALITY'] = le.fit_transform(ds_test['LOCALITY'])"
   ]
  },
  {
   "cell_type": "code",
   "execution_count": 297,
   "metadata": {},
   "outputs": [
    {
     "data": {
      "text/plain": [
       "RESTAURANT_ID     0.006586\n",
       "CITY             -0.096733\n",
       "LOCALITY          0.312096\n",
       "RATING            0.055090\n",
       "VOTES             7.067562\n",
       "0                -0.047693\n",
       "1                 0.019973\n",
       "2                -0.872745\n",
       "3                -2.078171\n",
       "4                -3.995922\n",
       "5                -6.730360\n",
       "6                -9.161265\n",
       "7               -12.166253\n",
       "0                 0.078593\n",
       "1                 4.640066\n",
       "dtype: float64"
      ]
     },
     "execution_count": 297,
     "metadata": {},
     "output_type": "execute_result"
    }
   ],
   "source": [
    "ds_test = ds_test.astype(int)\n",
    "\n",
    "ds_test.skew()"
   ]
  },
  {
   "cell_type": "code",
   "execution_count": 298,
   "metadata": {},
   "outputs": [
    {
     "data": {
      "text/html": [
       "<div>\n",
       "<style scoped>\n",
       "    .dataframe tbody tr th:only-of-type {\n",
       "        vertical-align: middle;\n",
       "    }\n",
       "\n",
       "    .dataframe tbody tr th {\n",
       "        vertical-align: top;\n",
       "    }\n",
       "\n",
       "    .dataframe thead th {\n",
       "        text-align: right;\n",
       "    }\n",
       "</style>\n",
       "<table border=\"1\" class=\"dataframe\">\n",
       "  <thead>\n",
       "    <tr style=\"text-align: right;\">\n",
       "      <th></th>\n",
       "      <th>RESTAURANT_ID</th>\n",
       "      <th>CITY</th>\n",
       "      <th>LOCALITY</th>\n",
       "      <th>RATING</th>\n",
       "      <th>VOTES</th>\n",
       "      <th>0</th>\n",
       "      <th>1</th>\n",
       "      <th>2</th>\n",
       "      <th>3</th>\n",
       "      <th>4</th>\n",
       "      <th>5</th>\n",
       "      <th>6</th>\n",
       "      <th>7</th>\n",
       "      <th>0</th>\n",
       "      <th>1</th>\n",
       "    </tr>\n",
       "  </thead>\n",
       "  <tbody>\n",
       "    <tr>\n",
       "      <th>0</th>\n",
       "      <td>4085</td>\n",
       "      <td>2</td>\n",
       "      <td>663</td>\n",
       "      <td>4</td>\n",
       "      <td>564</td>\n",
       "      <td>60</td>\n",
       "      <td>19</td>\n",
       "      <td>56</td>\n",
       "      <td>33</td>\n",
       "      <td>57</td>\n",
       "      <td>42</td>\n",
       "      <td>34</td>\n",
       "      <td>7</td>\n",
       "      <td>5</td>\n",
       "      <td>3</td>\n",
       "    </tr>\n",
       "    <tr>\n",
       "      <th>1</th>\n",
       "      <td>12680</td>\n",
       "      <td>6</td>\n",
       "      <td>222</td>\n",
       "      <td>4</td>\n",
       "      <td>61</td>\n",
       "      <td>73</td>\n",
       "      <td>24</td>\n",
       "      <td>61</td>\n",
       "      <td>49</td>\n",
       "      <td>57</td>\n",
       "      <td>42</td>\n",
       "      <td>34</td>\n",
       "      <td>7</td>\n",
       "      <td>22</td>\n",
       "      <td>3</td>\n",
       "    </tr>\n",
       "    <tr>\n",
       "      <th>2</th>\n",
       "      <td>1411</td>\n",
       "      <td>6</td>\n",
       "      <td>412</td>\n",
       "      <td>3</td>\n",
       "      <td>350</td>\n",
       "      <td>60</td>\n",
       "      <td>69</td>\n",
       "      <td>13</td>\n",
       "      <td>15</td>\n",
       "      <td>57</td>\n",
       "      <td>42</td>\n",
       "      <td>34</td>\n",
       "      <td>7</td>\n",
       "      <td>5</td>\n",
       "      <td>3</td>\n",
       "    </tr>\n",
       "    <tr>\n",
       "      <th>3</th>\n",
       "      <td>204</td>\n",
       "      <td>2</td>\n",
       "      <td>457</td>\n",
       "      <td>3</td>\n",
       "      <td>1445</td>\n",
       "      <td>12</td>\n",
       "      <td>81</td>\n",
       "      <td>80</td>\n",
       "      <td>68</td>\n",
       "      <td>57</td>\n",
       "      <td>42</td>\n",
       "      <td>34</td>\n",
       "      <td>7</td>\n",
       "      <td>19</td>\n",
       "      <td>3</td>\n",
       "    </tr>\n",
       "    <tr>\n",
       "      <th>4</th>\n",
       "      <td>13453</td>\n",
       "      <td>5</td>\n",
       "      <td>301</td>\n",
       "      <td>3</td>\n",
       "      <td>23</td>\n",
       "      <td>73</td>\n",
       "      <td>42</td>\n",
       "      <td>80</td>\n",
       "      <td>68</td>\n",
       "      <td>57</td>\n",
       "      <td>42</td>\n",
       "      <td>34</td>\n",
       "      <td>7</td>\n",
       "      <td>22</td>\n",
       "      <td>3</td>\n",
       "    </tr>\n",
       "  </tbody>\n",
       "</table>\n",
       "</div>"
      ],
      "text/plain": [
       "   RESTAURANT_ID  CITY  LOCALITY  RATING  VOTES   0   1   2   3   4   5   6  \\\n",
       "0           4085     2       663       4    564  60  19  56  33  57  42  34   \n",
       "1          12680     6       222       4     61  73  24  61  49  57  42  34   \n",
       "2           1411     6       412       3    350  60  69  13  15  57  42  34   \n",
       "3            204     2       457       3   1445  12  81  80  68  57  42  34   \n",
       "4          13453     5       301       3     23  73  42  80  68  57  42  34   \n",
       "\n",
       "   7   0  1  \n",
       "0  7   5  3  \n",
       "1  7  22  3  \n",
       "2  7   5  3  \n",
       "3  7  19  3  \n",
       "4  7  22  3  "
      ]
     },
     "execution_count": 298,
     "metadata": {},
     "output_type": "execute_result"
    }
   ],
   "source": [
    "ds_test.head()"
   ]
  },
  {
   "cell_type": "code",
   "execution_count": 299,
   "metadata": {},
   "outputs": [],
   "source": [
    "from sklearn.preprocessing import power_transform\n",
    "\n",
    "ds_test = power_transform(ds_test,method='yeo-johnson')"
   ]
  },
  {
   "cell_type": "code",
   "execution_count": 300,
   "metadata": {},
   "outputs": [],
   "source": [
    "sc=StandardScaler()\n",
    "\n",
    "ds_test=sc.fit_transform(ds_test)"
   ]
  },
  {
   "cell_type": "code",
   "execution_count": 301,
   "metadata": {},
   "outputs": [],
   "source": [
    "# Load the Model for testing\n",
    "final_model= pickle.load(open('Foodprice_train.pkl', \"rb\"))"
   ]
  },
  {
   "cell_type": "code",
   "execution_count": 302,
   "metadata": {},
   "outputs": [],
   "source": [
    "final_test = final_model.predict(ds_test)"
   ]
  },
  {
   "cell_type": "code",
   "execution_count": 303,
   "metadata": {},
   "outputs": [
    {
     "data": {
      "text/plain": [
       "array([1063.59884653,  382.64285714,  668.69888261, ...,  366.11428571,\n",
       "        293.86428571,  348.96581197])"
      ]
     },
     "execution_count": 303,
     "metadata": {},
     "output_type": "execute_result"
    }
   ],
   "source": [
    "final_test"
   ]
  }
 ],
 "metadata": {
  "kernelspec": {
   "display_name": "Python 3",
   "language": "python",
   "name": "python3"
  },
  "language_info": {
   "codemirror_mode": {
    "name": "ipython",
    "version": 3
   },
   "file_extension": ".py",
   "mimetype": "text/x-python",
   "name": "python",
   "nbconvert_exporter": "python",
   "pygments_lexer": "ipython3",
   "version": "3.8.5"
  }
 },
 "nbformat": 4,
 "nbformat_minor": 4
}
